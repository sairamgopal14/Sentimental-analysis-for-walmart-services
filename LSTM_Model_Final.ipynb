{
  "nbformat": 4,
  "nbformat_minor": 0,
  "metadata": {
    "colab": {
      "provenance": [],
      "collapsed_sections": [
        "c9_5H0XL2Euq"
      ]
    },
    "kernelspec": {
      "name": "python3",
      "display_name": "Python 3"
    },
    "language_info": {
      "name": "python"
    }
  },
  "cells": [
    {
      "cell_type": "markdown",
      "source": [
        "**E-COMMERCE SERVICE REVIEW - SENTIMENT ANALYSIS**"
      ],
      "metadata": {
        "id": "U7wU2JSs7Ahf"
      }
    },
    {
      "cell_type": "markdown",
      "source": [
        "Import the necessary libraries"
      ],
      "metadata": {
        "id": "VxIhqkRt7ETH"
      }
    },
    {
      "cell_type": "code",
      "execution_count": null,
      "metadata": {
        "colab": {
          "base_uri": "https://localhost:8080/"
        },
        "id": "lXlzKNj264bn",
        "outputId": "2e60a6ab-5ce1-4734-d529-7f085e93970d"
      },
      "outputs": [
        {
          "output_type": "stream",
          "name": "stderr",
          "text": [
            "[nltk_data] Downloading package stopwords to /root/nltk_data...\n",
            "[nltk_data]   Package stopwords is already up-to-date!\n"
          ]
        }
      ],
      "source": [
        "import numpy as np\n",
        "import pandas as pd\n",
        "import matplotlib.pyplot as plt\n",
        "import seaborn as sns\n",
        "import nltk\n",
        "from nltk.stem.porter import PorterStemmer\n",
        "nltk.download('stopwords')\n",
        "from nltk.corpus import stopwords\n",
        "STOPWORDS = set(stopwords.words('english'))\n",
        "\n",
        "from sklearn.model_selection import train_test_split\n",
        "from sklearn.preprocessing import MinMaxScaler\n",
        "from sklearn.feature_extraction.text import CountVectorizer\n",
        "from sklearn.feature_extraction.text import TfidfVectorizer\n",
        "from sklearn.model_selection import cross_val_score\n",
        "from sklearn.ensemble import RandomForestClassifier\n",
        "from sklearn.metrics import confusion_matrix, ConfusionMatrixDisplay\n",
        "from sklearn.model_selection import GridSearchCV\n",
        "from sklearn.model_selection import StratifiedKFold\n",
        "from sklearn.metrics import accuracy_score\n",
        "from sklearn.linear_model import LogisticRegression\n",
        "from wordcloud import WordCloud\n",
        "from sklearn.tree import DecisionTreeClassifier\n",
        "from xgboost import XGBClassifier\n",
        "import pickle\n",
        "import re"
      ]
    },
    {
      "cell_type": "code",
      "source": [
        "print(stopwords.words('english'))"
      ],
      "metadata": {
        "colab": {
          "base_uri": "https://localhost:8080/"
        },
        "id": "XWaOdFrF7KS3",
        "outputId": "69ec3a98-320c-43b2-8676-8ea275c9d4c7"
      },
      "execution_count": null,
      "outputs": [
        {
          "output_type": "stream",
          "name": "stdout",
          "text": [
            "['i', 'me', 'my', 'myself', 'we', 'our', 'ours', 'ourselves', 'you', \"you're\", \"you've\", \"you'll\", \"you'd\", 'your', 'yours', 'yourself', 'yourselves', 'he', 'him', 'his', 'himself', 'she', \"she's\", 'her', 'hers', 'herself', 'it', \"it's\", 'its', 'itself', 'they', 'them', 'their', 'theirs', 'themselves', 'what', 'which', 'who', 'whom', 'this', 'that', \"that'll\", 'these', 'those', 'am', 'is', 'are', 'was', 'were', 'be', 'been', 'being', 'have', 'has', 'had', 'having', 'do', 'does', 'did', 'doing', 'a', 'an', 'the', 'and', 'but', 'if', 'or', 'because', 'as', 'until', 'while', 'of', 'at', 'by', 'for', 'with', 'about', 'against', 'between', 'into', 'through', 'during', 'before', 'after', 'above', 'below', 'to', 'from', 'up', 'down', 'in', 'out', 'on', 'off', 'over', 'under', 'again', 'further', 'then', 'once', 'here', 'there', 'when', 'where', 'why', 'how', 'all', 'any', 'both', 'each', 'few', 'more', 'most', 'other', 'some', 'such', 'no', 'nor', 'not', 'only', 'own', 'same', 'so', 'than', 'too', 'very', 's', 't', 'can', 'will', 'just', 'don', \"don't\", 'should', \"should've\", 'now', 'd', 'll', 'm', 'o', 're', 've', 'y', 'ain', 'aren', \"aren't\", 'couldn', \"couldn't\", 'didn', \"didn't\", 'doesn', \"doesn't\", 'hadn', \"hadn't\", 'hasn', \"hasn't\", 'haven', \"haven't\", 'isn', \"isn't\", 'ma', 'mightn', \"mightn't\", 'mustn', \"mustn't\", 'needn', \"needn't\", 'shan', \"shan't\", 'shouldn', \"shouldn't\", 'wasn', \"wasn't\", 'weren', \"weren't\", 'won', \"won't\", 'wouldn', \"wouldn't\"]\n"
          ]
        }
      ]
    },
    {
      "cell_type": "markdown",
      "source": [
        "**Data Processing**"
      ],
      "metadata": {
        "id": "4QB_ZugA7Nao"
      }
    },
    {
      "cell_type": "code",
      "source": [
        "#Load the data\n",
        "\n",
        "data = pd.read_csv(\"/content/reviews1.csv\", encoding ='ISO-8859-1')"
      ],
      "metadata": {
        "id": "DXslyhYl7LFH"
      },
      "execution_count": null,
      "outputs": []
    },
    {
      "cell_type": "code",
      "source": [
        "data.shape"
      ],
      "metadata": {
        "colab": {
          "base_uri": "https://localhost:8080/"
        },
        "id": "UQwVTowB7ZnG",
        "outputId": "35f17bb1-07d9-4e08-9c8d-57218783ef40"
      },
      "execution_count": null,
      "outputs": [
        {
          "output_type": "execute_result",
          "data": {
            "text/plain": [
              "(2880, 7)"
            ]
          },
          "metadata": {},
          "execution_count": 4
        }
      ]
    },
    {
      "cell_type": "code",
      "source": [
        "data.head()"
      ],
      "metadata": {
        "colab": {
          "base_uri": "https://localhost:8080/",
          "height": 206
        },
        "id": "95mr5QEv7cvS",
        "outputId": "038790cd-202e-489d-94aa-d9d6e35620b8"
      },
      "execution_count": null,
      "outputs": [
        {
          "output_type": "execute_result",
          "data": {
            "text/plain": [
              "              Username Total reviews Location                      Date  \\\n",
              "0              Richard   37K reviews       US  2025-02-14T22:43:05.000Z   \n",
              "1        Ronald Mitzel  3.6K reviews       US  2025-02-14T06:03:30.000Z   \n",
              "2  Armando Garcia Luna   14K reviews       US  2025-02-12T03:01:21.000Z   \n",
              "3       Jessica Laurie      3reviews       US  2025-02-14T03:06:45.000Z   \n",
              "4           Mike Doyle       1review       US  2025-02-14T21:37:21.000Z   \n",
              "\n",
              "                                              Review  Rating feeling  \n",
              "0  Just when you thought Customer Disservice coul...       1   anger  \n",
              "1  Worst delivery of any store in the United Stat...       1   anger  \n",
              "2  Poor customer service & ScamPoor customer serv...       1   anger  \n",
              "3  WalmartWalmart.  Where do I even begin?  It's ...       1   anger  \n",
              "4  I bought a cellphone from an OSLI bought a cel...       1   anger  "
            ],
            "text/html": [
              "\n",
              "  <div id=\"df-dce56ddb-e98d-4e40-bc6a-644d1ae53e68\" class=\"colab-df-container\">\n",
              "    <div>\n",
              "<style scoped>\n",
              "    .dataframe tbody tr th:only-of-type {\n",
              "        vertical-align: middle;\n",
              "    }\n",
              "\n",
              "    .dataframe tbody tr th {\n",
              "        vertical-align: top;\n",
              "    }\n",
              "\n",
              "    .dataframe thead th {\n",
              "        text-align: right;\n",
              "    }\n",
              "</style>\n",
              "<table border=\"1\" class=\"dataframe\">\n",
              "  <thead>\n",
              "    <tr style=\"text-align: right;\">\n",
              "      <th></th>\n",
              "      <th>Username</th>\n",
              "      <th>Total reviews</th>\n",
              "      <th>Location</th>\n",
              "      <th>Date</th>\n",
              "      <th>Review</th>\n",
              "      <th>Rating</th>\n",
              "      <th>feeling</th>\n",
              "    </tr>\n",
              "  </thead>\n",
              "  <tbody>\n",
              "    <tr>\n",
              "      <th>0</th>\n",
              "      <td>Richard</td>\n",
              "      <td>37K reviews</td>\n",
              "      <td>US</td>\n",
              "      <td>2025-02-14T22:43:05.000Z</td>\n",
              "      <td>Just when you thought Customer Disservice coul...</td>\n",
              "      <td>1</td>\n",
              "      <td>anger</td>\n",
              "    </tr>\n",
              "    <tr>\n",
              "      <th>1</th>\n",
              "      <td>Ronald Mitzel</td>\n",
              "      <td>3.6K reviews</td>\n",
              "      <td>US</td>\n",
              "      <td>2025-02-14T06:03:30.000Z</td>\n",
              "      <td>Worst delivery of any store in the United Stat...</td>\n",
              "      <td>1</td>\n",
              "      <td>anger</td>\n",
              "    </tr>\n",
              "    <tr>\n",
              "      <th>2</th>\n",
              "      <td>Armando Garcia Luna</td>\n",
              "      <td>14K reviews</td>\n",
              "      <td>US</td>\n",
              "      <td>2025-02-12T03:01:21.000Z</td>\n",
              "      <td>Poor customer service &amp; ScamPoor customer serv...</td>\n",
              "      <td>1</td>\n",
              "      <td>anger</td>\n",
              "    </tr>\n",
              "    <tr>\n",
              "      <th>3</th>\n",
              "      <td>Jessica Laurie</td>\n",
              "      <td>3reviews</td>\n",
              "      <td>US</td>\n",
              "      <td>2025-02-14T03:06:45.000Z</td>\n",
              "      <td>WalmartWalmart.  Where do I even begin?  It's ...</td>\n",
              "      <td>1</td>\n",
              "      <td>anger</td>\n",
              "    </tr>\n",
              "    <tr>\n",
              "      <th>4</th>\n",
              "      <td>Mike Doyle</td>\n",
              "      <td>1review</td>\n",
              "      <td>US</td>\n",
              "      <td>2025-02-14T21:37:21.000Z</td>\n",
              "      <td>I bought a cellphone from an OSLI bought a cel...</td>\n",
              "      <td>1</td>\n",
              "      <td>anger</td>\n",
              "    </tr>\n",
              "  </tbody>\n",
              "</table>\n",
              "</div>\n",
              "    <div class=\"colab-df-buttons\">\n",
              "\n",
              "  <div class=\"colab-df-container\">\n",
              "    <button class=\"colab-df-convert\" onclick=\"convertToInteractive('df-dce56ddb-e98d-4e40-bc6a-644d1ae53e68')\"\n",
              "            title=\"Convert this dataframe to an interactive table.\"\n",
              "            style=\"display:none;\">\n",
              "\n",
              "  <svg xmlns=\"http://www.w3.org/2000/svg\" height=\"24px\" viewBox=\"0 -960 960 960\">\n",
              "    <path d=\"M120-120v-720h720v720H120Zm60-500h600v-160H180v160Zm220 220h160v-160H400v160Zm0 220h160v-160H400v160ZM180-400h160v-160H180v160Zm440 0h160v-160H620v160ZM180-180h160v-160H180v160Zm440 0h160v-160H620v160Z\"/>\n",
              "  </svg>\n",
              "    </button>\n",
              "\n",
              "  <style>\n",
              "    .colab-df-container {\n",
              "      display:flex;\n",
              "      gap: 12px;\n",
              "    }\n",
              "\n",
              "    .colab-df-convert {\n",
              "      background-color: #E8F0FE;\n",
              "      border: none;\n",
              "      border-radius: 50%;\n",
              "      cursor: pointer;\n",
              "      display: none;\n",
              "      fill: #1967D2;\n",
              "      height: 32px;\n",
              "      padding: 0 0 0 0;\n",
              "      width: 32px;\n",
              "    }\n",
              "\n",
              "    .colab-df-convert:hover {\n",
              "      background-color: #E2EBFA;\n",
              "      box-shadow: 0px 1px 2px rgba(60, 64, 67, 0.3), 0px 1px 3px 1px rgba(60, 64, 67, 0.15);\n",
              "      fill: #174EA6;\n",
              "    }\n",
              "\n",
              "    .colab-df-buttons div {\n",
              "      margin-bottom: 4px;\n",
              "    }\n",
              "\n",
              "    [theme=dark] .colab-df-convert {\n",
              "      background-color: #3B4455;\n",
              "      fill: #D2E3FC;\n",
              "    }\n",
              "\n",
              "    [theme=dark] .colab-df-convert:hover {\n",
              "      background-color: #434B5C;\n",
              "      box-shadow: 0px 1px 3px 1px rgba(0, 0, 0, 0.15);\n",
              "      filter: drop-shadow(0px 1px 2px rgba(0, 0, 0, 0.3));\n",
              "      fill: #FFFFFF;\n",
              "    }\n",
              "  </style>\n",
              "\n",
              "    <script>\n",
              "      const buttonEl =\n",
              "        document.querySelector('#df-dce56ddb-e98d-4e40-bc6a-644d1ae53e68 button.colab-df-convert');\n",
              "      buttonEl.style.display =\n",
              "        google.colab.kernel.accessAllowed ? 'block' : 'none';\n",
              "\n",
              "      async function convertToInteractive(key) {\n",
              "        const element = document.querySelector('#df-dce56ddb-e98d-4e40-bc6a-644d1ae53e68');\n",
              "        const dataTable =\n",
              "          await google.colab.kernel.invokeFunction('convertToInteractive',\n",
              "                                                    [key], {});\n",
              "        if (!dataTable) return;\n",
              "\n",
              "        const docLinkHtml = 'Like what you see? Visit the ' +\n",
              "          '<a target=\"_blank\" href=https://colab.research.google.com/notebooks/data_table.ipynb>data table notebook</a>'\n",
              "          + ' to learn more about interactive tables.';\n",
              "        element.innerHTML = '';\n",
              "        dataTable['output_type'] = 'display_data';\n",
              "        await google.colab.output.renderOutput(dataTable, element);\n",
              "        const docLink = document.createElement('div');\n",
              "        docLink.innerHTML = docLinkHtml;\n",
              "        element.appendChild(docLink);\n",
              "      }\n",
              "    </script>\n",
              "  </div>\n",
              "\n",
              "\n",
              "<div id=\"df-97084855-4ea2-4c05-be99-9f4e59eb7c2d\">\n",
              "  <button class=\"colab-df-quickchart\" onclick=\"quickchart('df-97084855-4ea2-4c05-be99-9f4e59eb7c2d')\"\n",
              "            title=\"Suggest charts\"\n",
              "            style=\"display:none;\">\n",
              "\n",
              "<svg xmlns=\"http://www.w3.org/2000/svg\" height=\"24px\"viewBox=\"0 0 24 24\"\n",
              "     width=\"24px\">\n",
              "    <g>\n",
              "        <path d=\"M19 3H5c-1.1 0-2 .9-2 2v14c0 1.1.9 2 2 2h14c1.1 0 2-.9 2-2V5c0-1.1-.9-2-2-2zM9 17H7v-7h2v7zm4 0h-2V7h2v10zm4 0h-2v-4h2v4z\"/>\n",
              "    </g>\n",
              "</svg>\n",
              "  </button>\n",
              "\n",
              "<style>\n",
              "  .colab-df-quickchart {\n",
              "      --bg-color: #E8F0FE;\n",
              "      --fill-color: #1967D2;\n",
              "      --hover-bg-color: #E2EBFA;\n",
              "      --hover-fill-color: #174EA6;\n",
              "      --disabled-fill-color: #AAA;\n",
              "      --disabled-bg-color: #DDD;\n",
              "  }\n",
              "\n",
              "  [theme=dark] .colab-df-quickchart {\n",
              "      --bg-color: #3B4455;\n",
              "      --fill-color: #D2E3FC;\n",
              "      --hover-bg-color: #434B5C;\n",
              "      --hover-fill-color: #FFFFFF;\n",
              "      --disabled-bg-color: #3B4455;\n",
              "      --disabled-fill-color: #666;\n",
              "  }\n",
              "\n",
              "  .colab-df-quickchart {\n",
              "    background-color: var(--bg-color);\n",
              "    border: none;\n",
              "    border-radius: 50%;\n",
              "    cursor: pointer;\n",
              "    display: none;\n",
              "    fill: var(--fill-color);\n",
              "    height: 32px;\n",
              "    padding: 0;\n",
              "    width: 32px;\n",
              "  }\n",
              "\n",
              "  .colab-df-quickchart:hover {\n",
              "    background-color: var(--hover-bg-color);\n",
              "    box-shadow: 0 1px 2px rgba(60, 64, 67, 0.3), 0 1px 3px 1px rgba(60, 64, 67, 0.15);\n",
              "    fill: var(--button-hover-fill-color);\n",
              "  }\n",
              "\n",
              "  .colab-df-quickchart-complete:disabled,\n",
              "  .colab-df-quickchart-complete:disabled:hover {\n",
              "    background-color: var(--disabled-bg-color);\n",
              "    fill: var(--disabled-fill-color);\n",
              "    box-shadow: none;\n",
              "  }\n",
              "\n",
              "  .colab-df-spinner {\n",
              "    border: 2px solid var(--fill-color);\n",
              "    border-color: transparent;\n",
              "    border-bottom-color: var(--fill-color);\n",
              "    animation:\n",
              "      spin 1s steps(1) infinite;\n",
              "  }\n",
              "\n",
              "  @keyframes spin {\n",
              "    0% {\n",
              "      border-color: transparent;\n",
              "      border-bottom-color: var(--fill-color);\n",
              "      border-left-color: var(--fill-color);\n",
              "    }\n",
              "    20% {\n",
              "      border-color: transparent;\n",
              "      border-left-color: var(--fill-color);\n",
              "      border-top-color: var(--fill-color);\n",
              "    }\n",
              "    30% {\n",
              "      border-color: transparent;\n",
              "      border-left-color: var(--fill-color);\n",
              "      border-top-color: var(--fill-color);\n",
              "      border-right-color: var(--fill-color);\n",
              "    }\n",
              "    40% {\n",
              "      border-color: transparent;\n",
              "      border-right-color: var(--fill-color);\n",
              "      border-top-color: var(--fill-color);\n",
              "    }\n",
              "    60% {\n",
              "      border-color: transparent;\n",
              "      border-right-color: var(--fill-color);\n",
              "    }\n",
              "    80% {\n",
              "      border-color: transparent;\n",
              "      border-right-color: var(--fill-color);\n",
              "      border-bottom-color: var(--fill-color);\n",
              "    }\n",
              "    90% {\n",
              "      border-color: transparent;\n",
              "      border-bottom-color: var(--fill-color);\n",
              "    }\n",
              "  }\n",
              "</style>\n",
              "\n",
              "  <script>\n",
              "    async function quickchart(key) {\n",
              "      const quickchartButtonEl =\n",
              "        document.querySelector('#' + key + ' button');\n",
              "      quickchartButtonEl.disabled = true;  // To prevent multiple clicks.\n",
              "      quickchartButtonEl.classList.add('colab-df-spinner');\n",
              "      try {\n",
              "        const charts = await google.colab.kernel.invokeFunction(\n",
              "            'suggestCharts', [key], {});\n",
              "      } catch (error) {\n",
              "        console.error('Error during call to suggestCharts:', error);\n",
              "      }\n",
              "      quickchartButtonEl.classList.remove('colab-df-spinner');\n",
              "      quickchartButtonEl.classList.add('colab-df-quickchart-complete');\n",
              "    }\n",
              "    (() => {\n",
              "      let quickchartButtonEl =\n",
              "        document.querySelector('#df-97084855-4ea2-4c05-be99-9f4e59eb7c2d button');\n",
              "      quickchartButtonEl.style.display =\n",
              "        google.colab.kernel.accessAllowed ? 'block' : 'none';\n",
              "    })();\n",
              "  </script>\n",
              "</div>\n",
              "\n",
              "    </div>\n",
              "  </div>\n"
            ],
            "application/vnd.google.colaboratory.intrinsic+json": {
              "type": "dataframe",
              "variable_name": "data",
              "summary": "{\n  \"name\": \"data\",\n  \"rows\": 2880,\n  \"fields\": [\n    {\n      \"column\": \"Username\",\n      \"properties\": {\n        \"dtype\": \"string\",\n        \"num_unique_values\": 2736,\n        \"samples\": [\n          \"Efrain Silva\",\n          \"Terri Guzman\",\n          \"A\"\n        ],\n        \"semantic_type\": \"\",\n        \"description\": \"\"\n      }\n    },\n    {\n      \"column\": \"Total reviews\",\n      \"properties\": {\n        \"dtype\": \"category\",\n        \"num_unique_values\": 60,\n        \"samples\": [\n          \"37K reviews\",\n          \"2reviews\",\n          \"98reviews\"\n        ],\n        \"semantic_type\": \"\",\n        \"description\": \"\"\n      }\n    },\n    {\n      \"column\": \"Location\",\n      \"properties\": {\n        \"dtype\": \"category\",\n        \"num_unique_values\": 37,\n        \"samples\": [\n          \"ZA\",\n          \"DK\",\n          \"FR\"\n        ],\n        \"semantic_type\": \"\",\n        \"description\": \"\"\n      }\n    },\n    {\n      \"column\": \"Date\",\n      \"properties\": {\n        \"dtype\": \"object\",\n        \"num_unique_values\": 2880,\n        \"samples\": [\n          \"2024-10-12T03:40:48.000Z\",\n          \"2023-10-27T02:52:02.000Z\",\n          \"2023-01-27T03:54:40.000Z\"\n        ],\n        \"semantic_type\": \"\",\n        \"description\": \"\"\n      }\n    },\n    {\n      \"column\": \"Review\",\n      \"properties\": {\n        \"dtype\": \"string\",\n        \"num_unique_values\": 2880,\n        \"samples\": [\n          \"Very disappointedI made 2 orders in 1 day & 1 order the very next day. I got 1rst order just fine. 2nd order never received. 3rd order was delivered 2 houses down from me. It seems that since walmart switched to using On-Trac delivery service instead of FedEx, it's going to be an ongoing issue. 1rst order had a picture of my package at my front door, GREAT. 2nd order didn't even have a pic if my package as delivered,  so no package at all. 3rd order had a picture of my package at someone else's front door. If I could give 0 stars I would.Date of experience:October 10, 2024\",\n          \"Bait and SwitchBait and Switch. Walmart today substituted 5 of the 7 items I ordered that were \\u00e2\\u0080\\u009cavailable\\u00e2\\u0080\\u009d . Of course they wanted to charge more. Buyer beware. Just go Amazon. Once you select what you want to buy. That\\u00e2\\u0080\\u0099s what you get at Amazon. With Walmart, roll the dice\\u00e2\\u0080\\u00a6they will trap you and unless you are someone who lets Walmart pick what you want to buy, I recommend you dont buy at Walmart online until Walmart addresses this Bait and Switch tactic.Date of experience:October 24, 2023\",\n          \"Went in there to pick up a few thinks\\u00e2\\u0080\\u00a6Went in there to pick up a few thinks saw some soda that was new so I was going to buy it and tried my food stamps it got scanned wrong I guess so I needed help and the employee berated me and publicly ousted me for using food stamps for soda so I contacted Corp told them the next day the store manager calls me and tells me he heard about my complaint and for me to drop it and if I come back in the store either he is \\\"going to take care of me\\\" or the police and I better hope it's the police so apparently I complained about the worker he is sleeping with to threaten me like thatDate of experience:January 25, 2023\"\n        ],\n        \"semantic_type\": \"\",\n        \"description\": \"\"\n      }\n    },\n    {\n      \"column\": \"Rating\",\n      \"properties\": {\n        \"dtype\": \"number\",\n        \"std\": 1,\n        \"min\": 1,\n        \"max\": 5,\n        \"num_unique_values\": 5,\n        \"samples\": [\n          3,\n          2,\n          5\n        ],\n        \"semantic_type\": \"\",\n        \"description\": \"\"\n      }\n    },\n    {\n      \"column\": \"feeling\",\n      \"properties\": {\n        \"dtype\": \"category\",\n        \"num_unique_values\": 4,\n        \"samples\": [\n          \"happy\",\n          \"sad\",\n          \"anger\"\n        ],\n        \"semantic_type\": \"\",\n        \"description\": \"\"\n      }\n    }\n  ]\n}"
            }
          },
          "metadata": {},
          "execution_count": 5
        }
      ]
    },
    {
      "cell_type": "code",
      "source": [
        "column_names = ['username', 'totalreviews', 'location', 'date', 'review', 'rating', 'feeling']\n",
        "data = pd.read_csv(\"/content/reviews1.csv\", names = column_names, encoding ='ISO-8859-1')"
      ],
      "metadata": {
        "id": "WyFkXjYH7mIo"
      },
      "execution_count": null,
      "outputs": []
    },
    {
      "cell_type": "code",
      "source": [
        "data.shape"
      ],
      "metadata": {
        "colab": {
          "base_uri": "https://localhost:8080/"
        },
        "id": "-5FtKZ2J710p",
        "outputId": "31cb2bd7-5c56-49c5-95e2-fcf564bb03a2"
      },
      "execution_count": null,
      "outputs": [
        {
          "output_type": "execute_result",
          "data": {
            "text/plain": [
              "(2881, 7)"
            ]
          },
          "metadata": {},
          "execution_count": 7
        }
      ]
    },
    {
      "cell_type": "code",
      "source": [
        "data.head()"
      ],
      "metadata": {
        "colab": {
          "base_uri": "https://localhost:8080/",
          "height": 206
        },
        "id": "vf6qVD_2759d",
        "outputId": "bcdfe52f-6d4e-4d25-f760-e5064e1b66cd"
      },
      "execution_count": null,
      "outputs": [
        {
          "output_type": "execute_result",
          "data": {
            "text/plain": [
              "              username   totalreviews  location                      date  \\\n",
              "0             Username  Total reviews  Location                      Date   \n",
              "1              Richard    37K reviews        US  2025-02-14T22:43:05.000Z   \n",
              "2        Ronald Mitzel   3.6K reviews        US  2025-02-14T06:03:30.000Z   \n",
              "3  Armando Garcia Luna    14K reviews        US  2025-02-12T03:01:21.000Z   \n",
              "4       Jessica Laurie       3reviews        US  2025-02-14T03:06:45.000Z   \n",
              "\n",
              "                                              review  rating  feeling  \n",
              "0                                             Review  Rating  feeling  \n",
              "1  Just when you thought Customer Disservice coul...       1    anger  \n",
              "2  Worst delivery of any store in the United Stat...       1    anger  \n",
              "3  Poor customer service & ScamPoor customer serv...       1    anger  \n",
              "4  WalmartWalmart.  Where do I even begin?  It's ...       1    anger  "
            ],
            "text/html": [
              "\n",
              "  <div id=\"df-123e9869-7f65-4ea5-b4dc-a2f1d4c66c12\" class=\"colab-df-container\">\n",
              "    <div>\n",
              "<style scoped>\n",
              "    .dataframe tbody tr th:only-of-type {\n",
              "        vertical-align: middle;\n",
              "    }\n",
              "\n",
              "    .dataframe tbody tr th {\n",
              "        vertical-align: top;\n",
              "    }\n",
              "\n",
              "    .dataframe thead th {\n",
              "        text-align: right;\n",
              "    }\n",
              "</style>\n",
              "<table border=\"1\" class=\"dataframe\">\n",
              "  <thead>\n",
              "    <tr style=\"text-align: right;\">\n",
              "      <th></th>\n",
              "      <th>username</th>\n",
              "      <th>totalreviews</th>\n",
              "      <th>location</th>\n",
              "      <th>date</th>\n",
              "      <th>review</th>\n",
              "      <th>rating</th>\n",
              "      <th>feeling</th>\n",
              "    </tr>\n",
              "  </thead>\n",
              "  <tbody>\n",
              "    <tr>\n",
              "      <th>0</th>\n",
              "      <td>Username</td>\n",
              "      <td>Total reviews</td>\n",
              "      <td>Location</td>\n",
              "      <td>Date</td>\n",
              "      <td>Review</td>\n",
              "      <td>Rating</td>\n",
              "      <td>feeling</td>\n",
              "    </tr>\n",
              "    <tr>\n",
              "      <th>1</th>\n",
              "      <td>Richard</td>\n",
              "      <td>37K reviews</td>\n",
              "      <td>US</td>\n",
              "      <td>2025-02-14T22:43:05.000Z</td>\n",
              "      <td>Just when you thought Customer Disservice coul...</td>\n",
              "      <td>1</td>\n",
              "      <td>anger</td>\n",
              "    </tr>\n",
              "    <tr>\n",
              "      <th>2</th>\n",
              "      <td>Ronald Mitzel</td>\n",
              "      <td>3.6K reviews</td>\n",
              "      <td>US</td>\n",
              "      <td>2025-02-14T06:03:30.000Z</td>\n",
              "      <td>Worst delivery of any store in the United Stat...</td>\n",
              "      <td>1</td>\n",
              "      <td>anger</td>\n",
              "    </tr>\n",
              "    <tr>\n",
              "      <th>3</th>\n",
              "      <td>Armando Garcia Luna</td>\n",
              "      <td>14K reviews</td>\n",
              "      <td>US</td>\n",
              "      <td>2025-02-12T03:01:21.000Z</td>\n",
              "      <td>Poor customer service &amp; ScamPoor customer serv...</td>\n",
              "      <td>1</td>\n",
              "      <td>anger</td>\n",
              "    </tr>\n",
              "    <tr>\n",
              "      <th>4</th>\n",
              "      <td>Jessica Laurie</td>\n",
              "      <td>3reviews</td>\n",
              "      <td>US</td>\n",
              "      <td>2025-02-14T03:06:45.000Z</td>\n",
              "      <td>WalmartWalmart.  Where do I even begin?  It's ...</td>\n",
              "      <td>1</td>\n",
              "      <td>anger</td>\n",
              "    </tr>\n",
              "  </tbody>\n",
              "</table>\n",
              "</div>\n",
              "    <div class=\"colab-df-buttons\">\n",
              "\n",
              "  <div class=\"colab-df-container\">\n",
              "    <button class=\"colab-df-convert\" onclick=\"convertToInteractive('df-123e9869-7f65-4ea5-b4dc-a2f1d4c66c12')\"\n",
              "            title=\"Convert this dataframe to an interactive table.\"\n",
              "            style=\"display:none;\">\n",
              "\n",
              "  <svg xmlns=\"http://www.w3.org/2000/svg\" height=\"24px\" viewBox=\"0 -960 960 960\">\n",
              "    <path d=\"M120-120v-720h720v720H120Zm60-500h600v-160H180v160Zm220 220h160v-160H400v160Zm0 220h160v-160H400v160ZM180-400h160v-160H180v160Zm440 0h160v-160H620v160ZM180-180h160v-160H180v160Zm440 0h160v-160H620v160Z\"/>\n",
              "  </svg>\n",
              "    </button>\n",
              "\n",
              "  <style>\n",
              "    .colab-df-container {\n",
              "      display:flex;\n",
              "      gap: 12px;\n",
              "    }\n",
              "\n",
              "    .colab-df-convert {\n",
              "      background-color: #E8F0FE;\n",
              "      border: none;\n",
              "      border-radius: 50%;\n",
              "      cursor: pointer;\n",
              "      display: none;\n",
              "      fill: #1967D2;\n",
              "      height: 32px;\n",
              "      padding: 0 0 0 0;\n",
              "      width: 32px;\n",
              "    }\n",
              "\n",
              "    .colab-df-convert:hover {\n",
              "      background-color: #E2EBFA;\n",
              "      box-shadow: 0px 1px 2px rgba(60, 64, 67, 0.3), 0px 1px 3px 1px rgba(60, 64, 67, 0.15);\n",
              "      fill: #174EA6;\n",
              "    }\n",
              "\n",
              "    .colab-df-buttons div {\n",
              "      margin-bottom: 4px;\n",
              "    }\n",
              "\n",
              "    [theme=dark] .colab-df-convert {\n",
              "      background-color: #3B4455;\n",
              "      fill: #D2E3FC;\n",
              "    }\n",
              "\n",
              "    [theme=dark] .colab-df-convert:hover {\n",
              "      background-color: #434B5C;\n",
              "      box-shadow: 0px 1px 3px 1px rgba(0, 0, 0, 0.15);\n",
              "      filter: drop-shadow(0px 1px 2px rgba(0, 0, 0, 0.3));\n",
              "      fill: #FFFFFF;\n",
              "    }\n",
              "  </style>\n",
              "\n",
              "    <script>\n",
              "      const buttonEl =\n",
              "        document.querySelector('#df-123e9869-7f65-4ea5-b4dc-a2f1d4c66c12 button.colab-df-convert');\n",
              "      buttonEl.style.display =\n",
              "        google.colab.kernel.accessAllowed ? 'block' : 'none';\n",
              "\n",
              "      async function convertToInteractive(key) {\n",
              "        const element = document.querySelector('#df-123e9869-7f65-4ea5-b4dc-a2f1d4c66c12');\n",
              "        const dataTable =\n",
              "          await google.colab.kernel.invokeFunction('convertToInteractive',\n",
              "                                                    [key], {});\n",
              "        if (!dataTable) return;\n",
              "\n",
              "        const docLinkHtml = 'Like what you see? Visit the ' +\n",
              "          '<a target=\"_blank\" href=https://colab.research.google.com/notebooks/data_table.ipynb>data table notebook</a>'\n",
              "          + ' to learn more about interactive tables.';\n",
              "        element.innerHTML = '';\n",
              "        dataTable['output_type'] = 'display_data';\n",
              "        await google.colab.output.renderOutput(dataTable, element);\n",
              "        const docLink = document.createElement('div');\n",
              "        docLink.innerHTML = docLinkHtml;\n",
              "        element.appendChild(docLink);\n",
              "      }\n",
              "    </script>\n",
              "  </div>\n",
              "\n",
              "\n",
              "<div id=\"df-5c4b1de9-8307-43d2-9f12-e17843f98e30\">\n",
              "  <button class=\"colab-df-quickchart\" onclick=\"quickchart('df-5c4b1de9-8307-43d2-9f12-e17843f98e30')\"\n",
              "            title=\"Suggest charts\"\n",
              "            style=\"display:none;\">\n",
              "\n",
              "<svg xmlns=\"http://www.w3.org/2000/svg\" height=\"24px\"viewBox=\"0 0 24 24\"\n",
              "     width=\"24px\">\n",
              "    <g>\n",
              "        <path d=\"M19 3H5c-1.1 0-2 .9-2 2v14c0 1.1.9 2 2 2h14c1.1 0 2-.9 2-2V5c0-1.1-.9-2-2-2zM9 17H7v-7h2v7zm4 0h-2V7h2v10zm4 0h-2v-4h2v4z\"/>\n",
              "    </g>\n",
              "</svg>\n",
              "  </button>\n",
              "\n",
              "<style>\n",
              "  .colab-df-quickchart {\n",
              "      --bg-color: #E8F0FE;\n",
              "      --fill-color: #1967D2;\n",
              "      --hover-bg-color: #E2EBFA;\n",
              "      --hover-fill-color: #174EA6;\n",
              "      --disabled-fill-color: #AAA;\n",
              "      --disabled-bg-color: #DDD;\n",
              "  }\n",
              "\n",
              "  [theme=dark] .colab-df-quickchart {\n",
              "      --bg-color: #3B4455;\n",
              "      --fill-color: #D2E3FC;\n",
              "      --hover-bg-color: #434B5C;\n",
              "      --hover-fill-color: #FFFFFF;\n",
              "      --disabled-bg-color: #3B4455;\n",
              "      --disabled-fill-color: #666;\n",
              "  }\n",
              "\n",
              "  .colab-df-quickchart {\n",
              "    background-color: var(--bg-color);\n",
              "    border: none;\n",
              "    border-radius: 50%;\n",
              "    cursor: pointer;\n",
              "    display: none;\n",
              "    fill: var(--fill-color);\n",
              "    height: 32px;\n",
              "    padding: 0;\n",
              "    width: 32px;\n",
              "  }\n",
              "\n",
              "  .colab-df-quickchart:hover {\n",
              "    background-color: var(--hover-bg-color);\n",
              "    box-shadow: 0 1px 2px rgba(60, 64, 67, 0.3), 0 1px 3px 1px rgba(60, 64, 67, 0.15);\n",
              "    fill: var(--button-hover-fill-color);\n",
              "  }\n",
              "\n",
              "  .colab-df-quickchart-complete:disabled,\n",
              "  .colab-df-quickchart-complete:disabled:hover {\n",
              "    background-color: var(--disabled-bg-color);\n",
              "    fill: var(--disabled-fill-color);\n",
              "    box-shadow: none;\n",
              "  }\n",
              "\n",
              "  .colab-df-spinner {\n",
              "    border: 2px solid var(--fill-color);\n",
              "    border-color: transparent;\n",
              "    border-bottom-color: var(--fill-color);\n",
              "    animation:\n",
              "      spin 1s steps(1) infinite;\n",
              "  }\n",
              "\n",
              "  @keyframes spin {\n",
              "    0% {\n",
              "      border-color: transparent;\n",
              "      border-bottom-color: var(--fill-color);\n",
              "      border-left-color: var(--fill-color);\n",
              "    }\n",
              "    20% {\n",
              "      border-color: transparent;\n",
              "      border-left-color: var(--fill-color);\n",
              "      border-top-color: var(--fill-color);\n",
              "    }\n",
              "    30% {\n",
              "      border-color: transparent;\n",
              "      border-left-color: var(--fill-color);\n",
              "      border-top-color: var(--fill-color);\n",
              "      border-right-color: var(--fill-color);\n",
              "    }\n",
              "    40% {\n",
              "      border-color: transparent;\n",
              "      border-right-color: var(--fill-color);\n",
              "      border-top-color: var(--fill-color);\n",
              "    }\n",
              "    60% {\n",
              "      border-color: transparent;\n",
              "      border-right-color: var(--fill-color);\n",
              "    }\n",
              "    80% {\n",
              "      border-color: transparent;\n",
              "      border-right-color: var(--fill-color);\n",
              "      border-bottom-color: var(--fill-color);\n",
              "    }\n",
              "    90% {\n",
              "      border-color: transparent;\n",
              "      border-bottom-color: var(--fill-color);\n",
              "    }\n",
              "  }\n",
              "</style>\n",
              "\n",
              "  <script>\n",
              "    async function quickchart(key) {\n",
              "      const quickchartButtonEl =\n",
              "        document.querySelector('#' + key + ' button');\n",
              "      quickchartButtonEl.disabled = true;  // To prevent multiple clicks.\n",
              "      quickchartButtonEl.classList.add('colab-df-spinner');\n",
              "      try {\n",
              "        const charts = await google.colab.kernel.invokeFunction(\n",
              "            'suggestCharts', [key], {});\n",
              "      } catch (error) {\n",
              "        console.error('Error during call to suggestCharts:', error);\n",
              "      }\n",
              "      quickchartButtonEl.classList.remove('colab-df-spinner');\n",
              "      quickchartButtonEl.classList.add('colab-df-quickchart-complete');\n",
              "    }\n",
              "    (() => {\n",
              "      let quickchartButtonEl =\n",
              "        document.querySelector('#df-5c4b1de9-8307-43d2-9f12-e17843f98e30 button');\n",
              "      quickchartButtonEl.style.display =\n",
              "        google.colab.kernel.accessAllowed ? 'block' : 'none';\n",
              "    })();\n",
              "  </script>\n",
              "</div>\n",
              "\n",
              "    </div>\n",
              "  </div>\n"
            ],
            "application/vnd.google.colaboratory.intrinsic+json": {
              "type": "dataframe",
              "variable_name": "data",
              "summary": "{\n  \"name\": \"data\",\n  \"rows\": 2881,\n  \"fields\": [\n    {\n      \"column\": \"username\",\n      \"properties\": {\n        \"dtype\": \"string\",\n        \"num_unique_values\": 2737,\n        \"samples\": [\n          \"Lee Wickings\",\n          \"Mary Davis\",\n          \"ka\"\n        ],\n        \"semantic_type\": \"\",\n        \"description\": \"\"\n      }\n    },\n    {\n      \"column\": \"totalreviews\",\n      \"properties\": {\n        \"dtype\": \"category\",\n        \"num_unique_values\": 61,\n        \"samples\": [\n          \"Total reviews\",\n          \"1review\",\n          \"80reviews\"\n        ],\n        \"semantic_type\": \"\",\n        \"description\": \"\"\n      }\n    },\n    {\n      \"column\": \"location\",\n      \"properties\": {\n        \"dtype\": \"category\",\n        \"num_unique_values\": 38,\n        \"samples\": [\n          \"LB\",\n          \"PY\",\n          \"AE\"\n        ],\n        \"semantic_type\": \"\",\n        \"description\": \"\"\n      }\n    },\n    {\n      \"column\": \"date\",\n      \"properties\": {\n        \"dtype\": \"string\",\n        \"num_unique_values\": 2881,\n        \"samples\": [\n          \"2024-10-12T16:05:02.000Z\",\n          \"2023-10-27T20:14:43.000Z\",\n          \"2023-01-27T03:54:40.000Z\"\n        ],\n        \"semantic_type\": \"\",\n        \"description\": \"\"\n      }\n    },\n    {\n      \"column\": \"review\",\n      \"properties\": {\n        \"dtype\": \"string\",\n        \"num_unique_values\": 2881,\n        \"samples\": [\n          \"Walmart team lead in automotiveWalmart team lead in automotive. She was rood and unprofessional when asked a question. I will not be shopping there again.Date of experience:October 07, 2024\",\n          \"SENIOR DISCRIMINATION & DELIVERY RUDENESSSENIOR DISCRIMINATION...plus the ABSOLUTE WORST DELIVERY PERSON I HAVE EVER EXPERIENCED and why is Walmart hiring such INCOMPETENT and RUDE Drivers to do deliveries?  I live in a SENIOR mobile home park, and even tho I ordered the small sized microwave, I can't LIFT that weight anymore (damaged wrist so can't grip box)....and since delivery people are supposed to deliver TO YOUR DOOR...not to drop it on bottom step, just out of reach, while I'm standing right IN FRONT OF HER with the door swung wide open so she could drop it ON the ACTUAL 'DOOR' step........EVEN the POSTMAN will come to my 'ACTUAL DOOR\\\" to place it on ground so I can flip pkg inside.  THIS is the LAZIEST (will NEVER again use Walmart LOCAL Delivery) person I have EVER experienced...with me standing right there with door WIDE open to 'on purpose' just drop it JUST OUT OF MY REACH (with the door swung WIDE OPEN all she had to do was drop it ON my DOORSTEP (so i could flip box inside),  but not only does she GO OUT OF HER WAY TO IGNORE me...I even asked \\\"can you please just put it on my doorstep so i am able to flip it inside\\\" and her SARCASTIC/OBNOXIOUS REPLY was: \\\"yeah, well it's on your step, have a nice day\\\" ..and she immediately walks away with her MP Player plugged into her ears! WTH? Right in front of me with Door Wide open, she purposely just dumps it on the BOTTOM Step when 2 steps forward was all it would have taken for her to set it down AT MY DOOR step,   so i can flip it inside!.... Dropping it on a bottom step is NOT 'TO YOUR DOOR' DELIVERY!..ESPECIALLY WHEN I AM STANDING THERE WITH THE DOOR WIDE OPEN FOR HER....I made it as easy as possible to just set it down ON my ACTUAL door step! (and THESE people expect TIPS???? what the hell for??? being rude?). I will NEVER NEVER NEVER EVER order ANYTHING being DELIVERED DIRECTLY FROM A LOCAL WALMART STORE EVER AGAIN!!!!Also, website LEAVE FEEDBACK page is an absolute JOKE! It's there for LOOKS as FEEDBACK NEVER goes thru.... EVERY SINGLE TIME someone takes the TIME! to leave comments and hits 'submit', all that comes back is their stupid error message saying \\\"we can't process at moment, come back later\\\"......meanwhile it has been doing this for the past YEAR!  ....then SURPRISE SURPRISE, I found out the ONLY time  it will go thru, when hitting 'submit', is ONLY if you are leaving a FIVE star Review! = TOTAL REVIEW INTERFERENCE and CON JOB!!3rd: if you try to use their email address: help'at'walmart.com you get back a message saying 'mailbox no longer being monitored will be removed 10/28/23'. Now isn't THAT a COINCIDENCE? You try to reach them via email about a complaint and they block messages by saying they are closing the box THE VERY NEXT DAY that you are trying to reach them! Obviously an 'auto reply' that just keeps updating the date everyday so they don't have to reply!=SCAM!Date of experience:October 27, 2023\",\n          \"Went in there to pick up a few thinks\\u00e2\\u0080\\u00a6Went in there to pick up a few thinks saw some soda that was new so I was going to buy it and tried my food stamps it got scanned wrong I guess so I needed help and the employee berated me and publicly ousted me for using food stamps for soda so I contacted Corp told them the next day the store manager calls me and tells me he heard about my complaint and for me to drop it and if I come back in the store either he is \\\"going to take care of me\\\" or the police and I better hope it's the police so apparently I complained about the worker he is sleeping with to threaten me like thatDate of experience:January 25, 2023\"\n        ],\n        \"semantic_type\": \"\",\n        \"description\": \"\"\n      }\n    },\n    {\n      \"column\": \"rating\",\n      \"properties\": {\n        \"dtype\": \"category\",\n        \"num_unique_values\": 6,\n        \"samples\": [\n          \"Rating\",\n          \"1\",\n          \"2\"\n        ],\n        \"semantic_type\": \"\",\n        \"description\": \"\"\n      }\n    },\n    {\n      \"column\": \"feeling\",\n      \"properties\": {\n        \"dtype\": \"category\",\n        \"num_unique_values\": 5,\n        \"samples\": [\n          \"anger\",\n          \"sad\",\n          \"happy\"\n        ],\n        \"semantic_type\": \"\",\n        \"description\": \"\"\n      }\n    }\n  ]\n}"
            }
          },
          "metadata": {},
          "execution_count": 8
        }
      ]
    },
    {
      "cell_type": "code",
      "source": [
        "data.isnull().sum()"
      ],
      "metadata": {
        "colab": {
          "base_uri": "https://localhost:8080/",
          "height": 335
        },
        "id": "RC0IMkT578V9",
        "outputId": "a622a3d8-2a03-40fb-9283-476354676efa"
      },
      "execution_count": null,
      "outputs": [
        {
          "output_type": "execute_result",
          "data": {
            "text/plain": [
              "username           0\n",
              "totalreviews       0\n",
              "location           0\n",
              "date               0\n",
              "review             0\n",
              "rating             0\n",
              "feeling            0\n",
              "stemmed_content    0\n",
              "dtype: int64"
            ],
            "text/html": [
              "<div>\n",
              "<style scoped>\n",
              "    .dataframe tbody tr th:only-of-type {\n",
              "        vertical-align: middle;\n",
              "    }\n",
              "\n",
              "    .dataframe tbody tr th {\n",
              "        vertical-align: top;\n",
              "    }\n",
              "\n",
              "    .dataframe thead th {\n",
              "        text-align: right;\n",
              "    }\n",
              "</style>\n",
              "<table border=\"1\" class=\"dataframe\">\n",
              "  <thead>\n",
              "    <tr style=\"text-align: right;\">\n",
              "      <th></th>\n",
              "      <th>0</th>\n",
              "    </tr>\n",
              "  </thead>\n",
              "  <tbody>\n",
              "    <tr>\n",
              "      <th>username</th>\n",
              "      <td>0</td>\n",
              "    </tr>\n",
              "    <tr>\n",
              "      <th>totalreviews</th>\n",
              "      <td>0</td>\n",
              "    </tr>\n",
              "    <tr>\n",
              "      <th>location</th>\n",
              "      <td>0</td>\n",
              "    </tr>\n",
              "    <tr>\n",
              "      <th>date</th>\n",
              "      <td>0</td>\n",
              "    </tr>\n",
              "    <tr>\n",
              "      <th>review</th>\n",
              "      <td>0</td>\n",
              "    </tr>\n",
              "    <tr>\n",
              "      <th>rating</th>\n",
              "      <td>0</td>\n",
              "    </tr>\n",
              "    <tr>\n",
              "      <th>feeling</th>\n",
              "      <td>0</td>\n",
              "    </tr>\n",
              "    <tr>\n",
              "      <th>stemmed_content</th>\n",
              "      <td>0</td>\n",
              "    </tr>\n",
              "  </tbody>\n",
              "</table>\n",
              "</div><br><label><b>dtype:</b> int64</label>"
            ]
          },
          "metadata": {},
          "execution_count": 17
        }
      ]
    },
    {
      "cell_type": "code",
      "source": [
        "data['feeling'].value_counts()"
      ],
      "metadata": {
        "colab": {
          "base_uri": "https://localhost:8080/",
          "height": 272
        },
        "id": "zpkFAokqoPjV",
        "outputId": "537d200e-baa2-4375-fc33-1bff1bb83a86"
      },
      "execution_count": null,
      "outputs": [
        {
          "output_type": "execute_result",
          "data": {
            "text/plain": [
              "feeling\n",
              "anger      2309\n",
              "joy         248\n",
              "happy       162\n",
              "sad         161\n",
              "feeling       1\n",
              "Name: count, dtype: int64"
            ],
            "text/html": [
              "<div>\n",
              "<style scoped>\n",
              "    .dataframe tbody tr th:only-of-type {\n",
              "        vertical-align: middle;\n",
              "    }\n",
              "\n",
              "    .dataframe tbody tr th {\n",
              "        vertical-align: top;\n",
              "    }\n",
              "\n",
              "    .dataframe thead th {\n",
              "        text-align: right;\n",
              "    }\n",
              "</style>\n",
              "<table border=\"1\" class=\"dataframe\">\n",
              "  <thead>\n",
              "    <tr style=\"text-align: right;\">\n",
              "      <th></th>\n",
              "      <th>count</th>\n",
              "    </tr>\n",
              "    <tr>\n",
              "      <th>feeling</th>\n",
              "      <th></th>\n",
              "    </tr>\n",
              "  </thead>\n",
              "  <tbody>\n",
              "    <tr>\n",
              "      <th>anger</th>\n",
              "      <td>2309</td>\n",
              "    </tr>\n",
              "    <tr>\n",
              "      <th>joy</th>\n",
              "      <td>248</td>\n",
              "    </tr>\n",
              "    <tr>\n",
              "      <th>happy</th>\n",
              "      <td>162</td>\n",
              "    </tr>\n",
              "    <tr>\n",
              "      <th>sad</th>\n",
              "      <td>161</td>\n",
              "    </tr>\n",
              "    <tr>\n",
              "      <th>feeling</th>\n",
              "      <td>1</td>\n",
              "    </tr>\n",
              "  </tbody>\n",
              "</table>\n",
              "</div><br><label><b>dtype:</b> int64</label>"
            ]
          },
          "metadata": {},
          "execution_count": 10
        }
      ]
    },
    {
      "cell_type": "markdown",
      "source": [
        "**Stemming**"
      ],
      "metadata": {
        "id": "1Nx55sai8C6w"
      }
    },
    {
      "cell_type": "code",
      "source": [
        "port_stem = PorterStemmer()"
      ],
      "metadata": {
        "id": "y-9j5bCe7__a"
      },
      "execution_count": null,
      "outputs": []
    },
    {
      "cell_type": "code",
      "source": [
        "def stemming(content):\n",
        "  stemmed_content = re.sub('[^a-zA-Z]', ' ', content)\n",
        "  stemmed_content = stemmed_content.lower()\n",
        "  stemmed_content = stemmed_content.split()\n",
        "  stemmed_content = [port_stem.stem(word) for word in stemmed_content if not word in stopwords.words('english')]\n",
        "  stemmed_content = ' '.join(stemmed_content)\n",
        "\n",
        "  return stemmed_content"
      ],
      "metadata": {
        "id": "WjHn0DqH8Iy5"
      },
      "execution_count": null,
      "outputs": []
    },
    {
      "cell_type": "code",
      "source": [
        "print(data.columns)"
      ],
      "metadata": {
        "colab": {
          "base_uri": "https://localhost:8080/"
        },
        "id": "z7Uxf6jz8ViT",
        "outputId": "204529c5-9117-497f-df28-71c4939e963a"
      },
      "execution_count": null,
      "outputs": [
        {
          "output_type": "stream",
          "name": "stdout",
          "text": [
            "Index(['username', 'totalreviews', 'location', 'date', 'review', 'rating',\n",
            "       'feeling'],\n",
            "      dtype='object')\n"
          ]
        }
      ]
    },
    {
      "cell_type": "code",
      "source": [
        "data['stemmed_content'] = data['review'].astype(str).apply(stemming)"
      ],
      "metadata": {
        "id": "qsv9EcMT8fFU"
      },
      "execution_count": null,
      "outputs": []
    },
    {
      "cell_type": "code",
      "source": [
        "data.head()"
      ],
      "metadata": {
        "colab": {
          "base_uri": "https://localhost:8080/",
          "height": 206
        },
        "id": "iO-E65EbrHtk",
        "outputId": "34ef6bcb-3cbe-4135-fa88-3c35c41b1937"
      },
      "execution_count": null,
      "outputs": [
        {
          "output_type": "execute_result",
          "data": {
            "text/plain": [
              "              username   totalreviews  location                      date  \\\n",
              "0             Username  Total reviews  Location                      Date   \n",
              "1              Richard    37K reviews        US  2025-02-14T22:43:05.000Z   \n",
              "2        Ronald Mitzel   3.6K reviews        US  2025-02-14T06:03:30.000Z   \n",
              "3  Armando Garcia Luna    14K reviews        US  2025-02-12T03:01:21.000Z   \n",
              "4       Jessica Laurie       3reviews        US  2025-02-14T03:06:45.000Z   \n",
              "\n",
              "                                              review  rating  feeling  \\\n",
              "0                                             Review  Rating  feeling   \n",
              "1  Just when you thought Customer Disservice coul...       1    anger   \n",
              "2  Worst delivery of any store in the United Stat...       1    anger   \n",
              "3  Poor customer service & ScamPoor customer serv...       1    anger   \n",
              "4  WalmartWalmart.  Where do I even begin?  It's ...       1    anger   \n",
              "\n",
              "                                     stemmed_content  \n",
              "0                                             review  \n",
              "1  thought custom disservic worsei use think tie ...  \n",
              "2  worst deliveri store unit statesi paid month d...  \n",
              "3  poor custom servic scampoor custom servic made...  \n",
              "4  walmartwalmart even begin like circu day park ...  "
            ],
            "text/html": [
              "\n",
              "  <div id=\"df-9af46b32-d1e8-458b-a666-b1532af111d7\" class=\"colab-df-container\">\n",
              "    <div>\n",
              "<style scoped>\n",
              "    .dataframe tbody tr th:only-of-type {\n",
              "        vertical-align: middle;\n",
              "    }\n",
              "\n",
              "    .dataframe tbody tr th {\n",
              "        vertical-align: top;\n",
              "    }\n",
              "\n",
              "    .dataframe thead th {\n",
              "        text-align: right;\n",
              "    }\n",
              "</style>\n",
              "<table border=\"1\" class=\"dataframe\">\n",
              "  <thead>\n",
              "    <tr style=\"text-align: right;\">\n",
              "      <th></th>\n",
              "      <th>username</th>\n",
              "      <th>totalreviews</th>\n",
              "      <th>location</th>\n",
              "      <th>date</th>\n",
              "      <th>review</th>\n",
              "      <th>rating</th>\n",
              "      <th>feeling</th>\n",
              "      <th>stemmed_content</th>\n",
              "    </tr>\n",
              "  </thead>\n",
              "  <tbody>\n",
              "    <tr>\n",
              "      <th>0</th>\n",
              "      <td>Username</td>\n",
              "      <td>Total reviews</td>\n",
              "      <td>Location</td>\n",
              "      <td>Date</td>\n",
              "      <td>Review</td>\n",
              "      <td>Rating</td>\n",
              "      <td>feeling</td>\n",
              "      <td>review</td>\n",
              "    </tr>\n",
              "    <tr>\n",
              "      <th>1</th>\n",
              "      <td>Richard</td>\n",
              "      <td>37K reviews</td>\n",
              "      <td>US</td>\n",
              "      <td>2025-02-14T22:43:05.000Z</td>\n",
              "      <td>Just when you thought Customer Disservice coul...</td>\n",
              "      <td>1</td>\n",
              "      <td>anger</td>\n",
              "      <td>thought custom disservic worsei use think tie ...</td>\n",
              "    </tr>\n",
              "    <tr>\n",
              "      <th>2</th>\n",
              "      <td>Ronald Mitzel</td>\n",
              "      <td>3.6K reviews</td>\n",
              "      <td>US</td>\n",
              "      <td>2025-02-14T06:03:30.000Z</td>\n",
              "      <td>Worst delivery of any store in the United Stat...</td>\n",
              "      <td>1</td>\n",
              "      <td>anger</td>\n",
              "      <td>worst deliveri store unit statesi paid month d...</td>\n",
              "    </tr>\n",
              "    <tr>\n",
              "      <th>3</th>\n",
              "      <td>Armando Garcia Luna</td>\n",
              "      <td>14K reviews</td>\n",
              "      <td>US</td>\n",
              "      <td>2025-02-12T03:01:21.000Z</td>\n",
              "      <td>Poor customer service &amp; ScamPoor customer serv...</td>\n",
              "      <td>1</td>\n",
              "      <td>anger</td>\n",
              "      <td>poor custom servic scampoor custom servic made...</td>\n",
              "    </tr>\n",
              "    <tr>\n",
              "      <th>4</th>\n",
              "      <td>Jessica Laurie</td>\n",
              "      <td>3reviews</td>\n",
              "      <td>US</td>\n",
              "      <td>2025-02-14T03:06:45.000Z</td>\n",
              "      <td>WalmartWalmart.  Where do I even begin?  It's ...</td>\n",
              "      <td>1</td>\n",
              "      <td>anger</td>\n",
              "      <td>walmartwalmart even begin like circu day park ...</td>\n",
              "    </tr>\n",
              "  </tbody>\n",
              "</table>\n",
              "</div>\n",
              "    <div class=\"colab-df-buttons\">\n",
              "\n",
              "  <div class=\"colab-df-container\">\n",
              "    <button class=\"colab-df-convert\" onclick=\"convertToInteractive('df-9af46b32-d1e8-458b-a666-b1532af111d7')\"\n",
              "            title=\"Convert this dataframe to an interactive table.\"\n",
              "            style=\"display:none;\">\n",
              "\n",
              "  <svg xmlns=\"http://www.w3.org/2000/svg\" height=\"24px\" viewBox=\"0 -960 960 960\">\n",
              "    <path d=\"M120-120v-720h720v720H120Zm60-500h600v-160H180v160Zm220 220h160v-160H400v160Zm0 220h160v-160H400v160ZM180-400h160v-160H180v160Zm440 0h160v-160H620v160ZM180-180h160v-160H180v160Zm440 0h160v-160H620v160Z\"/>\n",
              "  </svg>\n",
              "    </button>\n",
              "\n",
              "  <style>\n",
              "    .colab-df-container {\n",
              "      display:flex;\n",
              "      gap: 12px;\n",
              "    }\n",
              "\n",
              "    .colab-df-convert {\n",
              "      background-color: #E8F0FE;\n",
              "      border: none;\n",
              "      border-radius: 50%;\n",
              "      cursor: pointer;\n",
              "      display: none;\n",
              "      fill: #1967D2;\n",
              "      height: 32px;\n",
              "      padding: 0 0 0 0;\n",
              "      width: 32px;\n",
              "    }\n",
              "\n",
              "    .colab-df-convert:hover {\n",
              "      background-color: #E2EBFA;\n",
              "      box-shadow: 0px 1px 2px rgba(60, 64, 67, 0.3), 0px 1px 3px 1px rgba(60, 64, 67, 0.15);\n",
              "      fill: #174EA6;\n",
              "    }\n",
              "\n",
              "    .colab-df-buttons div {\n",
              "      margin-bottom: 4px;\n",
              "    }\n",
              "\n",
              "    [theme=dark] .colab-df-convert {\n",
              "      background-color: #3B4455;\n",
              "      fill: #D2E3FC;\n",
              "    }\n",
              "\n",
              "    [theme=dark] .colab-df-convert:hover {\n",
              "      background-color: #434B5C;\n",
              "      box-shadow: 0px 1px 3px 1px rgba(0, 0, 0, 0.15);\n",
              "      filter: drop-shadow(0px 1px 2px rgba(0, 0, 0, 0.3));\n",
              "      fill: #FFFFFF;\n",
              "    }\n",
              "  </style>\n",
              "\n",
              "    <script>\n",
              "      const buttonEl =\n",
              "        document.querySelector('#df-9af46b32-d1e8-458b-a666-b1532af111d7 button.colab-df-convert');\n",
              "      buttonEl.style.display =\n",
              "        google.colab.kernel.accessAllowed ? 'block' : 'none';\n",
              "\n",
              "      async function convertToInteractive(key) {\n",
              "        const element = document.querySelector('#df-9af46b32-d1e8-458b-a666-b1532af111d7');\n",
              "        const dataTable =\n",
              "          await google.colab.kernel.invokeFunction('convertToInteractive',\n",
              "                                                    [key], {});\n",
              "        if (!dataTable) return;\n",
              "\n",
              "        const docLinkHtml = 'Like what you see? Visit the ' +\n",
              "          '<a target=\"_blank\" href=https://colab.research.google.com/notebooks/data_table.ipynb>data table notebook</a>'\n",
              "          + ' to learn more about interactive tables.';\n",
              "        element.innerHTML = '';\n",
              "        dataTable['output_type'] = 'display_data';\n",
              "        await google.colab.output.renderOutput(dataTable, element);\n",
              "        const docLink = document.createElement('div');\n",
              "        docLink.innerHTML = docLinkHtml;\n",
              "        element.appendChild(docLink);\n",
              "      }\n",
              "    </script>\n",
              "  </div>\n",
              "\n",
              "\n",
              "<div id=\"df-15b500fe-c892-4247-ba96-97c4652b87ca\">\n",
              "  <button class=\"colab-df-quickchart\" onclick=\"quickchart('df-15b500fe-c892-4247-ba96-97c4652b87ca')\"\n",
              "            title=\"Suggest charts\"\n",
              "            style=\"display:none;\">\n",
              "\n",
              "<svg xmlns=\"http://www.w3.org/2000/svg\" height=\"24px\"viewBox=\"0 0 24 24\"\n",
              "     width=\"24px\">\n",
              "    <g>\n",
              "        <path d=\"M19 3H5c-1.1 0-2 .9-2 2v14c0 1.1.9 2 2 2h14c1.1 0 2-.9 2-2V5c0-1.1-.9-2-2-2zM9 17H7v-7h2v7zm4 0h-2V7h2v10zm4 0h-2v-4h2v4z\"/>\n",
              "    </g>\n",
              "</svg>\n",
              "  </button>\n",
              "\n",
              "<style>\n",
              "  .colab-df-quickchart {\n",
              "      --bg-color: #E8F0FE;\n",
              "      --fill-color: #1967D2;\n",
              "      --hover-bg-color: #E2EBFA;\n",
              "      --hover-fill-color: #174EA6;\n",
              "      --disabled-fill-color: #AAA;\n",
              "      --disabled-bg-color: #DDD;\n",
              "  }\n",
              "\n",
              "  [theme=dark] .colab-df-quickchart {\n",
              "      --bg-color: #3B4455;\n",
              "      --fill-color: #D2E3FC;\n",
              "      --hover-bg-color: #434B5C;\n",
              "      --hover-fill-color: #FFFFFF;\n",
              "      --disabled-bg-color: #3B4455;\n",
              "      --disabled-fill-color: #666;\n",
              "  }\n",
              "\n",
              "  .colab-df-quickchart {\n",
              "    background-color: var(--bg-color);\n",
              "    border: none;\n",
              "    border-radius: 50%;\n",
              "    cursor: pointer;\n",
              "    display: none;\n",
              "    fill: var(--fill-color);\n",
              "    height: 32px;\n",
              "    padding: 0;\n",
              "    width: 32px;\n",
              "  }\n",
              "\n",
              "  .colab-df-quickchart:hover {\n",
              "    background-color: var(--hover-bg-color);\n",
              "    box-shadow: 0 1px 2px rgba(60, 64, 67, 0.3), 0 1px 3px 1px rgba(60, 64, 67, 0.15);\n",
              "    fill: var(--button-hover-fill-color);\n",
              "  }\n",
              "\n",
              "  .colab-df-quickchart-complete:disabled,\n",
              "  .colab-df-quickchart-complete:disabled:hover {\n",
              "    background-color: var(--disabled-bg-color);\n",
              "    fill: var(--disabled-fill-color);\n",
              "    box-shadow: none;\n",
              "  }\n",
              "\n",
              "  .colab-df-spinner {\n",
              "    border: 2px solid var(--fill-color);\n",
              "    border-color: transparent;\n",
              "    border-bottom-color: var(--fill-color);\n",
              "    animation:\n",
              "      spin 1s steps(1) infinite;\n",
              "  }\n",
              "\n",
              "  @keyframes spin {\n",
              "    0% {\n",
              "      border-color: transparent;\n",
              "      border-bottom-color: var(--fill-color);\n",
              "      border-left-color: var(--fill-color);\n",
              "    }\n",
              "    20% {\n",
              "      border-color: transparent;\n",
              "      border-left-color: var(--fill-color);\n",
              "      border-top-color: var(--fill-color);\n",
              "    }\n",
              "    30% {\n",
              "      border-color: transparent;\n",
              "      border-left-color: var(--fill-color);\n",
              "      border-top-color: var(--fill-color);\n",
              "      border-right-color: var(--fill-color);\n",
              "    }\n",
              "    40% {\n",
              "      border-color: transparent;\n",
              "      border-right-color: var(--fill-color);\n",
              "      border-top-color: var(--fill-color);\n",
              "    }\n",
              "    60% {\n",
              "      border-color: transparent;\n",
              "      border-right-color: var(--fill-color);\n",
              "    }\n",
              "    80% {\n",
              "      border-color: transparent;\n",
              "      border-right-color: var(--fill-color);\n",
              "      border-bottom-color: var(--fill-color);\n",
              "    }\n",
              "    90% {\n",
              "      border-color: transparent;\n",
              "      border-bottom-color: var(--fill-color);\n",
              "    }\n",
              "  }\n",
              "</style>\n",
              "\n",
              "  <script>\n",
              "    async function quickchart(key) {\n",
              "      const quickchartButtonEl =\n",
              "        document.querySelector('#' + key + ' button');\n",
              "      quickchartButtonEl.disabled = true;  // To prevent multiple clicks.\n",
              "      quickchartButtonEl.classList.add('colab-df-spinner');\n",
              "      try {\n",
              "        const charts = await google.colab.kernel.invokeFunction(\n",
              "            'suggestCharts', [key], {});\n",
              "      } catch (error) {\n",
              "        console.error('Error during call to suggestCharts:', error);\n",
              "      }\n",
              "      quickchartButtonEl.classList.remove('colab-df-spinner');\n",
              "      quickchartButtonEl.classList.add('colab-df-quickchart-complete');\n",
              "    }\n",
              "    (() => {\n",
              "      let quickchartButtonEl =\n",
              "        document.querySelector('#df-15b500fe-c892-4247-ba96-97c4652b87ca button');\n",
              "      quickchartButtonEl.style.display =\n",
              "        google.colab.kernel.accessAllowed ? 'block' : 'none';\n",
              "    })();\n",
              "  </script>\n",
              "</div>\n",
              "\n",
              "    </div>\n",
              "  </div>\n"
            ],
            "application/vnd.google.colaboratory.intrinsic+json": {
              "type": "dataframe",
              "variable_name": "data",
              "summary": "{\n  \"name\": \"data\",\n  \"rows\": 2881,\n  \"fields\": [\n    {\n      \"column\": \"username\",\n      \"properties\": {\n        \"dtype\": \"string\",\n        \"num_unique_values\": 2737,\n        \"samples\": [\n          \"Lee Wickings\",\n          \"Mary Davis\",\n          \"ka\"\n        ],\n        \"semantic_type\": \"\",\n        \"description\": \"\"\n      }\n    },\n    {\n      \"column\": \"totalreviews\",\n      \"properties\": {\n        \"dtype\": \"category\",\n        \"num_unique_values\": 61,\n        \"samples\": [\n          \"Total reviews\",\n          \"1review\",\n          \"80reviews\"\n        ],\n        \"semantic_type\": \"\",\n        \"description\": \"\"\n      }\n    },\n    {\n      \"column\": \"location\",\n      \"properties\": {\n        \"dtype\": \"category\",\n        \"num_unique_values\": 38,\n        \"samples\": [\n          \"LB\",\n          \"PY\",\n          \"AE\"\n        ],\n        \"semantic_type\": \"\",\n        \"description\": \"\"\n      }\n    },\n    {\n      \"column\": \"date\",\n      \"properties\": {\n        \"dtype\": \"string\",\n        \"num_unique_values\": 2881,\n        \"samples\": [\n          \"2024-10-12T16:05:02.000Z\",\n          \"2023-10-27T20:14:43.000Z\",\n          \"2023-01-27T03:54:40.000Z\"\n        ],\n        \"semantic_type\": \"\",\n        \"description\": \"\"\n      }\n    },\n    {\n      \"column\": \"review\",\n      \"properties\": {\n        \"dtype\": \"string\",\n        \"num_unique_values\": 2881,\n        \"samples\": [\n          \"Walmart team lead in automotiveWalmart team lead in automotive. She was rood and unprofessional when asked a question. I will not be shopping there again.Date of experience:October 07, 2024\",\n          \"SENIOR DISCRIMINATION & DELIVERY RUDENESSSENIOR DISCRIMINATION...plus the ABSOLUTE WORST DELIVERY PERSON I HAVE EVER EXPERIENCED and why is Walmart hiring such INCOMPETENT and RUDE Drivers to do deliveries?  I live in a SENIOR mobile home park, and even tho I ordered the small sized microwave, I can't LIFT that weight anymore (damaged wrist so can't grip box)....and since delivery people are supposed to deliver TO YOUR DOOR...not to drop it on bottom step, just out of reach, while I'm standing right IN FRONT OF HER with the door swung wide open so she could drop it ON the ACTUAL 'DOOR' step........EVEN the POSTMAN will come to my 'ACTUAL DOOR\\\" to place it on ground so I can flip pkg inside.  THIS is the LAZIEST (will NEVER again use Walmart LOCAL Delivery) person I have EVER experienced...with me standing right there with door WIDE open to 'on purpose' just drop it JUST OUT OF MY REACH (with the door swung WIDE OPEN all she had to do was drop it ON my DOORSTEP (so i could flip box inside),  but not only does she GO OUT OF HER WAY TO IGNORE me...I even asked \\\"can you please just put it on my doorstep so i am able to flip it inside\\\" and her SARCASTIC/OBNOXIOUS REPLY was: \\\"yeah, well it's on your step, have a nice day\\\" ..and she immediately walks away with her MP Player plugged into her ears! WTH? Right in front of me with Door Wide open, she purposely just dumps it on the BOTTOM Step when 2 steps forward was all it would have taken for her to set it down AT MY DOOR step,   so i can flip it inside!.... Dropping it on a bottom step is NOT 'TO YOUR DOOR' DELIVERY!..ESPECIALLY WHEN I AM STANDING THERE WITH THE DOOR WIDE OPEN FOR HER....I made it as easy as possible to just set it down ON my ACTUAL door step! (and THESE people expect TIPS???? what the hell for??? being rude?). I will NEVER NEVER NEVER EVER order ANYTHING being DELIVERED DIRECTLY FROM A LOCAL WALMART STORE EVER AGAIN!!!!Also, website LEAVE FEEDBACK page is an absolute JOKE! It's there for LOOKS as FEEDBACK NEVER goes thru.... EVERY SINGLE TIME someone takes the TIME! to leave comments and hits 'submit', all that comes back is their stupid error message saying \\\"we can't process at moment, come back later\\\"......meanwhile it has been doing this for the past YEAR!  ....then SURPRISE SURPRISE, I found out the ONLY time  it will go thru, when hitting 'submit', is ONLY if you are leaving a FIVE star Review! = TOTAL REVIEW INTERFERENCE and CON JOB!!3rd: if you try to use their email address: help'at'walmart.com you get back a message saying 'mailbox no longer being monitored will be removed 10/28/23'. Now isn't THAT a COINCIDENCE? You try to reach them via email about a complaint and they block messages by saying they are closing the box THE VERY NEXT DAY that you are trying to reach them! Obviously an 'auto reply' that just keeps updating the date everyday so they don't have to reply!=SCAM!Date of experience:October 27, 2023\",\n          \"Went in there to pick up a few thinks\\u00e2\\u0080\\u00a6Went in there to pick up a few thinks saw some soda that was new so I was going to buy it and tried my food stamps it got scanned wrong I guess so I needed help and the employee berated me and publicly ousted me for using food stamps for soda so I contacted Corp told them the next day the store manager calls me and tells me he heard about my complaint and for me to drop it and if I come back in the store either he is \\\"going to take care of me\\\" or the police and I better hope it's the police so apparently I complained about the worker he is sleeping with to threaten me like thatDate of experience:January 25, 2023\"\n        ],\n        \"semantic_type\": \"\",\n        \"description\": \"\"\n      }\n    },\n    {\n      \"column\": \"rating\",\n      \"properties\": {\n        \"dtype\": \"category\",\n        \"num_unique_values\": 6,\n        \"samples\": [\n          \"Rating\",\n          \"1\",\n          \"2\"\n        ],\n        \"semantic_type\": \"\",\n        \"description\": \"\"\n      }\n    },\n    {\n      \"column\": \"feeling\",\n      \"properties\": {\n        \"dtype\": \"category\",\n        \"num_unique_values\": 5,\n        \"samples\": [\n          \"anger\",\n          \"sad\",\n          \"happy\"\n        ],\n        \"semantic_type\": \"\",\n        \"description\": \"\"\n      }\n    },\n    {\n      \"column\": \"stemmed_content\",\n      \"properties\": {\n        \"dtype\": \"string\",\n        \"num_unique_values\": 2880,\n        \"samples\": [\n          \"disappointedi made order day order next day got rst order fine nd order never receiv rd order deliv hous seem sinc walmart switch use trac deliveri servic instead fedex go ongo issu rst order pictur packag front door great nd order even pic packag deliv packag rd order pictur packag someon els front door could give star would date experi octob\",\n          \"bait switchbait switch walmart today substitut item order avail cours want charg buyer bewar go amazon select want buy get amazon walmart roll dice trap unless someon let walmart pick want buy recommend dont buy walmart onlin walmart address bait switch tactic date experi octob\",\n          \"went pick think went pick think saw soda new go buy tri food stamp got scan wrong guess need help employe berat publicli oust use food stamp soda contact corp told next day store manag call tell heard complaint drop come back store either go take care polic better hope polic appar complain worker sleep threaten like thatdat experi januari\"\n        ],\n        \"semantic_type\": \"\",\n        \"description\": \"\"\n      }\n    }\n  ]\n}"
            }
          },
          "metadata": {},
          "execution_count": 18
        }
      ]
    },
    {
      "cell_type": "code",
      "source": [
        "print(data['stemmed_content'])"
      ],
      "metadata": {
        "colab": {
          "base_uri": "https://localhost:8080/"
        },
        "id": "xek_YCEhreHV",
        "outputId": "9148d33b-39c6-49b8-8428-c9a34f2dc913"
      },
      "execution_count": null,
      "outputs": [
        {
          "output_type": "stream",
          "name": "stdout",
          "text": [
            "0                                                  review\n",
            "1       thought custom disservic worsei use think tie ...\n",
            "2       worst deliveri store unit statesi paid month d...\n",
            "3       poor custom servic scampoor custom servic made...\n",
            "4       walmartwalmart even begin like circu day park ...\n",
            "                              ...                        \n",
            "2876    reason gave one star reason gave one star let ...\n",
            "2877    employe physic verbal threaten today edit apri...\n",
            "2878    ladi return candi ladi return candi problem tu...\n",
            "2879    understand problemsh understand problem theref...\n",
            "2880    order cake birthday order cake birthday hallow...\n",
            "Name: stemmed_content, Length: 2881, dtype: object\n"
          ]
        }
      ]
    },
    {
      "cell_type": "code",
      "source": [
        "print(data['feeling'])"
      ],
      "metadata": {
        "colab": {
          "base_uri": "https://localhost:8080/"
        },
        "id": "2SNHNzW1rIB4",
        "outputId": "75f673f5-5a41-4932-da1c-ef53c044e3e1"
      },
      "execution_count": null,
      "outputs": [
        {
          "output_type": "stream",
          "name": "stdout",
          "text": [
            "0       feeling\n",
            "1         anger\n",
            "2         anger\n",
            "3         anger\n",
            "4         anger\n",
            "         ...   \n",
            "2876      anger\n",
            "2877      anger\n",
            "2878      anger\n",
            "2879      anger\n",
            "2880      anger\n",
            "Name: feeling, Length: 2881, dtype: object\n"
          ]
        }
      ]
    },
    {
      "cell_type": "code",
      "source": [
        "X = data['stemmed_content'].values\n",
        "Y = data['feeling'].values"
      ],
      "metadata": {
        "id": "d4-oDIM5rINe"
      },
      "execution_count": null,
      "outputs": []
    },
    {
      "cell_type": "code",
      "source": [
        "print(X)"
      ],
      "metadata": {
        "colab": {
          "base_uri": "https://localhost:8080/"
        },
        "id": "B5H8RTGxrITb",
        "outputId": "1542866e-bfb7-408d-d81d-7bb4082fa254"
      },
      "execution_count": null,
      "outputs": [
        {
          "output_type": "stream",
          "name": "stdout",
          "text": [
            "['review'\n",
            " 'thought custom disservic worsei use think tie comcast worst custom disservic question moot winner walmart foreign cd rep idiot chat bot exhaust telephon menu system bent prevent access carbon life form inscrut web site design execut eighth grade comput nerd array problem everyth goe plan never walmart certainli place shop ok groceri jumbo quantiti larger profit margin smaller unit woe unto thing like best laid plan mice men go awri breathtak incompet peopl softwar organ strain one credul believ experi withhold judgement date experi februari'\n",
            " 'worst deliveri store unit statesi paid month deliveri servic sometim deliveri come time come sometim item miss call walmart tell act like fault play victim incompet employe order lettuc recent let head lettuc black rot dare send take advantag senior especi know get store depend lousiest deliveri servic unit state compani would rather pay month groceri deliv know go get order done walmart absolut worstdat experi februari'\n",
            " ...\n",
            " 'ladi return candi ladi return candi problem turn receipt perfect condit date experi novemb'\n",
            " 'understand problemsh understand problem therefor close chat due inact type date experi octob'\n",
            " 'order cake birthday order cake birthday halloween went walmart paid real money food stamp custom servic ladi nasti attitud snatch card hand spanish ladi understand english deli order cake two creol ladi nasti supervisor give money back tomorrow go back get money back would never shop walmart walmart brandon way better polit come courtesi understand peopl order stuff need money backdat experi octob']\n"
          ]
        }
      ]
    },
    {
      "cell_type": "code",
      "source": [
        "print(Y)"
      ],
      "metadata": {
        "colab": {
          "base_uri": "https://localhost:8080/"
        },
        "id": "fWtgRus8sn5l",
        "outputId": "ddbf6206-4696-4cf0-f6a8-14c4a9a0e549"
      },
      "execution_count": null,
      "outputs": [
        {
          "output_type": "stream",
          "name": "stdout",
          "text": [
            "['feeling' 'anger' 'anger' ... 'anger' 'anger' 'anger']\n"
          ]
        }
      ]
    },
    {
      "cell_type": "markdown",
      "source": [
        "Split the data into training data and testing data"
      ],
      "metadata": {
        "id": "TQXRJDvCtPaw"
      }
    },
    {
      "cell_type": "code",
      "source": [
        "X_train, X_test, Y_train, Y_test = train_test_split(X, Y, test_size = 0.2, random_state = 2)"
      ],
      "metadata": {
        "id": "Ir5gIhWlspbd"
      },
      "execution_count": null,
      "outputs": []
    },
    {
      "cell_type": "code",
      "source": [
        "print(X.shape, X_train.shape, X_test.shape)"
      ],
      "metadata": {
        "colab": {
          "base_uri": "https://localhost:8080/"
        },
        "id": "Gm7UrXHWtNJQ",
        "outputId": "bf70c92e-439a-4073-c577-ed0a4dadf413"
      },
      "execution_count": null,
      "outputs": [
        {
          "output_type": "stream",
          "name": "stdout",
          "text": [
            "(2881,) (2304,) (577,)\n"
          ]
        }
      ]
    },
    {
      "cell_type": "code",
      "source": [
        "print(X_train)"
      ],
      "metadata": {
        "colab": {
          "base_uri": "https://localhost:8080/"
        },
        "id": "hSJuTGjSvoyX",
        "outputId": "4e56ae1d-3a0b-476e-97c8-1fe57a19e744"
      },
      "execution_count": null,
      "outputs": [
        {
          "output_type": "stream",
          "name": "stdout",
          "text": [
            "['terribl custom servicewalmart delay deliveri twice left packag outsid lock door late christma eve needless say stolen custom servic abysm refus replac refund advis make report polic seriou date experi decemb'\n",
            " 'buy walmartdon buy walmart sold defect macbook air laptop lost stuck broken laptop refus process refund even though explain happen date experi novemb'\n",
            " 'excel custom servic ethanexcel custom servic ethan happili receiv packag deliveri curbsid date experi august'\n",
            " ...\n",
            " 'bought air condition linebought air condition line app work hr use walmart back product sold date experi august'\n",
            " 'famili importantcc xxxorder robot vacuum arriv american flag nake girl sister open church church group nun priest embarrass live ri live tn brought tee shirt nake call pervert block phone e mail social media tri contact corpor fix problem get run around sent anoth robot vacuum sent back put contact seem walmart ethic care custom famili money want walmart send letter explain happen sister talk holiday date experi novemb'\n",
            " 'sorri say bought item onlin sorri say bought item onlin pack hane underwear say pack packaged experi decemb']\n"
          ]
        }
      ]
    },
    {
      "cell_type": "code",
      "source": [
        "print(X_test)"
      ],
      "metadata": {
        "colab": {
          "base_uri": "https://localhost:8080/"
        },
        "id": "YlVWeg4ysph2",
        "outputId": "75f0b477-815a-4a87-8fc8-b9faf34d6537",
        "collapsed": true
      },
      "execution_count": null,
      "outputs": [
        {
          "output_type": "stream",
          "name": "stdout",
          "text": [
            "['never issu date experi septemb'\n",
            " 'ruin christma septemb place order kid kraft modern outdoor swing set purchas christma present children ship two box arriv place septemb box place garag wait patient closer christma set swing set decemb husband began open box start process put swing set togeth notic receiv two box exact part two box miss box immedi got phone call walmart custom servic pleasur speak naja promptli inform us avail box order could replac one duplic box box would arriv later monday decemb would need return one box walmart would ship replac order box christma guarante would receiv part abl build swing set explain receiv box would send box back ask refund decemb receiv email state return receiv walmart would refund money obviou reason upset receiv box promis money refund card longer activ multipl phone call live chat custom servic husband explain situat help receiv box part cannot use build swing set told need call financi institut receiv refund walmart bill depart would contact us addit inform commun magic appear bank account januari request refund remain order will mail back box cost unsuccess get touch someon send refund second box highli frustrat disappoint date experi decemb'\n",
            " 'got best backshot one employe total recommend date experi januari'\n",
            " 'walmart servic terribl know walmart poor review known save time aggrav need ton bottl jack check walmart web site douglasvil ga store site list hyper tough ton bottl jack stock walk store stock bin store empti ask associ name breon one availalbl minut later breon ask want see manag minut later manag show confirm jack stock big surpris alreadi knew ask store polici case could get equical product fo price hyper tough store polici deal advertis produc stock frustrat minut left annoy happen walmart shop year never experi list mighti fallen went home depot associ show car jack ton jack stock six ton jack offer one price ton jack whole process includ checkout took minut much better minut wast walmart walmart sink beneath wave home depot new favorit store never shop walmart shop home depot instead good riddanc walmart date experi april'\n",
            " 'cashier shortchang cashier shortchang told supervisor supervisor ask cashier said shortchang us instead give supervisor said go camera husband walk thank walmart date experi juli'\n",
            " 'bad custom servic daughter lot troubl walmart placervil california year old lost nike shoe park lot last week know sound trivial real issu custom servic realiz happen shoe day lost went walmart said ye someon turn custom servic counter threw away new nike revolut shoe cost daughter money replac understand less one week turn shoe would get thrown away call corpor offic help one placervil store help lucki realiz shoe got lost lucki someon turn walmart threw away get custom servic tell us threw away corpor tell us talk placervil store pass one offer resolut even apolog bad custom servic corpor offic placervil store date experi decemb'\n",
            " 'price low went look pillow pillow protector pillow price individu price pillow protector went home sens got pair qualiti eddi bauer pillow pair pillow protector look groceri found save either price goug like groceri store discount store date experi march'\n",
            " 'want anwersi never problem walmart notic bank app place order amount sinc last year call tri figur amount came suddenli act dumb pretend hear hung date experi januari'\n",
            " 'walmart full themselveswalmart full sign marketplac ir sent everyth need get poroduct walmart guy play around play around wrote said deni question pleas contact support deal block lie top accord forb amazon top wal mart thing right amazon work seller wal mart act privileg even look stuff amazon pick store right shopifi store shopifi conncet store right amazon peopl tri ot make live keep go drama could see ir right paper work date experi septemb'\n",
            " 'walmart violat right customeri wish give zero star walmart custom servic know trick custom lower level posit highest posit decemb sent email ceo mannag execut purchas straight talk servic cell phone iphon plu one straight refil card walmart call straighttalk activ iphon plu start servic howev never activ straight talk tri return merchandis walmart store would accept back ask contact straight talk back forth situat went return polici expir mani call custom servic compani inform servic still pend past two year contact walmart straight talk success merchandis refund unlock walmart execut accept phone back claim find record purchas past due return polici present receipt everi possibl document refund straight talk unlock phone follow polic servic pend work contact top custom execut repres ceo solut compani took advantag honest custom date experi decemb'\n",
            " 'ask went wrong timey ask went wrong time tell paid walmart seem like good deal sign paid whole year handicap drive use mainli groceri deliveri tri store area tri make differ get earli morn make order onlin schedul afternoon sever hour away matter everi singl time get respons sorri order delay contact way go therapi doctor appoint daili time wait around walmart decid honor paid end pay shipt instacart get groceri even though alreadi paid walmart make mistak must add complain walmart sent coupon compens troubl consid shipt cost extra instacart walmart keep lousi anoth call featur walmart suppos abl order anyth ship minimum compar price someth ask ship would cost purchas store see quit mark item would cost ship updat cancel walmart refus give refund paid thru juli th like idiot place anoth groceri order today place order chose walmart prefer time deliveri pm figur would give plenti time get dinner readi well guess sorri order delay arriv coupl hour pleas contact better believ go contact top put hold bank account twice amount order said ensur enough money cover weight differ substitut order came put hold account insan date experi march'\n",
            " 'store palm bay pleas bewarestor palm bay worst custom servic rude individu employe manag manag alison portay racist behavior toward peopl color report incid pleas watch visit walmart servic train need particular store asap date experi septemb'\n",
            " 'honestli walmart go hill honestli walmart go hill fast st order onlin unless know come walmart rd parti never new walmart tell recent bad experi also store walmart go serv least checkout friggen open point six open time larg line peopl wait ridicul left stuff go shop somewher els thing need walmart lost purchas sure noth walmart go take job away peopl custom serv least regist open serv also compens serv bag stuff even serv say date experi januari'\n",
            " 'walmart worst deliveri custom servic done shop walmart worst deliveri custom servic ever experienc lot order suppos ship sent irrespons driver know properli deliveri instead ship fedex up irrespons deliveri peopl left packag outsid build apart live street result packag stolen request help recent miss packag custom servic repres deni help end chat abruptli kind way treat custom addit said account deactiv issu fault unbeliev unaccept never shop walmart store provid better servic switch date experi june'\n",
            " 'first multipl time never first multipl time never anyth think done groceri shop onlin pick dont half stuff main thing last time declin someth pick ask remov cours hear ye nope day later still charg contact custom servic wait day refund wait receiv merchandis done walmart date experi octob'\n",
            " 'delay delay delay offer servic handl order delay past month cancel hour updat allow reschedul order mean took day put back account like bill pay date experi march'\n",
            " 'disgust line killomentr custom disgust line killomentr custom servic one work horror peopl leav queue time pm loou ann cashierd experi februari'\n",
            " 'never againth first time order deliv wrong address three day late like idiot order anoth item sale site state day schedul day never date experi novemb'\n",
            " 'item get lost transitwhen item get lost transit want make feel like trust email vendor first give hr respond probabl lucki get money back compani truli garbag make life miser shop laughabl still think custom privileg buy thing stay away dirti arrog place date experi decemb'\n",
            " 'rd part scammer rd part scammer repeatedli order walmart com short merchandis rd parti seller twice order cup receiv twice bad luck keep happen scam walmart enough anyth stop thisdat experi decemb'\n",
            " 'packag deliv rd parti seller respons walmart order laptop add n tech help receiv text email state order deliv mid afternoon arriv home deliveri upon contact walmart inform often item mark deliv appar practic minut phone inform issu would escal would wait hour hour call previou call must meant noth went convers thing differ order third parti seller walmart need contact hour contact receiv email state contact rd parti seller expect contact hour minut contact also discov even receiv kind refund add date experi septemb'\n",
            " 'scam disabl kidsmi disabl child spent googl play card e gift card code sent fake refund money nice know take advantag disabl kid dont buy gift card walmart scam disabl kidsdat experi decemb'\n",
            " 'know untrain know untrain employe bad product yesterday morn order food local walmart deliv get home order came rib bought horribl smell threw away went websit refund today want steam broccoli slimi nasti untrain worker bad product none less give star date experi juli'\n",
            " 'give star pleas date experi march'\n",
            " 'walmart arrogantwalmart arrog make mani custom crimin say steal store walmart steal custom labor mani custom everi day check bag item especi want wait line mile long say choic check respons walmart neglect respons steal custom labor crimin custom give citat go courtroom shoplift wait get act act pass word stop shop walmart total choic give walmart free labor get crimin stop go togeth date experi march'\n",
            " 'bless presenc usama today thank good bless presenc usama today walmart order deliv two day ago reach hour later custom servic usama help concern today order box pamper diaper box came open close back like close box pack thing without tape diaper subtli open way rip rest way open pull almost doubt moment thought accident torn open count diaper make sure sure enough miss total understand need diaper much next dude take someth right apolog acknowledg uncal person knock door ask probabl would given hand principl usama sweet handl everyth hesit refund gener given voucher made whole day kind wish could leav photo kind end convers fabul date experi april'\n",
            " 'walmartth food groceri depart bad stay depart store cloth thing ok thinkdat experi march'\n",
            " 'need care need care give peopl least three time receiv someon els order item miss mani time today order sprite zero gave regular sprite sick good hour drink glass figur tast right almost threw went look bottl regular sprite fault check still need give peopl right stuff good experi onlin order order countertop dishwash mark deliv fed ex around properti issu refund even think took ten day date experi februari'\n",
            " 'walmart eldridg never walmart eldridg never answer phone morn start call exactli someon enough sens answer phone moment highli piss non stop dial walmart pick deliveri oper even deli tri get someon answer phone final someon final answer phone ask speak manag call minut manag help hung call walmart custom servic ask speak supervisor know leo actual supervisor even though said realli supervisor need go back train custom servic skill one worst experienc hung call walmart custom servic final talk supervisor good custom servic skill concern situat handl everyth profession manag eldridg took care issu call custom servic twice get issu take care walmart better train employe util good custom servic skill hire peopl answer phone ridicul call minut someon answer phone date experi june'\n",
            " 'order cake birthday order cake birthday halloween went walmart paid real money food stamp custom servic ladi nasti attitud snatch card hand spanish ladi understand english deli order cake two creol ladi nasti supervisor give money back tomorrow go back get money back would never shop walmart walmart brandon way better polit come courtesi understand peopl order stuff need money backdat experi octob'\n",
            " 'bad simpl bad simpl item product come other countri experi asian countri price see soon go place order chang doubl price manipul walmart care make billion make screenshot everi step mainli order onlin take month banana oil deliv way longer expens temi least know beforehand go day almost month simpl oz oil doubl order put date experi octob'\n",
            " 'made last trip walmarti made last trip walmart constant price increas unreason odsp get extra money pay went laundri soap afford keep cat devast account feed cat everyday price cat food alreadi stop buy overpr treat afford petdat experi march'\n",
            " 'care purchas gasb care purchas ga got charg transact paid bank sent account neg finish christma shop luckili money broke luck heard sever time friend say charg year final decid get christmasd experi decemb'\n",
            " 'horribl line chat custom servicei love wal mart custom servic onlin chat stink packag lax sinc nov first custom svc chat person connect site pay upto tri find packag tri send messag custom svc sent track number connect account info want phone number e mail sent email mail want bank name name said gave bank name want last digit card question want amount order address ask info account order question give person info secur site said said site might secur allof info know never identifi expect info end chat want know magnifi glass date experi decemb'\n",
            " 'bad meati write review husband went walmart claremor day bought chicken breast bent cooler case smell someth right thought noth thought mayb may blood packag smell went ahead took packag cashier said someth cashier cashier said yeah smell ladi said give back dad go get anoth packag gone get anoth one tell husband cooler case went manag told say anyth custom still want sell go sell bad meat custom take home cook think noth get sick salmonella poison mayb even die guy get su go happen think treat custom littl bit respect throw bad meat give back vendor let give credit someth leav cooler custom buy go home cook sick right said lost custom shop els date experi march'\n",
            " 'absolut horribl experienceabsolut horribl experi cancel order twice time gave differ reason call custom servic cancel account took three call cancel complet incompet lack care work ethic date experi juli'\n",
            " 'craze woman driver almost kill park lotthi noth walmart employe ladi custom silver lexu suv rage drove park lot slowli care stop custom like good person rememb need go walmart mile away creep slowli decemb chelsea al walmart park lot care hurt anyon stop white line big capit letter say stop year one behind whole time turn head right start go left look way go traffic light race vehicl ignor stop line paint perman fore long time lot shot buy within inch hit behind proceed exit park lot stop traffic front could proceed would hit would crippl life licens plate sinc crippl hit cannot report except walmart speed even roll window apolog mistak could apolog like road rage craze care cannot predict peopl even finest behavior could get kill injur go groceri store live year scari traffic never bad swarm entir way home normal time day wednesday weekday park lot usual safe curtiou driver percent time date experi decemb'\n",
            " 'walmart inconsist deliveri inventori managementa avid onlin shopper custom walmart amazon prime disappoint say walmart fall short comparison due inconsist deliveri experi inventori manag issu one signific issu frequent discrep deliv notif email receiv walmart actual deliveri order countless occas left frustrat email claim packag arriv find miss doorstep inconsist wast valuabl time creat inconveni also undermin trust walmart reliabl deliveri servic even order reach doorstep dishearten discov item frequent miss packag understand mistak happen recur issu indic deeper problem walmart qualiti control employe account crucial walmart address issu promptli ensur employe specif driver trustworthi reliabl moreov anoth frustrat issu encount inconsist onlin inventori avail store stock often attempt order item onlin greet unavail messag howev visit physic store day find abund exact item told avail onlin lead question dedic work ethic associ respons maintain accur onlin inventori inform walmart want compet giant like amazon prime need address discrep ensur associ proactiv commit deliv seamless shop experi truli compet like amazon prime walmart need take drastic action must priorit reliabl trustworthi driver packag deliveri enhanc intern qualiti control process ensur employe respons maintain onlin inventori accur reflect stock avail store addit improv commun custom regard deliveri updat resolut issu essenti retain custom trust signific issu effect address difficult recommend walmart reliabl altern amazon prime walmart potenti deliv seamless onlin shop experi need take immedi drastic action rectifi current shortcom date experi septemb'\n",
            " 'receiv survey least receiv survey least month want input never win hear noth back refus anymor survey see result never anyth shop usual time week date experi may'\n",
            " 'vari bad custom servicei place order onlin tire got email walmart pickup store yesterday reach drive mile desk clerk store inform order wast hr famili time ga energi take oblig friend drive car without tire report incid main help center walmart offer reimburs hassl go lot troubl get product number one compani world think twice put place also drive today hr pick order know get product also one repres suggest contact corpor phone call corpor phone got disconnect date experi octob'\n",
            " 'poor serviceov last year place sever onlin order walmart store ok onlin order terribl one case notifi error order mask tape price cancel new price cheap amazon bought found walmart repost item origin price also place order total advertis quantiti product suppli order contact walmart rep assur would address issu day heard noth contact walmart rep record origin complaint go whole process anoth time pre order dvd without notic releas date month futur realiz found dvd releas amazon month tri cancel order walmart inform guarante order could cancel pre order month advanc call complain walmart gave refund appal custom servic blame third parti seller cut walmart site responsibilti oversit date experi juli'\n",
            " 'recent anoth issu better judgement given walmart com anoth tri screw third parti purchas coupl year ago transact gone well andthi time order groceri walmart screw order immedi refund debit card could find onlin inform third parti compani got part groceri order wrong refus give refund reorder walmart supposedli initi refund regard matter remind custom need bewar third parti vendor walmart com may alway buy directli walmart date experi march'\n",
            " 'walmart known great valuewalmart known great valu easyg major retail player secur market posit win combin high qualiti product competit price set apart realm larg scale distribut date experi januari'\n",
            " 'walmart thief walmart thief never gave back money worst experi walmart cancel order juli still gotten refund report million time custom servic told deposit back account never receiv report back thing call bill bill either put mute end call without speak frustrat know loyal custom choos walmart target store trust worst merchant ever date experi juli'\n",
            " 'store automat cancel store automat cancel order contact support walmart corpor understand cancel refund day want reorder hour absolut unaccept shop make pickup order year locat store sequim washingtond experi januari'\n",
            " 'horribl custom servic horribl custom servic charg onlin order call resolv problem email resolv problem call date experi decemb'\n",
            " 'place onlin order walmart place onlin order walmart lamp bike gift babi boy th bday deliveri date home deliveri driver arriv item lamp driver arriv pull driveway search vehicl packag minut watch driver pull packag car walk door sat packag porch pick packag immediatli ask put back could take pictur driver took pictur ask anymor item said packag drive left receiv email state order deliv item receiv item driver took pictur lamp bike never deliv spoken sever rep includ supervisor muham state see pictur item clearli small bike refund replac deni twice extrem upset either walmart steal peopl put charg deliv packag steal even wors supervisor gave info driver give contact info walmart corp pleas replac item refund money custom long let walmart driver rob amount money took would fulli prosecut fix problem date experi august'\n",
            " 'place order place order part suppos deliv last night pm paid extra deliv within hour app updat say would get sat wait guess right order call walmart cs morn told would receiv pm even hour later receiv text say cancel order cancel order wors walmart planet last order made issu want order reinstat deliv today file claim w bbb hit everi social media review platform find leav bad review sick cancel order heard multipl reason separ call walmart com phone w corpor go find item stock offer walmart least fill order next closest store make sure custom receiv date experi decemb'\n",
            " 'disappoint custom servic experiencei purchas echamp mid centuri loung chair ottoman walmart attract stylish design promis featur product decent experi walmart custom servic regard addit assembl servic extrem disappoint paid live room set assembl servic angi facilit walmart chair arriv decid cancel assembl servic angi confirm cancel assur refund would process walmart within busi day howev despit multipl follow up walmart angi receiv refund issu face lack respons walmart custom servic unrespons email time reach direct back forth walmart angi resolut sight affirm payment complic sinc use affirm purchas contact well also direct walmart result frustrat cycl unproduct commun refund week refund cancel assembl servic process amount still reflect affirm account increas overal debt escal issu due lack resolut file formal complaint better busi bureau bbb also plan leav detail review inform potenti custom neg experi chair meet expect custom servic experi overshadow satisfact product caution potenti buyer wari addit servic prepar possibl difficulti get refund resolv issu walmart custom servic date experi may'\n",
            " 'great compani great compani item cheap doabl thank walmart date experi decemb'\n",
            " 'aggravatedjust aggrav item walmart com rd parti seller issu aris respons thrown back seller order walmart respons stop go start buy local date experi june'\n",
            " 'walmart glasgow kywalmart glasgow ky recent went electron section look buy tv soundboard one staff depart rude busi cell phone help att guess text phone import job date experi august'\n",
            " 'pharmaci rip went pharmaci get pain med dog mg gabapentin cost capsul question paid left home found med cost capsul mani onlin pharmaci includ walmart pet rx site peopl store said bad sad huge rip never go walmart med previous want bottl zetia anthem insur paid part pick got onlin ridicul date experi june'\n",
            " 'walmart black friday ordeali want get dad fianc coat took advantag black friday deal found two coat purchas sad say never receiv go rd delay call custom servic good thing experi custom servic got right gave rd parti bought coat hr respond walmart know seller respond request refund got refund within hr period walmart custom servic excel receiv coat want date experi decemb'\n",
            " 'walmart care employe us walmart care employe custom vote money keep shop altern regularli get one star review yet still open mani new store town exampl aldi wonder shop anywher els date experi april'\n",
            " 'terrif experi walmart tire deptw arriv clock appt stood desk wait minut anyon came help confirm appt unabl find tire order onlin accord servic tech pull earlier day side note one car bay employe garag final got truck start process one employe would work chang balanc tire would watch one employe decid start box match pile tire guess realiz watch glass process took hour half told truck finish proceed tell us need figur eight park lot meant go perform cheerio park lot vehicl employe attempt other watch abl wife yell four wheel drive pleas laugh mention come close hit car park lot sure secur camera date experi februari'\n",
            " 'screw walmart screw walmart even go start peopl run place worst busi model planet date experi march'\n",
            " 'order deliveri walmart order deliveri walmart driver took groceri unbeliev custom servic need learn tl speak english terribl custom servic never order deliveri date experi novemb'\n",
            " 'got good one yai got good one ya made groceri order walmart com use ebt card pay sent ebt site put pin next day pick groceri came home check bank account receiv alert bank charg walmart put account red pay electr bill alreadi past due even threat electr shut walmart fix problem error made end go like without heat winter bill dept help unsympathet pleas sure remov form payment use walmart com care pay hefti price liter bill dept rep woodi name gave basic b way convers ad insult hope get year deserv date experi januari'\n",
            " 'order tv never came got order tv never came got snatch porch detroit follow step custom servic repres said would reimburs sever time said littl price rang reimburs transfer supervisor said reimburs combat veteran tour iraq afghanistan life chang i injuri spent month walter reed present year old son contact everi veteran group wound warrior piss never use walmart ever fb mejerri ashley veteran similar experi contact date experi novemb'\n",
            " 'lawn garden christma stuff septemberi went walmart jasper indiana get thing lawn garden disappoint see full christma stuff middl septemb ridicul complet frustrat custom still enjoy yard garden assum compani greed shame take away special christma time suppos buy coupl thing need hardwar store order rest amazon bet sam walton would approv date experi septemb'\n",
            " 'join walmart com membershipdon join walmart com membership worth kept cancel order x row call custom servic custom support rude rude want hear talk want talk manag hang date experi august'\n",
            " 'custom servic badthey resolv issu refund money gave star resolv late one custom servic baddat experi septemb'\n",
            " 'custom servic part dealthey fulli sort custom servic strategi basic none call say deliveri made answer simpli ye alreadi deliv noth els go give chanc compet amazon logist custom satisfact date experi juli'\n",
            " 'done treat like thiefi ad amount money spent last year walmart derbi ks approxim repeatedli treat like sort thief everi time walk door command show receipt prove decid find corpor assum custom steal date experi decemb'\n",
            " 'buy anyth expens walmart comi order tv onlin walmart com charg credit card cancel order call custom servic told order cancel unusu activ account said unusu activ cost tv high worri could reorder tv minut said walmart day refund money st order recommend reorder wait refund st order struggl understand logic behind charg cancel order would even legal hold money day date experi decemb'\n",
            " 'oil chang anyon stop get oil chang walmart best thing could ever done never experi like made day show told want brought carstraight garag ask question said long go take said minut watch bring car anoth gentleman hand open readi work well went got milk bread came back part depart car garag go get bread milk sure even take minut even check let check counter like say came back car gone gentleman look said fix call car readi park wait said wow seriou said ye ask bring groceri oil chang fast easi synthet great custom servic minut realli made day extra bonu great custom servic date experi septemb'\n",
            " 'turn use state issu duplic driver licens local store went local store purchas beer duplic licens receiv lose driver licens state tn accept yesterday turn purchas case beer told previous ok use day got back origin told polici also carri employe perman card pictur birth date told good enough year old never humili quit agit done custom wal mart poor manag polici guess birth certif would work either sinc pictur taken birth date experi septemb'\n",
            " 'pick order walmart pick order walmart young man brought load everyth one cooler bag although ten bag put pizza bag spinach bottom bag proceed put everyth top five lb flour half gallon milk half gallon creamer mani item needless say pizza spinach crush rare shop walmart never onlin rep assur would send someth make disast heard sinc date experi decemb'\n",
            " 'walmart plu week scamwalmart plu week scam order dyson vacuum first hour charg card item never came call find come said send replac instead day later cancel order issu refund scam advertis item rock bottom price send call walmart told becasu item stock howev still avail order onlin higher price scam date experi juli'\n",
            " 'walmart compani walmart compani offer competit price product decent good qualiti commend employe receiv numer benefit ampl opportun career growth promot dedic time effort career walmart viabl option howev area requir improv firstli train program fall short train video provid limit guidanc much job descript learn job experi revamp train program necessari secondli level profession exhibit walmart employe basic best expect overli enthusiast environ even simpl greet basic custom servic seem lack import note review reflect experi shopper former employe although posit encount unfortun unpleas incid well consid factor would give walmart rate star date experi june'\n",
            " 'walmart send custom trash broke paper shredder mailwhatev purchas bonsaii paper shredder bought one jam sm sheet paper call walmart corp bought line girl told take local walmart get refund troubl send replac refund ok cool well freebi come receipt order rememb week get good faith paper shredder use coupl time week get anoth paper shredder call walmart ask sent anoth one idea yesterday freebi jam pace paper find instruct got paper shredder see paperwork box seal pretti tight tape open box guess walmart audac send broken paper shredder get trash feel custom sent trash jam paper shredder paper got shreddedd experi octob'\n",
            " 'walmart reviewha lot everyday item need thing dont need lol alway clean bathroom alway kept love date experi decemb'\n",
            " 'day deliveri gone wrongi order groceri plu item walmart day deliveri order storag contain groceri item deliveri schedul today pm track order deliveri person came way resid attempt deliveri instead person took th item back store claim damag believ minut worst experi ever order much walmart could give experi zero wou would give hard time cancel order refund money shame date experi decemb'\n",
            " 'walmart gift card walmart gift card christma tri use yesterday associ said balanc cent shock said gift card use yesterday arkansa live rhode island immedi report fraud walmart help never shame walmart date experi march'\n",
            " 'everyth mess upi sign year free ship far disast use driver small order lazi check shelf went bj price much better walmart need ship warehous store call custom servic anoth countri oper understand say drop yearli ship go bj date experi januari'\n",
            " 'wharton dilworthwharton dilworth mn automot tire center suck sock order tire onlin black friday ship home brought dilworth walmart center put car ask buy tire protect plan inform unabl purchas real reason one store manag clown work back day could tell also appoint start work car clown screw back clown around crack joke circl jerk told done yet watch grab fo back start car hr late turn lie face ask got salti af call lie current hr half past appoint time still tire mount balanc kid fire mayb manag see shitshow also woman oil chang appoint smdh wth walmart better better date experi decemb'\n",
            " 'fed ex walmart thievesf ex never deliv packag correct address call multipl time last time walmart determin could get refund one item two request rd parti ye shop walmart return done determin fed ex state packag deliv must photo porch time call becam rude respond likewis walmart determin fed ex deliv longer purchas anyth walmartd experi novemb'\n",
            " 'order get constantli cancelledmi order keep get cancel call say wait hour reorder get cancel call thing top nice wast time get someth amazon even mean pay buck date experi june'\n",
            " 'furnitur reviewgood qualiti furnitur decent price got everyth need form one place great price date experi juli'\n",
            " 'walmart doesnt care walmart customersi reloc order item walmart abl deliv mattress could find apart came deliv sofa bed order drop fedex offic take multipl cab get packag fedex new apart rd floor get way place box damag torn four side open box sofa bed torn fabric undersid torn upset tri get fair compens inconveni caus walmart put pain process chat multipl associ hour name taha karim mohammad ejar chinthakindhi ruhina offer remedi amount even cover cost cab fare loyal walmart member treat fact move also happen visit local walmart store get item guess store dirti unkempt unorgan sell damag defect good purchas set night light one broken take cab return vehicl busi walmart cost would probabl target amazon walmart give valu save anymor quit busi walmart power help fulfil order inconveni overcharg everi purchas date experi februari'\n",
            " 'listen custom im happili surpris walmart seem listen us horrifi non english music seem like safe shop see long keep good go walmart kudo date experi novemb'\n",
            " 'pet cartsi seen shopper dog shop cart alway thought dog carri parasit germ allergen allow around food boy wrong walmart dog friendli dog date experi june'\n",
            " 'rare shop walmart onlin rare shop walmart onlin return difficult imposs went today told rd parti contact refund shop walmart com abl return item could gone rd parti directli last time ever shop also leav bad tast mouth thought shop walmart person think take busi elsewher date experi april'\n",
            " 'use love walmart use love walmart constant chang lack employe price go yet work prefer use walmart pick go store liter made eye contact employe turn anoth way crazi date experi august'\n",
            " 'walmart custom servicewalmart worst compani ever dealt custom servic terribl ask question complet ignor concern want push idea feel like care custom staff unhelp often rude make frustrat experi everi time coll would recommend walmart anyon aw servic date experi decemb'\n",
            " 'walmart plu rip offi walmart member pay month order get groceri deliv live anchorag alaska nearest store minut away abl get groceri deliveri year driver deliv yet still charg everi month advertis groceri deliveri file bbb complaint good walmart plu rip date experi januari'\n",
            " 'love hate themlov hate still best price anywher realli like new self checkout option faster store date experi juli'\n",
            " 'insan bad custom serviceinsan bad custom servic terribl wage employe terribl onlin groceri servic even remot altern compani would go busi date experi januari'\n",
            " 'click funni typeidk bro date experi octob'\n",
            " 'black friday bright earli black friday bright earli purchas item onlin day later cancel order say stock stock withdrew fund walmart need make right get item order date experi novemb'\n",
            " 'walmart want put articl say walmart want put articl say theft self checkout store r shut amazon conveni deliv fast unlik walmart articl talk custom want check hassl wait line stuck self check get employe help sinc walmart cheap hire employe check peopl like human be self checkout world get robot cheapi custom want pay job employe r get paid amazon continu keep take busi sinc peopl want conveni walk store lol work free check packag lol rather order amazon packag night wait check thing walmart even pay get get right realiti guy instagram thebunnygreyd experi decemb'\n",
            " 'number store shop walmartmi number store shop walmart alway look purchas someth incorrect part miss issu matter never problem return anyth keep receipt reason give store credit custom servic alway friendli help recent purchas tripod review instagram part hold phone miss simpli went even need credit card refund want give posit review walmart employe big thank think great job im happi custom donnad experi februari'\n",
            " 'walmart deliv cancel two order last two week one deliv st loui instead kansa citi one deliv address home receiv shipment product got refund still product order stapl yesterday got deliv today date experi decemb'\n",
            " 'imposs speak live imposs speak live human date experi decemb'\n",
            " 'poor custom servic poor custom servic one employe mallineya cash counter might minut replac guy overther purchas biscuit bnana ask pleas verifi weight banana misbehav start shout rude manner walmart big compani kind custom servic provid custom kind employe recruit even ethic manner afteral face walmart leav impress also harass custom name employe may b wrongli spell bez ask name guy told wear scalf head hope walmart compani think someth improv highli appreci thank youdat experi juli'\n",
            " 'order app order app incred easi servic great never love store order onlin app best way get product price love conveni experi alway want date experi juli'\n",
            " 'unreli ship poor custom servic item purchas confirm deliv packet receiv contact walmart resent singl packet contain one item item purchas order miss packet deliv separ custom chat rep rude need end chat assist custom think confus anoth box lie side walmart wm packet pictur show clearli amazon separ order deliv day wm claim item deliv separ packag although one packet receiv wm contain singl item instead two order date experi novemb'\n",
            " 'shop walmart horribl custom servic order mooer red truck combin guitar multi effect pedal processsor overdr distort reverb way charg total plu chang item order christma gift advis deliv wait patient although son need item asap money walmart hand receiv notic item track number deliv mailbox concern believ time would fit mailbox retriev item torn envelop size ship label tini emori board insid immedi contact walmart custom servic demand money back son could get need wait sinc christma purchas someth local got runaround hour request speak supervisor anoth minut phone got apolog gift card promis would abl get refund saturday th window deliveri date fell walmart rule said wait two addit day would need call saturday wait one addit day call today sunday got noth runaround wait consider time two addit call bunch research first person today call promis refund said wait hour fund refund sure walmart prefer money account long possibl rather mine ask confirm said get email advis state check email said investig item contact seller would hear seller coupl day said lie made actual two call first one sat final initi convers ask anoth supervisor complet uncoop said return item first could get refund said wast time return one inch emori board receiv item want money back cours would return total insult packag offer provid photo label item also advis alreadi promis refund immedi believ would taken note busi know take note regard call continu insist give refund without return junk receiv spite promis previous made supervisor would highli recommend noon busi walmart light horribl custom servic dishonest promis crappi vendor look vendor terribl review could find review cloth item noth music electron past deliveri date zero right sit money appal behavior say least date experi januari'\n",
            " 'horribl never bad experi oct year walmart member steal owe return back nov item money keep tell issu back offic process manual yet jan theiv date experi januari'\n",
            " 'whatev purchas walmart whatev purchas walmart gift card purchas walmart gift card never gave anyon decid use card told card use onlin card never process never use scam liter took money honor card date experi august'\n",
            " 'longer recommend walmart longer recommend walmart deliveri servic spark worst ever kroger deliveri way better food price way better kroger use instacart onlin groceri deliveri ship thing like cloth bed last straw cancel order last deliveri driver johnita said give f refus late deliveri refriger item humid outsid high took pic partial deliveri item remov porch never return store got refund come done walmart get food cheaper kroger walmart date experi august'\n",
            " 'horribl experiencehorr experi order paid product deliv damag deliveri driver took product back said would deliv anoth one replac never show far refund abl replac product gone day walmart custom servic store onlin phone help stay away walmart unless want get rip like rip date experi novemb'\n",
            " 'walmart com tri control spend refund moneyi problem packag order walmart com acr north florida hame feet public road good privat road good turnaround point home drove tractor trailer road year includ fedex career leav custom valuabl merchandis gate next road job deliv merchandis receiv job respons shipper receiv someth call work ethic seem around anymor contact carrier fedex up driver instruct deliv packag door ignor contact walmart com repeatedli complaint chang told walmart com would order merchandis longer merchandis left gate side road could stolen rather follow deliveri instruct went back amazon fleet deliveri vehicl bring merchandis request deliveri pointso thought would curbsid pickup order walmart com sinc pick merchandis toaster oven air fryer purchas chase credit card walmart com place chicken leg thigh attach air fryer thing smoke like alarm fire outsid could open window initi refund request explain reason given return option refund close chase credit card account american express card file use sinc decemb credit saw option credit went favorit walmart store north gainesvil florida return merchandis origin box even request cash store credit told give either pickup groceri curbsid pickup call walmart com saturday connect someon anoth countri explain refund problem get request speak supervisor explain problem supervisor got frustrat year old man tri get money return return faulti merchandis ask could put store credit said ye let speak return person reviv option given walmart com system rude talk say awar repli option avail walmart comput system fine said pickup curbsid groceri order appli order said said cancel order appli resubmit order said could point solut idea come got upset said come solut cancel order groceri curbsid pickup order simpli shop later night thought would walmart com curbsid pickup anoth toaster oven air fryer payment option appli toward purchas refund america express credit card file refus post refund card go go two payment method curbsid pickup purchas saw charg reason includ cancel happen walmart com hold refund hostag allow spend money allow spend money walmart com walmart com past say would receiv refund money outsid vendor receiv merchandis back china pay merchandis purchas receiv merchandis want hold money merchandis review vendor walmart com million custom world wide thousand million custom money say day receiv thousand million dollar interest money bank account get money back close walmart com account email presid trump walmart com hold money hostag tell spend refund money contact ftc today make complaint hoop garbag veteran senior citizen go get refund money back walmart com bank credit union credit card compani permiss control keep refund money merchandis return walmart store date experi januari'\n",
            " 'walmart deliveri alway fast walmart deliveri alway fast product exactli want everi time thank date experi septemb'\n",
            " 'sold use item newi bought item new deliv use item also charg twice cancel order never return money date experi decemb'\n",
            " 'buy anyth rd parti buy anyth rd parti walmartpurchas laptop sale price right black friday event sold rd parti walmart stock order howev didnt arriv whwn expect track indic delay sever day still delay one abl assist walmart web page indic item sold rd parti contact howev could find email phone number compani email would go walmart turn send supplier indic refund would issu longer suppli item regardless black friday event done abl benefit known never got laptop respons walmart sorri product avail date experi novemb'\n",
            " 'would repair flat tire would repair flat tire sevic manag refus listen say said repair nasti man went block tire fix minuit store wimauma florida date experi januari'\n",
            " 'walmart biggest rollback yetwalmart biggest rollback yet dei polici mean longer feel safe welcom store ceo claim want everyon feel welcom activ make peopl white christian male feel unwelcom corpor polici hold near monopoli live avoid much date experi novemb'\n",
            " 'desecr legaci sam waltonnorton r nowlin cara drivewoodbridg va met sam walton year old bentonvil arkansa older brother andi tri get job drive one sam truck spoke brother listen close said sam sam said first would buy haul sell product made usa said employe requir speak english store dock never anyth english around custom today novemb approxim hour shop walmart store woodbridg virginia check pakistani cashier ahm even acknowledg presenc began jabber away anoth employe foreign languag look strang express ask talk instead say ye repli name rasha someth like name repli speak languag rude speak languag presenc ahm smirk shrug said speak languag want speak demand speak front end manag instead direct someon woman call coach name tehreew someth els pretti close spell lodg previou complaint employe speak foreign languag around custom previou front end manag white ladi name marjori month earlier mention tehreew marjori agre behavior employe rude said tehreew told employe free speak languag home work workplac wear facemask see sneer express probabl show ask told sam walton said marjori said ask reason gall say mask reason requir walmart employe speak english told would report walmart corpor today told hope fire unreason objection attitud appar presum ahm could insult walmart custom impun idea walmart corpor read complaint realiz insult custom stop shop walmart go store safeway albertson alpha beta food lion giant wegman harri teeter much better run store walmart sam walton probabl look spirit world sadli shake head socialist unamerican immigr done great enterpris sinc death year age retir certifi paraleg u depart veteran affair graduat degre behavior social scienc u tyler one year law school also educ secondari teach certif u tyler seven year classroom teach experi texa washington state also accumul year experi work retail groceri conveni store take degre speak relev experi date experi novemb'\n",
            " 'thought opinion walmart west sacramento ca item stock cashier rude disrespect secur rude verabl cruse custom patienc dirti place shopdat experi februari'\n",
            " 'walmartit walmart product usual cheap price low onlin ship faster amazon appreci date experi march'\n",
            " 'miss wooden bench part purchas two wooden bench line walmart one bench miss assembl part uniqu someth could get hardwar store sever call walmart respons got return bench miss small part estim would cost less dollar eventu figur way rig solut way meant assembl shame walmart lost cuistom date experi may'\n",
            " 'hello hello close account walmart plu month ago like octob wallart continu charg monthli sinc like month stay month usa autumn use w left close account close accounti even cannot access anyth contact lawyer stop con pleas stop rob like sinc account delet close guillaum metayerparisfranced experi octob'\n",
            " 'slow servic date experi march'\n",
            " 'deliveri made hous deliveri made hous shopper deliv item rip bag actual put case soda plastic walmart bag start bring rip bag item fall pick bag soda bought hous case soda fell crash floor soda can explod grape soda went wall floor even dog call walmart hour talk peopl lie got refund case soda nobodi care stain wall mess clean heartless compani never shop date experi april'\n",
            " 'product good custom product good custom servic also pretti well manner took time understand patienc level cool overal good experi date experi septemb'\n",
            " 'got indoor soccer ball got indoor soccer ball dog pop got date experi decemb'\n",
            " 'tast servic may never know wrong item sinc order four week ago consid deliveri indefinit meanwhil littl recours hire attorney refund hour later add insult injuri told deliv outsid wait sign deliveri truck possibl deliv camouflag full size refriger design look like tree probabl hide garden somewher inconspicu go back flashlight hope trip advic walmart need deliv best take week work call walmart deliveri profession everi minut sinc nobodi walmart follow anyth custom date experi septemb'\n",
            " 'walmart affirm tri screw set account walmart app enter requir info approv purchas affirm start order process state mini fridg would deliv receiv deliveri notic address someon els name address notifi walmart custom servic deliveri notic differ name address addit file disput affirm contact walmart sept deni resolut told respons never includ name order never heard person deliveri address receipt email person name address pop account idea perhap person phone number past ai crap insert info account howev affirm say respons payment base walmart claim someth system screw afford expens gift someon know date experi august'\n",
            " 'order mani thing onlin order mani thing onlin walmart present get underprivileg children last minut item need besid cheaper sight deliveri superb realli blew mind walmart keep good work date experi decemb'\n",
            " 'terribl servicewalmart groceri deliveri servic terribl habit deliv wrong address say pretti much liar caught driver deliv item neighbor said place order said place order gave order broke one item second time experienc deliv wrong address trust custom servic care seem tell anyth date experi august'\n",
            " 'cancel order unrespons support order lg class k place order lg class k uhd ole web os smart tv dolbi vision b seri ole b pua order inexplic cancel receiv notif state deliveri cancel due unexpect issu support team unrespons inquiri matter dissatisfi lack commun resolut date experi januari'\n",
            " 'buy walmart comif could start review star would order pair capri receiv two shipment pair one pair second tri one pair like fit decid return pair return two shipment well fedex track confirm deliveri return shipment one return refund correctli short refund place countless call sent countless email get peopl help want money back favor buy walmart com refund depart horribl date experi april'\n",
            " 'wish cd give zero starswish cd give zero star tri order walmart order past problem suddenli need password age go creat yet anoth password walmart either want password less custom guess meanwhil tri find way reach walmart custom servic via internet invit buy self help book custom servic walmart staff shd read walmart custom servic stink non exist date experi may'\n",
            " 'walmart keep chang order without consenti recent order lb bag dog food walmart keep chang order send lb bag dog food without even ask ok chang order want lb bag dog food would order order lb bag dog food th time row done time short dog food base cost per lb everi time contact custom servic gotten help request ignor never hear anyon last time email support day two later got email request fill survey person help heard anyon thing happen multipl time email back time email ignor email ceo walmart still got respons second time file corpor complaint walmart respond two year ago deliveri left garag puddl water instead hous door suppos left get deliveri hous door problem put sign everywher tell leav packag garag one hous tell leav packag packag still left garag puddl water appar deliveri driver read common sens leav packag sit water contact walmart ask help shipper left packag sit puddl water need come back move bag dog food hous door unus water sit handicap cannot carri hous feet away day later got anoth bag dog food order deliv stack top bag sit water garag walmart told would return bag dog food would replac quickli print label attach bag dog food need return could pick deliv next bag dog food take deliv must call walmart differ time everi time got differ answer suppos extrem frustrat know custom servic said would supervisor call back within hour wait week never got call told everyon talk handicap could move bag dog food went look ship label realiz return usp fed ex deliv dog food walmart expect physic take wet bag dog food weigh lb post offic return could physic coupl week dog need food bag salvag one stack top bag sit water get help walmart hire someon bring good bag hous get rid bag dog food wet walmart refus call shipper come move bag dog food still good also phone fed ex tri get come back move packag never show final stop respond call like walmart month later walmart charg credit card extra bag dog food sent order cost bag dog food good pay someon addit come hous take realli heavi bag dog food get rid good sit water week wrote letter walmart corpor offic charg extra bag dog food sinc custom servic would even respond explain everyth happen even decenc contact surpris refus contact issu also dog food even custom servic depart go even respond custom complaint especi someon take time contact corpor offic get help custom servic depart absolut useless would give walmart com score zero could care serv custom care make money even mean screw custom date experi februari'\n",
            " 'walmart wrongi place onlin walmart order walmart charg card file deduct fund account walmart fill order deliv order liter took peopl figur hadnt fill order yet took fund day ago fund food month help walmart rep actual close chat session tell want help peopl done listen christma meal grankid live town never see lost forev walmart care im still food fund get food walmart need guess surviv year domest violenc feel emot treat way someon unworthi even basic need food thank walmart loyal custom year date experi decemb'\n",
            " 'order mini fridg freezeri order mini fridg freezer came damag box damag side door bent one talk chat robot number call email would bought reduc rate get damag frig back toss bad busi date experi novemb'\n",
            " 'nightmareit unbeliev incompet corpor big treat custom pay deliveri servic pay servic mean contact everi singl time someth deliv place app get text notif nice know someth avail need substitut order way normal thing would get pay servic despit check box call time request fix problem end get told escal take three four day yet still happen peopl deliv one fought see note say text refus order also know order multipl time week sometim spend lot money seem matter big corpor place order keep go email check see anyth chang deliv pay servic tip person fault call number actual written corpor coupl time week absolut respons store last month issu beyond anyth ever deal life get told return thing store get employe figur card number thing differ yet show inform get told carri back call number worth item got told need send fedex employe store make phone call step line cart full item take back car final got fedex take eight day get point initi refund hold money day point almost month money return process nightmar depend marketplac whatev check number go anyth definit corpor kind stuck area major store nearbi conveni weather chang earli morn deliveri wake sit check email hour come nobodi go tell anyth call store ask manag beyond ridicul listen phone ring hour day leav store item manag came phone number handl upset walk away number hung paid item want need worth hassl late day tell go refund item even though show proof purchas ran time hold money long late return go deal respons anyth point feel like get paycheck time spend phone get paid custom pay servic call everi time even told look record much money spend matter matter whether spend dollar appar big corpor go go discuss temporari hold put card alreadi heard lot issu could never figur exactli charg take anyth substitut might differ price get chanc approv keep check app normal process get text messag complic make sure cover corpor care call store speak manag go listen phone ring store walk away never fight hard question sign deliveri servic unfortun sometim easiest thing get store need thing pay suppos conveni custom dump ground nobodi care seriou custom servic issuesd experi march'\n",
            " 'recent purchas bookshelf recent purchas bookshelf walmart com compani call annaey co ltd never receiv product compani say deliv sign search internet found mani complaint peopl receiv product one check fedex found compani use fake fed ex number respond within requir hr walmart refus refund moneyd experi june'\n",
            " 'frieeeeendli date experi septemb'\n",
            " 'custom servic check custom servic check horribl time self check better clerk come behind rate experi wal mart fallon illinoi told clerk custom yet obvious need ensur review stellar date experi april'\n",
            " 'goodi never issu servic locat alway clean help date experi april'\n",
            " 'stari made onlin order one item ask deliveri person one said one zero also total miss two item give call want item brought hous said suck stardat experi june'\n",
            " 'word disgust word disgust treat walmart head offic employe caus unbear anxieti pain suffer wage loss wast time failur obtain medic treatment injuri record profit doubl price horrif bbb rate known worst custom servic email urgent respons last email octob sent regulari sinc fall injuri calgari ab westbrook mall store email confirm refer number receiv time told call email ignor injuri qualiti bad servic problem summari note person store injuri ignor faulti item purchas faulti onlin websit issu faulti onlin coupon sever custom servic email aknowledg ignor staff ignor question return older item refund credit still owe faulti grill machin summer onlin order wron food spoil date experi octob'\n",
            " 'miss item recent pickup miss item recent pickup order second time happen month time refus reimburs miss item suspici happen item strawberri delet walmart app refus use servic ever sinc play stupid game date experi juli'\n",
            " 'cashier walmart cashier walmart attend past month differ state walmart biggest employ us hire cashier disturb cashier improv shop experi one leader us think corpor follow peopl import bottom line date experi may'\n",
            " 'custom servic horribl custom servic horribl spent hour phone guy still get help need guy screw order find decenc get right children sleep floor guy could resend two correct size mattress buy mattress third parti bought walmart explan problem third parti involv problem bought guy need ship correct queen size mattress children wait mistak unaccept spend money air mattress till problem resolv date experi april'\n",
            " 'mental health doctor regular mental health doctor regular doctor make us go activ state counti privat hospit brought polic sheriff like fell asleep downtown bench took hosp place like mhmr staff make us attend activ peopl normal hang around associ say meet mean rude get hem yet doctor put group normal around attend get told staff attend stay hospit longer may start extra drug also done later staff throw us back street sent us home ever case may k e sackett whiteladyaustintx also particip notic staff use excus start psych drug known caus medic condit feb date experi februari'\n",
            " 'bought box bitiwend us bought box bitiwend us walmart site product work told ship back say refund product ship thank rip offdat experi juli'\n",
            " 'wallmart subscript deni servic order automat cancel past month solut refund yearli subscript complet powerless worst custom servic ever experienc past week write mid juli order automat cancel exchang dozen email phone call custom servic get automat repli sorri incoveni fix issu next h noth done ask refund yearli subscript paid full give summari paid servic wallmart refus provid complet disrespect custom disgust handl feel could even reason sue compani paid servic wallmart refus deliv date experi juli'\n",
            " 'unjust cancellationord wicker rock chair onlin discount price order chair gave deliv date date came got email said delay got anoth email said cancel chair due stock least said get back stock sell discount price mayb way charg went amazon plenti chair order allot walmart mayb go amazon instead date experi novemb'\n",
            " 'order onlin receiv order onlin receiv frozen product meat also receiv black moldi raspberri like entir carton thank walmart homeless singl mom shelter give us gift card buy food onlin well guess year old doesnt get dinner week date experi june'\n",
            " 'simpli bestwalmart continu exceed expect appreci superb custom servic look forward better good product roll date experi may'\n",
            " 'total disappointmenta six year associ devast treat compani repres start place order less receiv item got home contact walmart com order told wait hour wait still noth contact back told would deliv novemb well still noth told contact seller seller request inform provid send messag novemb th take fed ex wow walmart told noth could disput bank well tri paid one payment walmart com bank disput full charg want let walmart know hung multipl time place hold hour resolut lost money order receiv item start return app take store novemb get store told take problem took two cancel return neither glitch system multipl attempt transfer hold hour call supervisor hung assum thought would still resolut store actual sent item back still six item need would like return novemb today hold place supervisor min hung experi brought tear disappoint work repres compani could careless peopl look make money sad experi never speak highli compani whether employe realli treat commun serv date experi novemb'\n",
            " 'want upgradesi walmart money card plu year made card seem lock card black card load free black card quick work sent silver card charg everytim load call upgrad get money pleas use chime much better even cash app better ask account chang peopl speak english well sound like robot unless fix problem chime new way pay bill date experi octob'\n",
            " 'ship patio set stick amazonwalmart use vendor ship larg quantiti item china stand custom item ship refund wash hand custom servic even tri get vendor ship patio set anyth onlined experi april'\n",
            " 'walmart c useless walmart custom servic useless book time tire chang wife easi arriv earli check went shop store told would take less hour problem minut call back counter told right socket nut wheel mm mm mm need help expedit problem chang tire otherwis offer drive nearest autopart store buy mm socket came back present socket told allow use walmart approv socket could use one hand brilliant ask tell left repli go buzz door mayb point head custom servic desk ask store manag told today end explain stori three time hourli staff sorri last one said would look salari member staff left wait half hour call main walmart custom servic number put pleasant ladi took detail told stori told alway manag hand store busi hour promis escal problem would contact resolut promptli meantim tire depart manag found miss mm socket tire got chang made big deal take tire protect packag alreadi said want eventu left store hour five day ago contact mayb answer origin question care read review compani see never repli anyon either underlin final sentenc date experi januari'\n",
            " 'first issu walmartth first issu walmart com show item come third parti sourc differ countri purchas order suppos deliv today order sent deliv wrong address verifi usp phone call walmart still receiv confirm email refund ask call center locat us told divulg ask speak someon us told hassl dollar stick amazon target date experi decemb'\n",
            " 'order suppos arriv today order suppos arriv today pm obvious arriv wait least minut connect human messag agent assur order deliv tonight h wait anoth minut phone spoke someon said driver cancel deliveri supposedli reassign deliveri anoth driver look good return whatev mean spent much time chase walmart tonight system integr cannot mere identifi provid full address see order due deliveri today gave order cannot see statu order agent disappear minut tri find hell go make promis deliv ask second agent would happen call tonight answer would receiv order polit obvious messeng walmart assign someon tomorrow suit hous full guest tomorrow morn shame tri chat instagram write review bot train deal complex enquiri want connect human spoke realli help walmart logist system horribl websit send circl problem place log complaint manag ever becom awar problem avoid wast peopl time disappoint busi date experi januari'\n",
            " 'help laugh big help laugh big corpor sell smart tv thousand dollar support fund strongli democrat parti believ catch releas smash grab store put inch smart tv facebook marketplac purchas simpli awesom thank larg corpor smart allow wonder discount definit miss end file chapter liber bail loss watch struggl fox news clear worth inch smart date experi august date experi august'\n",
            " 'order new space heater never order new space heater never came walmart polici wait day report miss shipment case show laughabl wait day ask send new one cannot reason seem simpl enough wish wait busi day refund reorder item alreadi wait week sinc order space heater free ship pay custom servic gone cold want heater paid date experi februari'\n",
            " 'custom bewarei appal offend compani onlin account deactiv without warn justif dedic walmart member awhil count whole lot callou disregard mistreat employe shopper driver mistak punish valu custom tri appear innoc call custom servic complain forc hire shopper driver put effort care conduct job descript appropri effect fault gave time money one get reprimand report error like miss half order random substitut made without notif even though origin item say shop order experi multipl delay driver deliv order someplac even recogn attach photo remot resembl interior apart build etc plu interest choos form attack issu multipl credit admiss culpabl use toward futur purchas make save bottom line liter pay mistak also occur right issu refund unusu activ end never ask cancel subscript never ask inconvenienc blame action other walmart need take respons instead blame someon given proven profit histori compani way never write review ever receiv justifi apolog grievanc plan make mission call report misconduct warn other shop somewher els liter anywher treat like respect human consumer simpli human date experi octob'\n",
            " 'walmart steal custom onlin buyer bewar walmart com purchas buyer bewar walmart com purchas onlin order curbsid pickup walmart com took money card call lie rep servic custom employe day refund walmart steal custom care manag rep etc gave excus big retail one trust custom steal custom shame never order busi onlin walmart scam also buy bewar site allow assum anyon sale anyth purchas microwav deliv damag walmart told quot problem contact seller silli think walmart seller lost end lesson learn trust one even big name definit walmart comdat experi novemb'\n",
            " 'stop sell vacay ifli luggag made stop sell vacay ifli luggag made china scam honor advertis warranti respond junk broke first day use wast walmart usa canada need stop sell low qualiti product buy north american luggag date experi januari'\n",
            " 'expect real help custom servic walmart absolut worst custom servic ever experienc also unreli third parti deliveri servic grad student imper get book time class went ahead order book well school start walmart deliveri servic find apart sent item back sender rather contact call custom servic four differ time throughout busi week tri item sent back time costom servic assur would item back never call back one last time said would need refund item order well need read two chapter one book alreadi one class decid take busi elsewher like amazon want sort compensas wast much time offer promo code could use certain item order mention order made onlin appli store absolut ridicul might well given compensas student put trust walmart abl deliv item import academ success clearli made mistak visit walmart anytim soon bad experi walmart costom servic know better assum walmart actual hate custom date experi august'\n",
            " 'pitaoh question went wrong time sit ok order tv monday deliveri notif said deliv tuesday wait day know porch pirat got phone custom servic guess one deliv top notifi anyth ask speak supervisor wait minut someon omg work walmart year think known date experi februari'\n",
            " 'walli world thomson gai use walmart like everyon els groceri pickup onlin order store shop groceri pickup place order pick item want trust pick way would household well thought sure wrong get whatev grab mad dash pick order pick sever hour food damag open turn brown black spot start go bad unaccept look product pick custom pleas hard substitut issu park walk store grab item forgot add list check item substitut find lot product ask stock issu pleas look grab anyth onlin order order stuff onlin use subscript offer walmart make sure get case store next day two day deliveri fine issu item come damag need refund replac hassl time issu refund sometim want return store replac know store show stock pick return wait extra week come wish accept pictur deliveri work see peopl use wrong reason contact manufactur explain detail along pictur get better outcom take care matter big price differ item total red flag overcharg item know price rang bewar scammer use walmart seller front take money send packag differ address use usp walmart use fed ex usp lb dog food track number sent nyc packag weigh oz accord usp use track number make sure say sold ship walmart matter good deal look store mani peopl low stock look item pay higher price get onlin walmart store match onlin price ask wait help told depart let find someon get told break wait use ask manag regardless told employe give name per conserv poof headach worth like walmart use weekli someth like think need improv area told loyal custom year want offer dollar gift card bad experi thank thank date experi decemb'\n",
            " 'walmart work older vehicleswalmart work older vehicl order tire onlin schedul instal well arriv tire instal inform polici work older vehicl tire take somewher get instal oh way even though onlin schedul took appoint tire depart anyon get tire w f would allow schedul tire instal appt one avail walmart suc frustrat reason usual shop walmart date experi novemb'\n",
            " 'bad experienceveri bad experi get low qualiti stuff moder good qualiti shipment give hard time lost special laser shipment date experi novemb'\n",
            " 'return item mail partial refundedi return item mail refund partial say receiv item literelli stole item trust return servic special mail date experi februari'\n",
            " 'wait walmart com wait walmart com order sinc octob ship right away sit fed ex locat sinc octob fed ex said cannot file report need walmart file report get touch chat far luck either happen sever time walmart com doubt use websit anymor date experi octob'\n",
            " 'deliveri left outsid senior build deliveri left outsid senior build rain date experi januari'\n",
            " 'walmart custom servic frustrat shipment final arriv chang star shipment final arriv month know whether would ever come persist email supplier day shipment track show order delay month later still arriv email supplier time detail return email said thing check deliveri date origin order option refund walmart websit walmart custom servic line record ad anoth servic line told order number invalid u live western u onlin chat endless loop ask email address order number conclud walmart custom servic scam date experi juli'\n",
            " 'walmart worst walmart worst use pickup use love seem never item want substitut notic go pick substitut expens item order onlin get wrong item go return want return day receiv fedex well work printer work issu refund return item use fedex scare first told would receiv refund day carrier got given complet runaround someon account depart would contact needless say one ever complet document item pick deliv vendor matter one month straight talk final last night told thought busi practic report better busi bureau immedi receiv refund honestli feel go issu refund hope give needless say cancel walmart membership give anoth dime get good month know drop bucket sure anoth store treat custom whole lot better date experi june'\n",
            " 'poor servic never time alway poor servic never time alway cancel order time rowdat experi novemb'\n",
            " 'reli fedex ship reli fedex ship terribl alway lated experi novemb'\n",
            " 'frozen food thaw even bother produc order groceri deliveri walmart subscript coupl year live temp az ultim local walmart gain star star gave amazon fresh area due specif hand item prefer amazon carri otherwis thaw frozen food sometim poorli handl deliv produc among worst could find depart ad nauseum list nonsens could improv better hire train practic ultim problem lazi unmotiv employe care less custom satisfact live new era mean good care well train employe stand much date experi june'\n",
            " 'order can soup local order can soup local walmart never seem anymor receiv box ot sever damag open find box much bigger need addit pack ad consequ can toss around dint explod solut credit can soup clean mess never order walmart com know packag product date experi juli'\n",
            " 'walmart deactiv account walmart deactiv account return violat ask reinstat specif ask would abl shop onlin said ye deni call close account said creat new account would abl order onlin deni disabl homebound person reli servic store use benefit card onlin get groceri need item flat lie medat experi decemb'\n",
            " 'horribl designdumbass compani even make damn giftcard work websit scam item found store order onlined experi decemb'\n",
            " 'grey marketgrey marketwalmart com let third parti seller list grey market camera equip sale front author dealer equip sell elig updat repair manufactur camera shop repair lot peopl know grey market mean make point inform peopl reason cheap buyer bewar date experi juli'\n",
            " 'walmart corpor greed inflat watch walmart produc scale check receipt scale comput doubl bill instead pay lb grape paid doubl bc charg twice walmart return polici suck big time item box unopen sold give u store credit u receipt let u exchang item exact thing walmart corpor greed inflat presid paid million year u pay salari higher price walmart greed mo period end walmart made stun billion profit prior year middl class pay corpor greed result inflat date experi novemb'\n",
            " 'fvcking despis amount fvcking despis amount homeless person toilet stop keep ask sexual favour may may help anyway address mog walmart pleas better date experi decemb'\n",
            " 'avoid cost avoid cost drag simpl order week refus redund money item cancel day push back deliveri week order push bill previous pend caus overdraft item screw stole money date experi decemb'\n",
            " 'bad onlin ship bad onlin ship week order revi partial order especi make store deliveri keep call chat alway say wont frustrat date experi decemb'\n",
            " 'onlin groceri order deliveri onlin groceri order deliveri far complic understand use tri lost custom ridicul make difficult go aldi date experi march'\n",
            " 'decid roll back dei decid roll back dei program decid longer shop store date experi januari'\n",
            " 'worst onlin order experi lifei bought item walmart websit went store pick confirm email indic curv side pick without detail went around store twice ask custom servic instruct pick onlin order seem clear understand done told scan outsid store someon help went around store twice look place scan pick final figur onlin order park spot call number sign check one answer click check button confirm email took walmart home page indic check success ask one worker outsid wait min receiv item wors onlin order experi ever never order anyth walmart onlin date experi januari'\n",
            " 'terribl custom servicedespit take perfect care vacuum purchas walmart com complet die two year light use call walmart custom care forc talk one foreign base agent anoth understand heavi accent also fail let know purchas extend warranti plan fail vacuum cover extend warranti told noth could dead vacuum cleaner spent time locat record purchas saw item still cover walmart extend warranti purchas time bought vacuum time spent still jump hoop get piec junk repair next time futur purchas go costco similar problem none ridicul oner wast time costco let return defect merchandis without abus troubl walmart afford better custom one less custom date experi decemb'\n",
            " 'event question happen januari event question happen januari order place healthi benefit plu program includ purchas app myuhc com item clear enough email arriv show box front door question ask whose front door mine assur door appear photo six item email said six photo four item display click see item link abl review entir list one problem discov though click link took page made mention order photo big box go give need six item never receiv would surpris walmart groan learn file complaint shoddi servic sure better busi bureau feder trade commiss probabl special locat preserv huge stack complaint file walmart one problem file complaint improv servic noth figur go store person shop least item stock find replac subject replac altogeth major reason complaint well one item last order neo synephrin nasal spray photo box go help print photo blow nose display photo cover snot sound vulgar imagin feel right antiqu notion custom alway right know case howev custom deserv compet servic truli ask whose door big box left check account walmart correct apart number make door guess sign age cling silli notion order someth home deliveri item order arriv address guess one concept edsel someth use exist nowher found wish skit saturday night live could turn go life order thing definit need health reason learn may left almost anywher photo deliveri made someon els car must fate box order item question ever find whose car car still anywher near home know ask much thing like abl order home deliveri actual receiv order must sophist day age guy old fashion notion place order mean custom actual get order must anoth planet sort thing ancient histori alreadi modern day america date experi januari'\n",
            " 'alway made good deliveri alway made good deliveri mistakesd experi april'\n",
            " 'onlin servic walmartmi experi walmart inde great one made order onlin payment minut receiv order happi servic inde awesom must give walmart accolad realli great date experi septemb'\n",
            " 'store put broken carton box store put broken carton box broken electr oil heater insid new broken box sent broken heater date experi decemb'\n",
            " 'order toy grandchildren order toy grandchildren suppos deliv today notifi tonight deliv know deliv contact custom servic ask replac said could refund money day well toy order almost told said order lett know deliv would give back differ huge run around took forev get toy never deliv go take day receiv refund almost origin paid way could get price paid first time would reorder wait deliveri let walmart know would refund differ ridicul date experi decemb'\n",
            " 'wamart custom careon th septemb call walmart custom support address issu experienc receiv email walmart regard wamart account repres spoke interact advis issu resolv action need howev th septemb receiv anoth email walmart regard account call custom support transfer walmart repres name sharon howev difficulti understand due accent appear troubl grasp natur issu ask speak supervisor inform none avail suggest call back later experi walmart custom support left extrem frustrat resolut date experi septemb'\n",
            " 'bewar third parti vendor walmart onlin site order two cup coffe maker onlin walmart flash deal wait whole month due ship delay receiv text item cancel ask reorder full price custom servic told third parti vendor offer gift card even though product stock refus honor sale price origin purchas appear scam bewar purchas walmart product onlin say third parti vendor date experi novemb'\n",
            " 'trash lid match return easi custom servic rep foreign countri speak english understood order step trash walmart deliv reason chose deliv drive mile get go hassl park find item want store check clerk paid nice custom lug home deliv today trash correct one lid trash order step trash lid receiv swing trash work whoever pick store bother see lid match tri talk two custom servic rep neither english first languag extrem difficult understand want pick correct unit deliv much ask careless walmart employe unfortun neither unhelp custom servic peopl abl provid label could pick load trash car drive mile direct up store scan code say happi experi understat custom servic never major part walmart philosophi seem rather non exist would given star rate appar give least one meant none date experi januari'\n",
            " 'sign walmart pluswalmart trustpilot review earn w custom year tampa move st pete nov store constantli product order renew due feb reluctantli renew sinc stock gotten even wors decid cancel plu tell cancel sinc use servic paid seem owe remain month get runaround runaround tri get answer custom serivic sign walmart plu stuck date experi april'\n",
            " 'worst store know newarkth worst store know newark ohio go find need kroger aldi treat peopl like thiev know everyon thief employe racist saddat experi novemb'\n",
            " 'place onlin order place onlin order three show walmart alway insist wait hour refund spent hour phone get run around hire reput deliveri peopl refund done delet account shop store reliabl place shop line deliveri never make date experi septemb'\n",
            " 'walmart southtown cross fort walmart southtown cross fort wayn indiana sold daughter fraudul devic daughter spent birthday money samsung got home open box counterfeit phone crack screen manag electron refus give us refund fault two ladi name tag said noth could legal right get full refund sold counterfeit product walmart south worst custom servic date experi august'\n",
            " 'buyer bewarewalmart com either give fals info item ship damag item ship item say care third parti sell site sell item differ price tell item includ order item ship clue use place someth order buyer bewar date experi april'\n",
            " 'pleas ever order onlin pleas ever order onlin walmart rd parti unless never plan return item took one month call twice weekli get return waybil final get return still call call get refund credit card idea compani larg would allow behavior date experi octob'\n",
            " 'tanya eye center matthew tanya eye center matthew absolut wonder custom servic quick effici courteou staff eager help us date experi april'\n",
            " 'disappointedi made order day order next day got rst order fine nd order never receiv rd order deliv hous seem sinc walmart switch use trac deliveri servic instead fedex go ongo issu rst order pictur packag front door great nd order even pic packag deliv packag rd order pictur packag someon els front door could give star would date experi octob'\n",
            " 'worst custom servic life worst custom servic life number one retail world hhhhaaaa outsourc call camel jock clue jesu get someon speak englishd experi decemb'\n",
            " 'walmart dishonestywalmart bad servic deliv order contact agent said refund order final step done differ depart dump anoth agent account review team got call rude told order deliv correct place even previou agent said lost transit person ladi total deni everyth call next agent said previou agent write note give refund replac account swear never order webist never talk account review team worst lairsdat experi decemb'\n",
            " 'disrespect worker n broadway chula vista teamlead anna front endiv never upset live san diego calif theichula vista area walmart store two block away famili home go store well today went get creamer disrespect worker buy creamer alway end buy get readi pay notic host self check kept look way readi pay scream team lead short understand go one stop figur talk time ladi worthi call team lead come start look thru bag alreadi paid tell excus short daughter buy short reach daughter bag take short void say ur buy even notic rang cent way regist host treat us rude uncal upset duaghter law disabilti easi clam realiz happen anyth ladi name anna rude disrespect call corpor first time wev e encount bad servic employe need fire retrain worst work walmart differ store daughter feel unsaf yell wrong do follow recal unforgiv date experi decemb'\n",
            " 'wait black friday wait black friday sale ad come find line look much crap repeat page page decid shop elsewher turn great thank walmart date experi novemb'\n",
            " 'terribl return terribl return someth return item describ app pick fedex still show app return app state take week refund receiv warehous deliv back warehous today ai chat thingi said chat custom servic agent expedit pretti much futil call suppos corpor custom servic told basic return polici yeah keep money took immedi addit week accept least amazon give money back soon item scan pick return item store allow even though walmart dot com item store carri total wast valuabl time use much better alreadi remov payment info app like delet account shop elsewher get refund refund process simpl purchas process receiv item back refund day directli walmart app credit origin payment method within week item beingpick date experi decemb'\n",
            " 'walmart integr walmart realli think way get custom loyal live town mountain hour drive get walmart store use onlin first thing notic walmart requir order want need pick hour away realli difficult item go homepag see click ship appear walmart chosen either ship pickup go back reorder four item updat great valu dish liquid avail huge size smaller size rv stock updat bag tide pod pick ship realli size angel toilet paper want even anymor ship gave give money elsewher date experi march'\n",
            " 'walmart alway tri find way walmart alway tri find way screw member year go four done even buy loaf bread deliv say unavail walk store stored experi august'\n",
            " 'walmart aliexpress move walmart aliexpress move fake thing date experi decemb'\n",
            " 'went tell went tell glass prescrib glass got lot scratch see cuz alway blurri help told make anoth one cost like one cost lot servic ass would never go glass hate serviced experi decemb'\n",
            " 'absolut horribleabsolut horribl use walmart plu deliveri someth alway miss deliveri delay cancel multipl time custom servic would offer promo code take day money put back onto card save grace use amazon prime anoth groceri store date experi novemb'\n",
            " 'walmartwalmart even begin like circu day park lot pack even begin describ peopl everywher like tri navig crowd subway rush hour item scatter go cash empti cashier open lane take forev date experi februari'\n",
            " 'sent wrong item plastic sent wrong item plastic bag request make return mean use time ga buy box pack go post offic return told reorder get express ship well cost offer cover cost complet unaccept sinc error first time shop onlin walmart com anymor never know deliv date experi novemb'\n",
            " 'normal get walmart store card normal get walmart store card credit card point usual get per year alway problem store card never work girl regist lazi manual put number last visit two card password scratch yet girl told card work new card pin seen yet see scratch pin look away saw take pictur card cell phone figur transpir card say anyth use card file investig trace day card use back store video imagin nerv happen riverhead ny store date experi may'\n",
            " 'walmart plu app paid walmart plu app paid almost new tire plu paid instal week last sunday show pm appoint told tire went ahead oil chang made anoth appoint tomorrow decid call afternoon sure tire drove way told tire walmart quick take money tire instal extrem slow provid item tire bad order new one tire goe flat blow gonna cost even thank walmart crappi servic charg walmart plu app absolut noth get tire way make hard work citizen bunch bull wast date experi februari'\n",
            " 'walmart meet arriv time ship item walmart never meet arriv time inquiri met rude unhelp agent item need ship plan arriv time refund item show ship even ship date experi januari'\n",
            " 'lower expectationsjust listen one friend minut mostli hold convers resolv simpl minut max issu make glad busi date experi june'\n",
            " 'walmart punish mistakesso far think two success deliveri tri make sever order two order somehow lost system store unabl contact choic cancel order still count return tri reorder miss item order immedi cancel account suspend return violat even though contact custom servic thought gotten resolv everi time cancel anoth order add return end use differ phone number differ card make success order ship order happen notic onlin said order attempt unsuccess know happen receiv text call definit home sit near front door one attempt deliv anyth also secur camera front door prove one tri deliv packag updat inform order contact custom servic suggest cancel reorder assum caus return violat issu reappear walmart think ok punish custom mistak still abl busi like date experi may'\n",
            " 'bewarebewar walmart somehow put fund hold bank account without order place fill cart went check said enough fund bank acct go look transact walmart hold fund order even place reach get help thri apolog told hold would remov busi day furiou need money right hold anyth even place order told need money remov hold need comp money order went tri blame financi institut say might glitch said bank randomli put hold ppl acct label walmart com differ agent ask anyth cart longer today said ye put thing cart day ago today noth anyth said sometim u item cart day walmart automat fund hold omg ok fraud feel safe shop onlin w left review websit went look came realiz mani issu see review websit today see mostli bad review know happen today stress huge inconveni look complaint see regular thing happen anyon els pleas reach feel realli vulner unsaf shop onlin know info feel like even delet alreadi happen anyon els go look class actionaddit check email see addit transact attempt walmart differ amount current holddat experi novemb'\n",
            " 'walmart pickup jokewalmart pickup joke post item websit know damn well inventori anoth wast trip walmart let hurri get somebodi start shootingd experi novemb'\n",
            " 'constant run around everi order constant run around everi order delay misquot whether someth stock damag item inadequ poor packag fals notif item deliv cost us time money busi walmart joke come onlin order ship even got beat use watch order appl watch unreal monitor vet supplier buyer bewar date experi januari'\n",
            " 'honor return policyi order lg window air condition put window got hot enough use turn work threw box want box hang around hous call walmart com told problem would send new one use box send old one back later night got email tell would ship till old one told box told wrap bubbl wrap fedex would take way went local walmart said could return past day polici say day took differ walmart luck went back onlin request return fedex pay pack say elig return custom servic horribl honor state return poilci stay away walmart com regret date experi may'\n",
            " 'trust make sure hid data trust make sure hid data deal companiesd experi august'\n",
            " 'give star would give star would given neg star one walmart peopl rude austin area want charg bag happen shop amazon pleasant issu safe day date experi decemb'\n",
            " 'deliveri never wind deliveri never wind belong driver lazi custom servic lie directli tell refund ridicul ai system drive brink mad complet wast time ever give human never purchas walmart think screw up enough compani gone toilet date experi decemb'\n",
            " 'disappointedveri disappoint live immedi vicin travel get shop seem shortag product pertain covid also seem personnel shortag one man cash regist open self checkout back peopl readi check puzzl checkout conveyor belt close earli afternoon noon shopper well work shopper unfortun walmart seem need better supervis store walmart none run poorli date experi march'\n",
            " 'unbelievablei shop walmart lumberton tx recent went shop self check use debit card ask cash back last night laid dawn pick cash left machin felt sure late go back pray whoever got cash bless use wise aros morn continu think cash time pray whoever got final decid check store see might turn know understand system work got cash back folk complain assist linger self check area need know folk look us custom need protect thank walmart job well done date experi august'\n",
            " 'overcharg pick upscar order item pick order tax attempt pay told put hold card clink say addit pack substitut nonsens cancel went elsewher date experi januari'\n",
            " 'alway good experi alway good experi walmart good price good place kid roam lol date experi march'\n",
            " 'warn delay deliveri ship merchandisewalmart tell peopl order onlin delay deliveri fedex select ship order order dog monthli suppli food think would time nearli week late leav buy addit bag dog food wait fed ex deliv use extra money ga get doctor groceri store check track order alreadi find disclaim fedex websit explain detail deliveri late hurrican helen someth els obvious problem occur week alreadi reason walmart post warn delay app websit custom know expect ahead time choos curbsid pick order somewher els need item order without delay post walmart app experienc delay deliveri would gotten curbsid pickup therefor leav wait indefinit cost money pocket realli afford spare still date packag arriv fedex say suppli deliveri date packag begin move run money still dont dog food much walmart plu member date experi januari'\n",
            " 'slowest websit ever order slowest websit ever order anyth freez constantli usual give order anyth date experi june'\n",
            " 'careless damag product major hassl order process fine sale item honeywel safe cf lite weight key lock waterproof fire safe chest handl letter legal arriv one day earlier howev carelessli handl render damag unus date experi februari'\n",
            " 'fraud alert fraud alert check sure work done actual perform last night walmart commit fraud brought truck tire done thursday tell need appoint problem make one sunday pm bring truck set tire instal walmart purchas tire servic counter say text start finish final get text servic start pm final receiv text p say truck finish go servic counter pick truck spend hour walk around walmart guy come hand key invoic tell need go custom servic pay comput shut p also say cant fill tire vehicl specif machin let us psi walk custom servic final get attent femal employe stand back pay invoic drive truck home alarm go due low air pressur tire one front psi second front psi one rear psi second rear psi truck tire specif rear psi front psi next morn see lost three origin valv stem cap replac cheap one fit notic valv stem never replac charg tpm sensor never un instal reinstal charg tpm never relearn set wrong tire locat store manag say look want bring truck fix issu spoke discount said talk guy look look fraud alert date experi decemb'\n",
            " 'walmart onlin bad servicewalmart onlin bad servic want compet amazon need chang logist work fedex worst deliveri compani unit state system old employe work system liar send e mail say merchandis deliv deliv date experi februari'\n",
            " 'product pro lab lead test kitproduct pro lab lead test kit packag receiv advertis advertis abl test test two tini pad said could test two test per pad six item code order item code receiv pictur wal mart site cheap return wal mart wal mart allow bad review product websit date experi januari'\n",
            " 'greedi con artistsgreedi con artist thousand case custom rob custom use self check machin issu custom call help make think fix problem finish payment head store stop walmart manag accus steal didnt machin suppos fix employ awar accus anyway get troubl walmart mistak get bill sent threaten pay avoid court scam evil con walmart thousand peopl dont mean energi money fight pay walmart get rich scam shop elsewher walmart run corrupt date experi januari'\n",
            " 'never get walmart giftcard sinc mayb issu gift would valuethey talk nice know redirect anoth depart need anyth realli problem need help would make effort game turn custom servic would hang put mute need deal must realli train avoid talk custom need help date experi januari'\n",
            " 'good price terribl servic hour tire price pretti good servic terribl wait hour tire instal tech complain whole time shouldnt instal tire rim balanc work van steel rim easi went local tire shop date experi april'\n",
            " 'lot bad littl good walmart laplac past year even decemb get help laplac louisiana store practic nonexist employe specif supervisor encount variou time day display facial express bodi languag major inconveni custom shop store short fear skin femal supervisor wear yellow vest work self checkout chew gum annoyingli pop contin meanest look face notic custom ask price signag differ regist thst supervisor seem disinterest help custom look cloth item state sign may wrong place previous similar encount though help custom would pain light skin male supervisor previous produc supervisor absolut wors attitud ask someon attend unattend area walk grumbl without say ye understand promot floor manag anoth supervisor posit variou time ask produc employe certain product back area say got ask busi usual cellphon talk someon non work relat matter understand import door greeter upon entranc exit store door greeter laplac filriendli fact perform visual scan custom crimin young femal male work electron area sens urgenc come custom servic stand walk difficulti search item get help via initi approach get help would rather point verbal direct instead proactiv help attend pharmaci prescript one bad experi manag pick prescript wife follow recent surgeri besid incid think pharmaci great employe consist friendli courteou help young cashier pharmaci elder ladi outstand two pharmacist jare asian femal differ maker major differ maker megan pharmaci tech sharp intellig care dilig question concern refil author abl recogn resolv would arriv pharmaci date experi decemb'\n",
            " 'onlin order miss item onlin order miss item wait last min say want make chang answer call walmart tu canton ohiod experi may'\n",
            " 'walmart goodman road horn walmart goodman road horn lake ms worst walmart ever pickup order wait almost hour one pick phone voicemail full still got christma schedul call main part store still answer sad order readi pick get order pm sad saddat experi januari'\n",
            " 'time call attorney gener bbb report walmart crimin activityi call better busi bureau tomorrow place three order past month receiv packag live remot area see hear car even turn onto road much less driveway home everi time deliveri truck came anywher near street home walmart state use third parti deliveri person scam big time latest order receiv text deliv nope thing day ago order walmart think issu refund need receiv bizarr email seller papillon shade read item deliv address receiv item custom like know harass everyon hope receiv busi day custom like dumb ass seller find deliveri like fedex up come hous everi day manag actual deliveri packag third packag past summer order expens televis never came reorder pay extra walmart intent first place anyway go bbb attorney gener way beyond deliveri problem scam crime date experi novemb'\n",
            " 'walli world match websiteokay let get point everi store price match websit appar walmart go target match websit let real target price match amazon petco petsmart also match websit let ask question walmart long go keep malarkey truth peopl come thing amazon run game fix issu start match websit end date experi decemb'\n",
            " 'neighborhood walmartneighborhood walmart kempsvil rd virginia beach va employe store name alexi rude racist hate unprofession hope manag transfer depart deal custom thanksdat experi octob'\n",
            " 'tire repairedi arriv autocent open person still remain person got tire walmart june one lose air valv stem replac ladi front desk said would take minut realist sinc gave key done appar valv stem leak cover road hazard warranti tire warranti also said warranti repair glad one els seem continu understaf slow date experi decemb'\n",
            " 'walmart lame deliverywalmart lame deliveri order lost ye money reserv card order think tax take tax separ charg extra money card date experi april'\n",
            " 'walmart com ruin child giftif order onlin walmart com decid send person store refus replac broken item make go store return wait refund child santa gift explain agent supervisor neither care repeat time like read script toy child go store onlin purchas happen custom servic would anyth make child happi date experi decemb'\n",
            " 'mar candi return sendergot ordergot order one item suppos ship return sender know disappoint date experi februari'\n",
            " 'onlin experiencehelp dad order onlin half item deliv custom care nice enough issu refund right away date experi april'\n",
            " 'onlin fiascoi live mn visit elderli mom need new mobil scooter found one walmart com fraud dept kept flag order sinc ship hous thu reason compani ship bill option person america tri send someth address perman address could understand first time inabl rectifi problem unbeliev call custom servic tri order time sinc elderli mother exhibit much normal patienc final gave order amazon easi never order walmart com truli horrif experi date experi juli'\n",
            " 'predatori walmart marketingeveri time open app check order anyth walmart relat repeatedli close pop invit accident click restart walmart plu membership use card save account order predatori close walmart com account email twitter etc simpli respond date experi august'\n",
            " 'goodgood productd experi februari'\n",
            " 'sat outsid park spot wait sat outsid park spot wait order hour never got order left order scumbag date experi march'\n",
            " 'order clean suppli coffe order clean suppli coffe deliv wrong apart pictur poorli taken locat stuff stolen instead walmart refund miss item threw face walmart gone downhil shop onlin ever walmart app date experi august'\n",
            " 'place order curbsid pickup place order curbsid pickup walmart silver spring boulevard ocala florida person took order mark item unavail cancel order put day hold money went store item avail horribl person feel like work day store manag avail speak happen anyon recommend call corpor date experi septemb'\n",
            " 'worst deliveri servic worst deliveri servic experi first told item arriv minut home deliveri never came eventu report delay arriv delay delay delay cancel week conflict illog text email messag date experi februari'\n",
            " 'utter disgracethi compani compet joke order pay uk card order cancel unusu activ chat walmart repres clue go think either bot extrem challeng best date experi decemb'\n",
            " 'decid curb side pickup decid curb side pickup walmart end wait hr item deliv car ask walmart employe unhelp would store offer curb side pickup go take hr get would better go store get item date experi novemb'\n",
            " 'issu place order issu place order onlin call walmart pleasur speak ashley ver friendli knowledgeabled experi august'\n",
            " 'know invest instead know invest instead answer phone n say auto care work today u make custom wast ga b told nobodi work worst custom servic ver look tire elsewhered experi novemb'\n",
            " 'chattanooga tnchattanooga tn walmart gunbarrel road would give store zero could order pickup order yesterday pick morn got store young man deliv food one car husband ask order look walk away call number one answer time husband went door knock car wait one left minut call main store one answer use differ option decid tri auto apolog said one answer phone pleas forward manag well cours answer search corpor offic number call get someon final order start deliv ask file complaint sure go anywher serious someth wrong store first time call store one answer custom servic time low busi chattanooga tire pay bad servic date experi februari'\n",
            " 'love wallmart price qualiti love wallmart price qualiti would rather drive anoth locat one locat st catherin quebec near manag joke dont respect return polici refus speak english topper took min employe manag return set lash receipt explain credit card cancel took even longer understand gave gift card per polici im sorri receipt want money back next return made receipt item longer need logic took receipt next day realiz enough nail mine home went return one purchas didnt receipt took duh previou return paid bank card honestli agre logic comput work rude unhelp took minut visibl show annoy sorri fault work wallmart unhelp indiffer discrimin againt even though im bilingu right serv english honestli avoid store cost employe help act annoy ask job honestli avoid cost date experi novemb'\n",
            " 'good costum servic quickdat experi decemb'\n",
            " 'walmart shift made walmart shift made usa made china cloth electron also recycl program gone still love pharmaci garden groceri depart date experi novemb'\n",
            " 'horribl compani scam peoplewalmart horribl compani scam peopl bought pair boot want return less month comfort one went return credit card told boot alreadi return never even tri return prior time ask provid date time suppos return got repons employe found origin receipt went differ walmart store return told stori reffer call number knew want leav store without get help item return call number store respond inquiri boot return alreadi return boot boot posess pristin conditon accompani origin receipt someon els probabl return boot prior buy walmart glitch system mayb that treat custom late spend lot money walmart previous shop anymor hope higher lever manag see treat custom shame walamart date experi januari'\n",
            " 'walmart employe worst store locat keyston went pay stuff tap card ladi told use servic physic card physic card hand made go custom servic told servic went tri tell go explain want pay twice custom servic manag got load said never paid first time even though transact went clearli receipt told go go back forth whether transact went custom got involv get smart say one rude mad money mess anoth manag came manag said transact clearli went print receipt need give receipt belong let go time manag ust start get smart along custom start get smart along custom start get smart said fault threw bag along card told could go store manag never stop stood watch exactli peopl hate go walmart staff alway rude hunt peopl need help help act like know anyth total wast time seem almost walmart date experi februari'\n",
            " 'place order suppos place order suppos deliv today wait check email get email min suppos drop said attempt deliv attempt deliv someth never gonna date experi decemb'\n",
            " 'employe theft mistreat th nieman shawne employe tri th nieman shawne ks employe stole worth merchandis short mean butch girl w nose ring associ sharon void transact bad regist mean one jerk cart away alreadi bought paid bag merchandis said never come back reason bossi mean shock even get paid receipt item make loud scene basic push us door even manag tri steal money caught went hid bathroom wouldnt answer phone get shawne ks polic dept gather merchandis medicin traumat brain injuri w seizur mean rude shop year til date experi august'\n",
            " 'understand come peopl understand come peopl shop walmart fake item fake food everyth price custum servic horribl ive never go walmart person went walmart year ago shop time peopl new jersey said go chines store half price got thing anyway right date experi april'\n",
            " 'wish could give zero starsi wish could give zero star deliveri local store whole day late lie yesterday say would delay hour next day still item paid sit pain still deliv arithi cream yesterday cancel refund moneyd experi februari'\n",
            " 'order microwav walmart order microwav walmart feb year old mother easi use microwav elderli walmart carri store otherwis would pick one store instead order onlin order inform would deliv wed march eleven day wait mother march late day walmart cancel order due system error state may take busi day bank remov payment author upset beyond word mother abl heat water coffe heat soup etc tell microwav come wait day live near mother go day make coffe food messag walmart state could give coupon next onlin order offer coupon messag initi cancel order told thank never order walmart went immedi went onlin found exact microwav sell restaur suppli com place order microwav could believ receiv email hour order alreadi ship wahoo restaur suppli god send mother first experi compani ecstat appreci profession run compani thank restaur suppli date experi march'\n",
            " 'care bait switch deal time yeari order laptop websit total price tax ship local walmart time place order suppos pick get anoth email stock cours nearli credit card still hold may take day releas happi snatch money need pair plier get money owe back rememb stop use walmart sever year ago date experi novemb'\n",
            " 'cancel account nd time reasoncancel order nine time promo code total updat order got cancel account cancel second time happen first time said cuz fraud second time said cuz return violat dodat experi april'\n",
            " 'tri purchas item tri purchas item walmart app would accept payment know would accept never told debt card also thought ship time long also size lot cloth want delet app account use walmart groceri accept debit card okay app strang still carri size cloth even store purchas cloth anymor either continu use groceri though date experi novemb'\n",
            " 'use walmartpleas use walmart buy anyth honer deal half item work properli refus replac itdat experi april'\n",
            " 'great custom servicew regard school project compani appreci us call employ custom servic believ name somya singh realli great kind instead cut call put us hold could attend custom hen got back us soon possibl although allow answer question give us great advic call walmart near us thank somya singh realli appreci love brmsdate experi januari'\n",
            " 'suppos get refund suppos get refund money hold money walmart onlin refus give repres say get back lie worst compani date experi januari'\n",
            " 'went receiv groceri went receiv groceri baker cypress longenbaugh locat walmart curbsid phone work employe emilio help time kind brought order nice see young polit boy smile good worker date experi juli'\n",
            " 'never purchas prepaid walmart never purchas prepaid walmart card could regist one purchas hour ago phone number provid provid comput understand card number enter either technic difficulti probabl easier get honesti someon dcdate experi juli'\n",
            " 'order deliv call order deliv call ask sign declar send back refund hour refund issu call ask file polic complaint one help order around never shop walmart scam two week call money went wast custom servic bad cut call answer date experi novemb'\n",
            " 'order got cancel walmartord got cancel repeatedli patient go verif phone even chang account password call unusu account activ realli bs guy need better custom servic sure date experi august'\n",
            " 'wal mart good mail order wal mart good mail order trait quick servic email updat howev email neglect tell packag ship usp up fedex whatev provid track info track shipment idea look arriv frustrat place multipl order mile post box mile post offic date experi septemb'\n",
            " 'trashnev stock bad pickup servic alway late pickup use love know piec poo reliabl sat park lot hour min tell us pick morn current clock terribl dont go camdand experi decemb'\n",
            " 'bad shop bad shop appear seen light row back dei program sell us fooddat experi januari'\n",
            " 'nice custom supportgot issu product contact live support fulli refund thank time servic highli recommendedd experi juli'\n",
            " 'walmart onlin terribl walmart onlin terribl never receiv order made nov th call everi day receiv updat bc app updat sever report suppos open one help continu say call minut happen refund confirm yet pay everth k mxn good option buy onlin hered experi novemb'\n",
            " 'order set three contain order set three contain lid need particular situat order suppos come day went store bought replac notic item cost charg ship call walmart ca got disconnect sever time vi tri chat featur app got cut time call local store got repeatedli cut ill went store tri cancel order told onlin order cancel within minut place also told supplier third parti supplier noth could done walmart respons spoke manag said would look call back ask escal situat got call someon escal depart got told thing ask escal chain got call higher escal team told take item back store would give anyth like email confirm store would compli instead email origin supplier meantim arriv one three broken order walmart ever buyer ware date experi februari'\n",
            " 'hope recent commun help improv servic handicap elderlyi contact walmart number talk someon directli rather lack help receiv chat tri resolv first happen seem go better promis made today kept chang rate today due phone call rais higher promis kept basic happen store usual shop treat poorli tri get ride cart handicap assist left tear physic pain poor servic greatli exacerb plu emot feel badli treat sinc experi made feel unsaf shop store went home appli walmart discount program peopl social secur elig sheerid approv deni paperwork submit social secur administr sheerid said social secur administr social secur insur payment two separ entiti approv state walmart guidelin two week tri help understand social secur administr administ social secur insur payment gave whole two week stori read trustpilot review left sheerid time saw option chat walmart websit chat sever time issu treatment store sheerid problem go well honestli handl badli made decis shop walmart shop sinc principl point felt like walmart say support handicap elderli store discount walmart look social consciou without deliv go honest need someth today could get much less expens walmart look onlin found phone number websit call talk person walmart store support well transfer someon work walmart went much better nice made promis lead reason resolut abl keep promis rais rate rais higher abl keep promis date experi june'\n",
            " 'let start say order let start say order food walmart drop sometim issu common part okay although order food frustrat occas go today spend like buck got chlorin coupl fish pole stupid get cart fairli full mean probabl got like item f tire man go work work outsid ladder day yesterday want check especi spend almost go back mean price littl reason paid like check might take go work ass week go spend ton money store check go happen hope peopl steal bunch way make money steal us yeah go onlin somewher peopl care custom paint compani get custom servic custom quit nice other alway great custom good food somewher els well anyon ask recommend send walmart unless care work guy date experi may'\n",
            " 'walmart stop play peopl moneywhil walmart curbsid pick bless guess intimid covid altern store shop believ hand free approach hoax well covid walmart put unnecessari hold onlin experi sometim stay day week beyond total amount order take moni due immedi happen everi time shop walmart curbsid pickup conviv shop request tie money groceri rung final final bill pickup hold beyond total ye ye make custom servic usa base noth wors frustrat talk person philippin india third world countri walmart employe pay peopl speak understand much less understand english languag walmart goal wear custom give guess american peopl gave walton famili billion power yet sell us short act impuls victim date experi may'\n",
            " 'daughter prescript grand daughter prescript call doctor offic directli walmart walmart held prescript day fill call main offic told discret pharmacist fill prescript hold prescript whichev noth could accord pharmacist found necessari fill prescript babi date experi octob'\n",
            " 'walmart live reput walmart live reput low price conveni produc qualiti question custom servic mediocr disorgan layout chaotic decent pinch valu save experi expect clutter aisl crowd deal deal date experi januari'\n",
            " 'ppl want save money n save time ju shop onlineeasi access product n better deal onlined experi august'\n",
            " 'walmart lie multipl time store number indian trail north carolina bought orbi router fail day time took back store said need origin box thrown away wait second receipt say electron may return refund exchang receipt within day say noth box cust servic counter banner say happili refund exchang merchandis within day say noth box counter top paper say refund exchang handl satisfact say noth box call custom servic line said cours take back let store manag tyler know call riiiight tyler ghost guess lie realli matter walmart averag annual spend go somewher els date experi may'\n",
            " 'deliv rotten produc thaw frozen itemswalmart harvard il could would even give star walmart deliv area store deliv rotten produc spoil meat dent can etc live minut away marengo spark deliveri servic use drive around hour groceri order deliv custom carri cooler receiv order frozen item thaw basic garbag frozen item cannot frozen thaw health hazard dent can walmart provid better servic custom simpli care keep tell valu custom lie valu custom would treat poorli rubbish date experi juli'\n",
            " 'walmart onlinethat walmart onlin seller third parti seller advertis product say new new deliv product someth nasti oil stuff item get hand also time sometim old work damag gross shop walmart onlin month sure go listen say seller third parti seller job instead rush pack product packag kind way know see oil nasti stuff item instead rush put packag kind way peopl talk said thing get thing ignor soon later regret phoni fraud advertis someth new tri charg someon pay new item higher price deliv cheat someth old right fraud new sell new old sell old lower price suppos lie tri pretend someth new keep go walmart onlin go date experi novemb'\n",
            " 'complet incompet complet incompet deliveri servic given chanc chanc chanc make fault tonight straw broke camel back past follow issu late deliveri cancel without notif hour delay rotten veget rotten fruit melt frozen ice cream fulli melt ice cream thaw frozen meal slice ham whole ham order whole turkey slice turkey order someon els deliveri drop doorstep order taken somewher els bizarr substitut unrel item order list goe whenev call question complain woman answer phone voic everi time rude unprofession ever got troubl whoop next order tonight put deliveri order pm app told would arriv pm inform deliveri would hour late pm call ask dinner staff let phone ring full minut machin hung call back got transfer deliveri depart deliveri depart also let phone ring ceaselessli minut final hung tri call back nobodi answer rel call told driver snow bad still see yellow line road even quarter inch thick appar switch deliveri servic last month compani even driver area disabl drive store suppos get essenti driver scare thin layer snow complet incompet miracl still busi date experi decemb'\n",
            " 'paramount commerci realli benefit walmart never reveal prior walmart never reveal prior purchas plu paramount copiou horribl commerci paramount commerci benefit disappoint walmartd experi februari'\n",
            " 'sent wrong items wrong item repeatedli contact seller bebeauti respons back want drive walmart return want get fedex driver pick item whole reason order onlin go busi target date experi decemb'\n",
            " 'walmart onlin walmart onlin support beef two store gener walmart bellevil illinoi fallon illinoi swot analysi need improv strength walmart onlin chat weak glorifi promo code well help one deliveri pick full voicemail box incompet staff manag took week labor day would deal outsourc third parti deliveri driver servic miss item among mani thing suppos get item never make two three order one would done person work deliveri take attitud ask question hang like want work got better thing shoot pm end local news happen fallon illinoi walmart opportun well fire deliveri pickup staff start fresh bellevil illinoi walmart fire manag bellevil illinoi fallon illinoi store seek new talent hr custom servic store well phone oper get peopl want honest day work threat instagram offer substitut item better driver target ship mifit food better serviced experi septemb'\n",
            " 'email receiv even email receiv even though get orderthank contact us order sorri issu see item deliv correctli date experi septemb'\n",
            " 'happi customeri purchas english literarut textbook vendor im happi caus condit liter pristin thing deliveri rel slow alright need meet deadlin anyway date experi septemb'\n",
            " 'order christma gift sonord christma gift son somehow without ny part order set deliv store mind item pick order other ship first time ever item set deliv store even walmart plu thing get deliv long stori short chat someon walmart app blatantli refus give supervisor accord option cancel reorder keep wait hope show loyal walmart shopper whole life think take busi elsewher spend way much money compani also make onlin order pick take almost month give money back serious walmart better chare mf overag first place bell pepper weight like fr chanc gonna weigh much gonna extra hate walmart truli dodat experi decemb'\n",
            " 'walmart unauthor monthli charg helpcal walmart regard unauthor monthli charg deliveri membership supposedli start purchas store onlin time period seem walmart employe sign bonu servic call walmart first agent told get money back bank later cut line fraud date experi may'\n",
            " 'order tent walmartord tent walmart open tent even watch utub video put togeth one day fell apart dollar gone order iron box open look like packag box crush walmart take respons direct seller even though advertis websit date experi april'\n",
            " 'bait switch walmarti order pilat bar kit walmart juli th year arriv last night late fulli look morn unpack box notic receiv look like pictur advertis walmart websit tri leav review decept sale practic walmart site prevent say opt time ever opt give honest review product servic pictur product thought order q weluvfit pilat bar receiv model q weluvfit pilat bar big differ two model clear case bait switch pictur websit receiv prove date experi juli'\n",
            " 'worst peopl one hung worst peopl one hung walmart worst compani stole money bought tv charg twice blame bank call bank talk walmart gave stupid excus hung bank said walmart basic took money get away stay away care care money sad pettyd experi juli'\n",
            " 'store state highway store state highway tombal texa worst deliveri personnel custom year spend lot money groceri deliveri order groceri reason store big walmart maxwel hous coffe stock therefor deliv separ time item never receiv receiv pictur locat leas offic parcel locker instruct item deliv door pay extra addit issu lettuc order vacuum seal contain tripl wash upon remov leav one mold done never order walmart date experi octob'\n",
            " 'review walmart store review walmart store moulton al awar walmart store one moulton al charg tax twice sale charg tax differ area mention also charg extra cash pay insur card allow food otc item well give excus insur approv item item even approv item scan crook store back even forego use food otc benefit also state peopl alreadi tax death appar walmart think allow also discov charg tax ebt well watch receipt alreadi sever receipt prove sent state govern deal date experi septemb'\n",
            " 'mailbox receiv brokenmailbox receiv broken micro spot weld broken deliveri box piec weld lay box key poorli made qualiti control date experi februari'\n",
            " 'one cashier walmart lagniapp groceri shelv empti roof leak mani locat one cashier huge line self checkout peopl walmart job total back time full cart left aisl drove across town thomasvil road walmart total opposit experi manag obvious run tight ship show make drive visit walmart futur date experi februari'\n",
            " 'non qualiti food warn walmart sell expir food complain fish time act like busi pull lie expir make enough profit follow standard market stop sell expir food without discount least date experi april'\n",
            " 'two separ order two separ order go two differ state get mess day first order said deliv never got ask neighbor one seen gate commun never problem amazon pkg second order kept say go deliv today deliveri hr ago call said seem lost realli happen two differ order one day go differ state issu walmart deliveri onlin order never order onlin walmart get order deliv busi season hate see bad f xma date experi may'\n",
            " 'websit almost unus websit almost unus much flash content instal cannot even search item without page stall clutter even bother search item want store never correct current item stock date experi april'\n",
            " 'zero would get zero would get order line get excus packag refund money one day disappear next day still packag money still wait date experi august'\n",
            " 'took truck oil changetook truck oil chang oil filter properli instal came driven seiz engin octob wal mart fix mistak ignor email call got touch claim manag apolog said would correct problem asap week ago respond let wal mart work vehicl accept respons wrong date experi octob'\n",
            " 'day ago order day ago order someth walmart onlin wait week send item place order told wait payment clear strang taken paypal account cancel order order item ebay sent item next day walmart wait refund money day later contact said take day well day never refund money post peopl learn mistak order anyth walmart onlin chanc go refund money especi order paypal alreadi file complaint feder govern concern never see money ever least complaint file ever happen anoth poor soul work walmart apolog far concern compani crook heard might face bankruptci soon sorri deserv apolog complaint want get chest onlin shop probabl amazon ebay pretti much help custom walmart suck btw feel free share like date experi novemb'\n",
            " 'order wal mart com ever order wal mart com ever sinc onlin purchas order june order show delay coupl day never post track number show order ship anyth cancel order call never showeda confirm order cancel hold oni card releas call time lie day still reciev order shipment notic track email confirm state order cancel money card releas hold money refund even though never ship item foreign rep keep lie tome tell refund money get confirm x minut show cancel money refund day still refus refund money normal buy walmart onlin get order sever time week late issu post thing ship show track order delay ship know problem compet help languag issu get supervisor anyon phone know fix thing guess go steal money email call go file complaint fraud card els fault peopl know doingdat experi june'\n",
            " 'could give star wouldif could give star would horribl custom servic went automot get price tire stood minut wait one counter peopl wait well walk pass littl room tire associ said minut someth without say anyth look way anoth minut came told custom front us told go problem order tire rude turn said take walk okay start alway done walk tire oil chang wait servic manger freight instead help custom disappoint date experi novemb'\n",
            " 'walmart custom servic agent order walmart custom servic agent order nearli worth sex toy charg credit card close account refund money walmart put onlin custom risk employe custom abus depart shore give legal recours stolen date experi april'\n",
            " 'walmart need get rid racist walmart need get rid racist worker feel treatment walmart unjustifi nd like thing review properlyd experi novemb'\n",
            " 'bewar groceri deliveryw vacat disneyland order groceri deliv hotel got email deliv bellhop spent hour hour phone custom servic told sign refund could issu order resent even ask note driver call text could meet downstair never happen must sign stole stuff dollar worth groceri alcohol took big chunk spend money trip walmart use third parti deliv give info compani investig happen know expect prove sign give inform need sort stress wast vacat time luckili call actual walmart anaheim spoke team lead jose cruz sure spell amazingli help saw signatur line also told happen tri call custom servic inform still told luck call jose back went beyond call custom servic manag get refund spent long time phone reason gave one star still believ help complet stranger never forget kind also never order walmart com either unless mayb pick cousin also order trip never got order still wait refund mind blow custom servic get away treat custom poorli date experi octob'\n",
            " 'better walmart look review walmart com went downhil site alway mess shopper suck pick custom groceri rememb item driver lazi unhelp refund take long yet take money super fast custom servic usual help moron well glad cancel walmart plu vehicl date experi juli'\n",
            " 'experi okth experi ok noth special get order obvious place get excel qualiti cheap custom servic realli respons need help realli easi get overal okdat experi may'\n",
            " 'local store remodeledmi local store remodel done move thing around store disarray remodel done ask would one put chees one cooler separ read cross pallet jack door isl get anoth chees cooler block chees liter thought discontinu block chees could sell shred higher unit price saw cooler check lane enough disabl self check line extend hill far away one attend troubl shoot kiosk quit carri mid pizza sauc shop elsewher like meijer aldi requir appl anyth allow appl pay like allow tap pay everyon els insert swipe much like wake walmartd experi decemb'\n",
            " 'scam operationthey scam oper purchas walmart plu scam free deliveri groceri item mayb tri order home product cloth alway stock even stand look charg shop doubl price blame scam get sign order anyth want arriv lie noth stock ship take daystoday order clearanc top cat treat toothpast mouthwash end check ship charg four blous total markup tri solv error plu member week mind end chat two hour insult cancel subscript put hold ypur money give back ten day blame bank go bank releas hold walmart scam machin run away fast date experi juli'\n",
            " 'shop anywher elsewalmart got rid cashier store self checkout peopl steal self checkout instead go back cashier want charg year use self checkout lane walmart alway terribl compani treat employe noth number date experi march'\n",
            " 'order freezer walmart order freezer walmart came dent product review also said receiv product dent disappoint lot peopl would complain product walmart keep ship like inconveni return im like forc accept product like date experi may'\n",
            " 'walmart spark whistl bloweri walmart spark driver last week scammer call number directli deliveri cancel order pull give person inform even knew exact locat item person shop pick custom call walmart spark driver support custom servic number stonewal told never call one ask person info phone also drive doordash never kind issu even receiv phone call door dash issu worri person data locat risk happen say year old girl could daughter sister creep know locat pull right track walmart spark safe anyon everyon info risk kind differ thing happen date experi februari'\n",
            " 'cancel order last second cancel order last second explan famili get christma gift time date experi decemb'\n",
            " 'hate self checkoutth place pack cours self check cours one store said pleas thank shop us get discount check bag groceri wait heb move date experi august'\n",
            " 'walmart trip becom dread go walmart day dread especi return chang polici fail inform custom caus confus custom expect base previou polici unbeknownst custom polici chang lead frustrat wast time complet avoid unnecessari date experi decemb'\n",
            " 'odor stench odor stench employe make gag idea touch groceri unsettl understand cultur believ deodor mandatori person hygien code work food complet insanitari disgust date experi juli'\n",
            " 'discept practic electron salespersonsi embarrass admit shop walmart ye spend thousand dollar everi year realli hope exec walmart read feedback long stori short purchas cell phone electron request continu straight talk servic paid month straight talk receiv great servic never drop call interrupt servic presum carrier provid high qualiti servic howev two week worst servic ever experienc attempt return iphon told day return phone day advis commit contract month three year believ hear way return phone discontinu servic immedi discontinu servic return better carrier gave phone back electron salesperson bill two week use servic call time visit store without satisfact help trust dishonest employe walmart paid push product unsuspect elder never ask chang servic provid enter contract nearli twice paid nearli year discept practic date experi novemb'\n",
            " 'dog cool gel padi order dog cool gel pad mat juli suppos juli receiv say deliv get phone custom servic told wait anoth day want walmart refund want shop walmart hope enjoy rip rememb karma crook date experi juli'\n",
            " 'face lgbtq post facebook pagein face lgbtq post facebook join boycot walmart month june sell lgbtq theme merch dare corpor insult decent custom harm young children life beyond store door done wal blackout refresh enjoy shop groceri store onlin ye collect make dent date experi june'\n",
            " 'worst servic countryth worst servic countri guess becom big custom servic well mani thing matter give sh cancer right realli reli onlin order servic never came wast day life wait home hold custom servic told differ thing disappoint polit term realli wish could say post bottom line sh show never date experi august'\n",
            " 'walmart lose customersth walmart farmvil virginia continu go downward trend mani year seem keep stuff shelf stuff peopl actual want buy keep disappear never come back continu lose busi well friend famili busi normal go food lion across town get walmart refus carri sometim ask go shop food lion perman think go get need larg corpor like walmart cannot seem keep food lion realli busi right get busi date experi june'\n",
            " 'purchas desk chair thru walmart purchas desk chair thru walmart third compani vicluk put desk chair togeth find one wheel would fit hole leg tri hole one wheel fit next day call walmart spoke custom servic said would contact seller vicluk would get back hr well get back day call next day spoke walmart anoth day go point get piss call today januari spoke walmart third time want take chair apart put box take up told dont box anymor take anywher come take chair way would send one wheel iam done dei companiesd experi januari'\n",
            " 'excel product deliveri excel product deliveri ship cost date experi januari'\n",
            " 'could perfect except could perfect except charg dozen egg get tri call store one answer either want refund egg date experi februari'\n",
            " 'purchas tcl cubic ft freezer purchas tcl cubic ft freezer chest first time warlmart com use financ compani call affirm pay affirm good compani work pay thing time warlmart com issu product deliv day earlier ask custom servic deliveri compani call day let know come pick left grass front hous year old heart condit unpack freezer notic damag call custom servic offer refund replac look freezer walmart com price went decid keep date experi decemb'\n",
            " 'one answer phone boardman oh one answer phone boardman oh store tri last mn date experi januari'\n",
            " 'order piec ratchet wrench order piec ratchet wrench set week ago got packag felt littl light small wrench open littl x envelop mini inch ratchet set went walmart com look tool even type apollo tool piec ratchet set inch product found site went apollo tool tool order cost tax contact custom servic time issu refund time someon goe back termin refund say item bought deliv pa kagong came even say piec inch ratchet set angri walmart call liar shop use ebay amazon least dint take refund back time day sell someth websit get want pay way date experi decemb'\n",
            " 'employe friendlyi often go buy groceri walmart km hous rang product great one thing tho employe seem like autopilot scare someon mess bill sinc look like pay attent honestli smile would nice date experi februari'\n",
            " 'order car tire walmart com order car tire walmart com order check schedul appoint instal base avail date time websit gave instal appoint week later tire arriv appoint cancel thursday next morn friday receiv email say tire readi pick store follow day saturday call store tell tire avail store employe claim like truck driver pro activ say deliv tire allegedli sit truck store locat avail pick view order detail say tire avail pick thursday instal appoint yet day later store say avail worst servic ever experiencedd experi march'\n",
            " 'lack custom servicei like everyth self servic hard find actual cashier like self check out also problem bag item custom servic cashier bag item point might well shop onlin like non custom servic walmart target offer start limit shop place happi date experi decemb'\n",
            " 'purchas anyth walmart onlinei purchas piec patio dine section walmart onlin howev due unforeseen circumst tri cancel deliveri even ship call help desk said noth could rd parti thought purchas walmart sever week item still arriv contact help desk told contact rd parti eventu found contact refus accept item back ship purchas anyth walmart onlin ask troubl date experi june'\n",
            " 'daughter order worth daughter order worth groceri peoria arizona store deliveri store allow deliveri person deliv order put groceri back shelf told would get refund day guess two children go hungri day reason given put groceri back manpow issu could least given opportun pick groceri smdh date experi decemb'\n",
            " 'walmart com straight get bentwalmart com straight get bent order deliveri got cancel unusu activ reorder got cancel reorder got cancel call custom servic told would take hour past order window day get fix get bent walmart went shop local spent money local store order reorder mani time credit card said wait hold walmart com put hold order close account told em fu done lump fece store shop elsewher date experi april'\n",
            " 'bewar buy vevor product use walmart onlin bewar buy vevor product walmart onlin delay order avoid honour warranti oblig worst experi ever qualiti workmanship custom servic bought vevor hp water punp walmart onlin purchas may receiv june use less hr last summer pump drain properli store harvest fall plant may less one year servic unit major leak hous reconnect first time spring rais complaint vevor use custom servic chat function may claim made known within one year purchas sever exchang made vevor via chat option delay get back three day later may point claim decis exceed one year warranti delay warranti action push date past one year mark repeat claim exceed one year vevor exhibit pure dishonest polici delay deceiv custom dishonour avoid warranti obligationsdo buy anyth relat poor qualiti substandard cheapli made chines hardwar stand behind product openli deni valid warranti claim gregdat experi may'\n",
            " 'walmart great integr custom servic respons friendli happi custom walmart membership three year sometim get upset product fail tineco wet dri vacuum broke within day origin packag make return reach custom servic explain situat end get refund damag product without problem right troubl trust tineco due lack lack lack longev even though care vacuum well alway clean dwt everi time appreci walmart date experi januari'\n",
            " 'quot tire chang done jump call go told alreadi tire quot went wait hour charg told cost tire week later back due vibrat told may someth wrong front end told balanc weight fell first guy gave quot phone told tire alreadi bait switch still job right date experi juli'\n",
            " 'use walmart com yearsi use walmart com year return servic one worst ever dealt custom servic rude alway speak next person abl understand say due lost onlin purchased experi septemb'\n",
            " 'past present custom servic repres problem email ceo second offic respons either date experi novemb'\n",
            " 'wait week pair wait week pair sneaker order walmart site still receiv wait week set tire return tire day ago still gotten credit back take money fast enough return oper like ton time wait item credit date experi june'\n",
            " 'ship littl slower ship littl slower expect slower amazon got order would buy order sooner date experi decemb'\n",
            " 'realli know peopl realli know peopl rate walmart low need new chain cross order show huge way big cross nice date experi august'\n",
            " 'pure crapwalmart offer ship item ship item look websit item list ship call custom servic solut cancel item happen time walmart lie crappi compani screw walmart date experi march'\n",
            " 'absolut worst absolut worst order arch mirror week ago order delay walmart randomli cancel order day suppos deliv updat told mirror broke transit stick amazon prime never issu like date experi june'\n",
            " 'walmart garbag walmart garbag never use compani order onlin custom servic left hour pass around differ peopl hour help date experi decemb'\n",
            " 'fair good bad fair one hand success order bad fram filter order receiv substitut accept use fram order fold auto window shade car receiv open side said big letter bank iraq retir militari went straight garbag said good servic walmart number problem time walmart address pro well con good custom servic gener happi custom busi date experi decemb'\n",
            " 'stole moneystol money sent damag item deactiv account walmart custom app year flat rob repres told want money back go bank file disput even laugh goddamn groceri damag said gladli get back screw walmart go screw date experi novemb'\n",
            " 'great compani stillgreat compani still uphold mani origin core valu impart sam w founder appreci offer kitchenwar home good electron product categori bibl faith base book reason price staff embodi spirit kind effici may bless abound upon date experi juli'\n",
            " 'walmart viera florida store walmart viera florida store ask custom servic ladi question one product get attitud stupid probabl littl educ rude understand peopl rude stupid one swoop mind boggl idiot come pick stupid rude idiot idiot manag young rude stupid one packag write name refer alyssa idiot go forward know walmart hire young idiot rhude kid make manag manag class custom train rhude ignor one horribl past compani owner appal see rude stupid peopl especi alyssa top idiot chain definit contact region manag boss see get bottom horrend experi alyssa get paid walmart trash individu custom expens date experi decemb'\n",
            " 'recent purchas collagen recent purchas collagen moistur face love face look good date experi octob'\n",
            " 'pickup driver took item without pickup driver took item without process return hold driver account repres walmart mari demmari held account steal date experi octob'\n",
            " 'use coinstar machin walmart use coinstar machin walmart supercent w hwi ruidoso down nm due walmart technolog date coinstar loos coin chang money even though receipt say redeem today cashier store appar work way walmart ladi manag supervisor help friendli anyth walmart noth happen pmdate experi august'\n",
            " 'non deliveri product tediou remedi processnon deliveri product tediou confirm process minut telephon call told system issu may take anoth minut phone resolv time waster poor custom servic difficult access lack prompt resolutiond experi octob'\n",
            " 'order videogam son order videogam son wallmart com game fine took week arriv came directli china date experi octob'\n",
            " 'wast moneywalmart plu last order deliv half order driver get free groceri dont wast moneyd experi may'\n",
            " 'year bad batteri year warrantyi boutht car batteri year go year trade warranti last month everi morn jump car batteri dead son go wallmart take batteri car park lot toke store thay said need take batteri home charg bring back retest full charg drove mile town buy new batteryd experi april'\n",
            " 'walmart get bad stock walmart get bad stock item also answer question product sell gotten run around corp custom servic sever time lie old answer forward question higher up help truth say care find anyth alway crap date experi march'\n",
            " 'extrem poor custom serviceextrem poor custom servic order tire onlin notic charg wrong price charg list price onlin call custom servic number spoke subhan told abl adjust price last night told card charg tire instal appoint get tire instal today pm told call back tire instal would adjust price terribl experi begin abl speak subhan spoke sever walmart custom servic repres manag told unabl anyth rectifi problem said noth could unaccept would cancel order yesterday knew go happen went word advic one custom servic repres downright embarrass walmart walmart billion dollar compani put reput line dollar make sens feel like rob hard earn money expect much custom servic multibillion dollar compani greatli disappoint longer shop walmart would advis friend stay away walmart well still cannot believ poorli treat disbelief fact walmart unwil make right date experi novemb'\n",
            " 'walmart sucksord hoverboard walmart com went pick go get item anymor wait number spot someon bring eventu hope time kid weddingd experi may'\n",
            " 'valuabl worthi walmartmi experi made great mani thing walmart provid like food bodi electron compani well valuabl brand make product worthi buy date experi octob'\n",
            " 'chang pricesi like fact walmart charg estim amount total purchas ariel suavitel total charg order amount plu use walmart cash order total checkout cancel order need wait day bank clear walmart order walmart notic stop shop onlin walmart take long time bring order car pick target much better date experi septemb'\n",
            " 'went walmartw walmart creswel lane opelousa la buy oz home essenti expresso mug cent last month thing see shelf broken mug ask one worker get said know know contact wm email return know stock item number walmart keep store order somewher els might look friendli remind date experi april'\n",
            " 'onlin site kept reject visa card onlin site kept reject visa card explan verifi bank adequ money account knew transact card repeatedli reject end go low problem date experi april'\n",
            " 'order product walmart order product walmart onlin presum order walmart howev walmart mani carrier use differ product much like amazon order amazon could get anywher send track packag call walmart walmart walmart told give day call back exactli told give coupl day call back told wait packag arriv call back would escal point day overdu still know packag know come walmart less help get answer need cannot stay home everi day wait packag need timelin howev escal continu wait everi time call continu told weight anoth hour noth happen anoth hour walmart help care packag arriv sympathi least amazon deliv packag least know go get favor use walmart onlin order anyth groceri least groceri guarante actual get groceri gather store local store much faith longer faith walmart mayb time shop elsewher date experi decemb'\n",
            " 'walmart purchasedwalmart one store everyth date experi januari'\n",
            " 'walmart swift currentwalmart swift current worst store long long time idea treat person unless cours ethnic repres ever treat custom store way dismiss peopl walmart last year rude person work custom servic desk saturday august st approxim termin never life dismiss disrespect quickli everyon know know first time treat like second class citizen walmart ask help nobodi help numer walmart western canada even coupl maritim swift current saskatchewan far wors go start lobbi store remov beauti citi bring back mom pop store get rid walmart date experi august'\n",
            " 'wait min rveri time im wait min rveri time im get someon unlock card crazi walmart louth st vandickl rd st catharin date experi januari'\n",
            " 'could give zero star could give zero star would horribl custom servic take money give back anoth two week date experi decemb'\n",
            " 'worsti work one largest non profit nation purchas bulk gift card locat variou event often today went purchas twenti gift card total less normal holiday maximum gift card purchas rule turn away essenti call liar state purchas often busi went back work retriev receipt accus even show proof told cannot purchas gift card total never treat poorli staff life understand certain rule effect prevent fraud howev show proof legitim busi never issu purchas see attach receipt total thousand dollar previous purchas gift card go gift card purchas fred meyer away order avoid problem wal mart asham staff poorli train employe even page everyth power get contact corpor someon higher rectifi date experi novemb'\n",
            " 'went tru self checkoutw tru self checkoutd experi august'\n",
            " 'rude employe manag colleen said name wasjust went deli ask ladi brand chicken ladi like attitud like ask brand chicken liter said ever walk seen ladi said manag believ name colleen take side tell everyon day ye true regardless way talk peopl date experi august'\n",
            " 'went pick think went pick think saw soda new go buy tri food stamp got scan wrong guess need help employe berat publicli oust use food stamp soda contact corp told next day store manag call tell heard complaint drop come back store either go take care polic better hope polic appar complain worker sleep threaten like thatdat experi januari'\n",
            " 'horribl ut order deliveri horribl ut order deliveri day ago suppos never came dog food go publixnoon bother contact cancel order wait hour deliveri order thru amazon tomorrow hered experi novemb'\n",
            " 'buyer bewar order outdoor grill walmart com came quickli assembl went light grill one side light contact manufactur end send part differ time replac brand new grill cost avail still get one side light manufactur told return store start onlin return got code show cashier return grill went store return wait line custom servic awhil explain return question walmart employe came told need instruct grill ensur part told part extra manufactur sent rude explain start onlin return return code still insist need instruct make sure part miss mind live minut closest walmart ask employe could leav grill store go back home get manual insist call walmart advic tri get number unabl speak real person final went back custom servic told get walmart employe ask want speak manag said ye final manag show explain whole situat eventu approv return grill first employe told paperwork total rude even listen say point done order anyth walmart com due inconsist way handl issu definit order anyth walmart com recommend date experi march'\n",
            " 'walmart uneth price goug rip offdear walmart bbb shock outrag detest theft trickeri corrupt write call walmart describ blatant rip elderli walmart platform mobil phone elderli artfon g so button list outrag price usd meanwhil phone sold europ eur approxim usd markup insult loyal custom glare exampl uneth busi practic absolut justif price increas tax ship market factor predatori price exploit trust american consum embodi corpor greed guis american dream deserv noth less zero star custom immedi reject better busi bureau demand answer walmart price justifi walmart implement fairer transpar price polici also urg better busi bureau investig walmart price practic hold compani account exploit american consum deserv better treat like cash cow respond wallmart email outrag defend third parti seller love money wallmart turn blind eye see perfectli well wrong uneth outright crimin respons apathi toward ethic busi conduct moral valu disgust date experi januari'\n",
            " 'everyon alway want opinioni abl help truli darl love good everyth say noth best star appropri date experi novemb'\n",
            " 'bad experiencei understand scammer got success purchas onlin tri buy someth home alway reject order order decemb got confirm email hour order cancel go tiktok method scam walmart kiwi browser chang cvv numer understand walmart scam onlin stored experi decemb'\n",
            " 'got vacuum broke got vacuum broke next day went us fresh packaged experi august'\n",
            " 'tri confirm password tri confirm password alway said wrong link sent sent back said wrong go cancel order date experi novemb'\n",
            " 'rude personnelveri rude personnel super disappointedd experi octob'\n",
            " 'associ discount associ discount go thru paid time time gotten discount item use alway get junk food noth date experi novemb'\n",
            " 'prepar christma gift prepar christma gift friend earli black friday walmart howev order kept get delay one take respons offer refund one week christma buy christma present peopl deal longer avail plu refund come day later year much time plan secur christma present black friday walmart ruin christma thank lot supervisor brian maseko date experi decemb'\n",
            " 'help creat monsterwalmart never favorit store day stupid limit well wealth order tire onlin cancel minut place order wast time phone find problem know told reorder day later receiv email confirm let know item readi pick went store tire call said order got cancel second time know email confirm pick sent charg card twice cancel order twice made call twice made drive store noth wait bank credit refund plu wast whole week wait tire one mani mani shitti thing done sure mani peopl daili basi anyth experi share realli matter realli matter ton money make regardless told aldi employe see work one effici walmart employe combin starter walmart need teach employe basic custom servic date experi decemb'\n",
            " 'walmart auto center today walmart auto center today hudson bridg rd stockbridg ga worst place went replac tpm sensor lexu guy counter told two peopl ahead open clock went back give key car done afternoon complet tool reprogram tpm sensor talk manag name kevin anoth charact told everyth said tough day help ask discount complet program said life tough believ wall mart spend much money remodel store buy equip fix car first order scanner job car worst peopl ever dealt sure review go anyth anyway sam wall mart famili bad wish date experi august'\n",
            " 'stupid bunch staffveri stupid bunch staff lack train total shame walmart zero custom servic staff lack manner date experi april'\n",
            " 'good store good websit toowalmart everyth need one roof websit good seem like good compani know huge compani mainli enjoy experi shop walmart onlin store date experi may'\n",
            " 'wish could give zero starsi wish could give zero star place onlin order novemb th doordash deliveri driver stole item camera footag show attempt deliveri simpli park curb took pictur hous make look like deliv left call walmart call centr dozen time useless half bare speak english offer refund instead go delet account say sent email got delet never receiv email phone call even worth time fight hard refund make wonder often get away doordash get steal item face repercuss walmart keep profit kind last time order onlin make realli consid shop walmart date experi novemb'\n",
            " 'sold use gift card bought christma gift card dec purchas one son let know need cash sent cash kept gift card purs month never took outin feb rememb thought would use purchas rang discov use besid complain made report never receiv compens never date experi may'\n",
            " 'rate star walmart even rate star walmart even star never buy food walmart compani sell bioengin food fake chicken meat research compani ton dissatisfi custom date experi juli'\n",
            " 'name stevemi name steve famili alway shop walmart like main shop recent walmart decid support genocid support apartheid state support almost live kill israel airstrik famili never shop walmart go keep like date experi novemb'\n",
            " 'absolut terribl experienceabsolut terribl experi burbank store walmart illinoi store never shop serious cut walmart complet better choic cheap good billion dollar corpor would think would train manag better shown today longer custom fan date experi decemb'\n",
            " 'order walmart comi purchas kitchen granddaught birthday cheap assembl took sever hour purchas walmart issu would abl return store qualiti poor fall apart less two week heft truck attempt return walmart discov contact seller compani china state need put origin pack reach walmart solut us complet take apart put box take day work someon come pick drop store one answer answer make littl sens want us wast anoth sever hour suggest hire someon dissembl hate compani date experi april'\n",
            " 'third parti ubereat driver stole item walmart groceri deliveri orderi place onlin groceri deliveri order walmart websit today deliv local kansa citi mo time deliv deliveri driver name dejuan drive dimgray nissan altima right order got deliv found item miss everyth mark deliv amount around call driver multipl time right away cours pick phone rate mark miss item withdrew tip immedi got touch walmart cs issu refund advis driver rd parti driver ubereat walmart mayb choos deliveri servic care far loyal custom sure hell order walmart deliveri ever need abl trace third parti driver connect appropri line complain directli ubereat account app sync order order walmart websit also unabl find direct real person ubereat cs phone line report driver ubereat directli steal complet unaccept crimin activ need dealt punish accordingli dejuan read hope rot hell go f ghetto trash hoodrat thief date experi august'\n",
            " 'poor servicecontact custom servic poor servic stupid one store call walmart servic care ask problem connect outsourc call chat servic speak english understand know get frustrat give thank giant middl finger loyal custom date experi februari'\n",
            " 'horribl custom servic disappoint walmart deliveri commun issuesdisappoint walmart deliveri commun issuesi write express disappoint recent walmart deliveri experi black friday order unfortun cancel due commun issu driver understand mistak happen driver abl speak english made imposs resolv problem time deliveri result cancel order gift card compens howev item want stock expens cover price differ leav frustrat unabl take advantag black friday save larg respect compani like walmart believ ensur clear commun driver custom crucial perhap implement addit train deliveri personnel priorit bilingu driver certain area could help disappoint along wife experi posit experi compani like amazon overal hope walmart improv deliveri commun practic avoid similar situat futur date experi novemb'\n",
            " 'lost meempti envelop arriv hous noth walmart want bill want go carrier even tri servic frustrat custom ever tri talk walmart almost imposs get person author line lost date experi octob'\n",
            " 'month onlin month onlin groceri order caus crippl overcharg put back wrong card crush item substitut bad product believ u talk custom servic care go pick order find u wait forev u call u pick one answersd experi decemb'\n",
            " 'chang mind item order chang mind item order request cancel within short time frame prepar ship point day later get ship notic go hassl return buy walmart line date experi decemb'\n",
            " 'walmart supercent shop walmart supercent store columbu blvd south philli scanner malfunct self scan clear employe everythin ok went front door stop ecur pay two tv dinner dollar purchas would steal two dinner secur guard would let tell stori talk employe complet non respons happen took info tole come back hour call outsid manag toni came rescu kind inform need better train secur team un profession date experi decemb'\n",
            " 'recent order nordictrack recent order nordictrack treadmil seri si model walmart advertis walmart site great price receiv older model seri want far cheaper order older model amazon call walmart respons contact rd parti seller handl problem note fraud part advertis one product great price deliv lesser model respons respons advertis rd parti seller date experi march'\n",
            " 'custom servic anoth countri custom servic anoth countri hung today bc order yet autom system pull even came call right back guy would get manag told would tell also anoth countryd experi juli'\n",
            " 'walmart never get anoth dollar immedi famili busi famili never spend anoth cent walmart period recent move order quit need item walmart mani order item came late broken defect tri address abus unbeliev hr hr mani call unbeliev hangup imposs rd world treatmnt broken promis repeat cycl offens flag account cancel account activ order pend tell anymor return supposedli violat standrd unaccept unamerican absolut malarcki move rank among top stressor exist includ divorc grief death tri move entir move interrupt delay stymi receiv thing need arriv broken etc abus like sort third world dictatorship compani bought need item furnitur etc somebodi order thing deliv half late broken transit defect mistreat custom call get redress item caus make multipl call ridicul unfathom degre hung disconnect gaslight persist expect proper redress punish complain much cancel account render unabl return item includ even one current still transit turn defect damag mani item complet disgust abus breach everyth free market stand may free market due walmart free market busi like walmart actual still anyth like actual free market anymor egregi disappoint done wast breath energi effort time ormoney disgust horribl abomin compani cannot imagin believ alon experi sentiment date experi septemb'\n",
            " 'wait sinc orderbeen wait sinc order pm custom servic keep tell find driver come take hr find driver smh date experi decemb'\n",
            " 'employe starremploye starr provid excel attent search particular food product accompani sever like aisl search phone well made might otherwis tire frustrat experi old guy mobil issu huge store near painless possibl manner cordial attitud extrem help starr employe offer full time work date experi januari'\n",
            " 'walmart block reveiw purchas item walmart com terribl aw qualiti suspect one item counterfeit tri leav review lousi item receiv error messag say opt umm felt face cream review import sinc burn skin irrit heck nope cannot review anyth search web show lot peopl issu accord ftc illeg block prevent peopl leav honest review hello walmart look find file complaint ftc date experi decemb'\n",
            " 'took pickup oil changei took pickup oil chang mistak took hour one car front leak leak could fix final sent say slow leak see mechan final got oil chang notic spot truck said spot oil ok wrong got home still leak took back store hour said old truck need mechan replac plug ask manag chang oil fop year fault shine said would fix anyon goe walmart anyth fool date experi may'\n",
            " 'rudiest repres everdon order noth appl never ship order give money repres nastiest attitud world date experi june'\n",
            " 'work walmarti work walmart california overal think good place work shop store everyth need afford price alway good deal groceri household item employe job busi sometim stress especi holiday normal retail best part teamwork cowork friendli help pay decent get benefit like discount pto nice custom servic hit miss depend locat mostli store understaf biggest issu sometim manag could listen employe make schedul flexibl overal walmart solid place shop work know expect patient peak hour find need good price date experi februari'\n",
            " 'shiet custom support shiet site over tri order comput walmart site time custom support said help anyth tri order someth els thing happen date experi juli'\n",
            " 'horribl experi onlin order horribl experi onlin order walmart canev ever order onlin walmartd experi septemb'\n",
            " 'upset never thought upset never thought compani irrespons order two item charg deliv one call make claim tell deliv order even treat bad way leav word mouth hang phone offend never thought compani reput serious would steal money like solv problem even tri help truth never buy anyth onlin walmart anymored experi novemb'\n",
            " 'tammi eye care walmart seagovil tammi eye care walmart seagovil tx profession help kind outgo person warm spirit great job tammyd experi novemb'\n",
            " 'good quiliti productsd experi april'\n",
            " 'consum bewar order dyson consum bewar order dyson cool fan walmart line never receiv item first spoke onlin chat assur would get refund replac never happen call walmart custom servic spoke larri said upon review item deliv respons miss wrong deliv item cusum bewar walmart onlin lie outrag item never receiv big compani like walmart treat like nasti consum bewar walmart onlin close account post consum bewar big compani like walmart treat like pice garbag date situat resolv walmart onlin live learn date experi decemb'\n",
            " 'necklac purchas necklac purchas necklac broke return walmart rep state servic handl walmart call return team leader read print inform proceed say note word like cover manufactur brillianc fine jewelri wrote contact inform contact manufactur explain want refund purchas warranti next year question produc less year team leader tri give non negoti respons situat question happen problem continu walmart left walmart without reason custom servic care villa rica ga consum telephon contact return walmart turn away walmart taken money walmart provid substandard servic could contact credit card report receiv better result sinc origin owner walmart sam deceas philosophi chang due chang place follow new ceo famili board member other aw accept respons walmart franchis seem decis today base custom dollar profit long line poor staf lack item sale shelv misplac item caus error regist rude lazi staff poor train staff hear know mention higher price could stop blame covid economi theft other rob us everi time tri use walmart go store neighborhood mayb stop honor walmart go kroger supermarket hear us loud clear date experi decemb'\n",
            " 'order mario theme cake form order mario theme cake form walmart bakeri cake everyth expect present realli good taught go edibl sheet top ad figurin darn cute love tast definit recommend price qualiti sooo damn good date experi februari'\n",
            " 'deliv time instead woke agendainstead dedic time woke agenda tri better deliveri serviced experi decemb'\n",
            " 'never receiv packag walmart never receiv packag walmart want run packaged experi march'\n",
            " 'roll away bed walmart comord roll away bed walmart com order place deliv pay said would abl deliv need call walmart let cancel let speak supervisor give refund get anoth bed today even sure abl return date experi novemb'\n",
            " 'order blanket almost month agoord blanket almost month ago last updat like ten day ago blanket deliv mail distribut center one hour hous transit contact walmart onlin time given number call call could understand custom servic agent went onlin agent later someon said contact seller hear back hour get back us earth deal order walmart date experi novemb'\n",
            " 'love walmart productsi love walmart product love qualiti product custom servic bomb courteou help return product store time manner problem ever straight legitim star compani date experi juli'\n",
            " 'order thing line cancel order thing line cancel part order well tri get hold card owe wait sinc dec nd never order walmart com againd experi decemb'\n",
            " 'ruin import youi place order today son birthday parti contact substitut ask said call gave promo code order tri differ squishmellow soon order order three item item avail mind also paid express call support person built cart item supposedli avail paid anoth express fee two minut said cancel due either item stock use promo code order squishmello caturito cat burrito tou walmart cancel say account suspici suspici let steal money give paid cancel walmart plu get last ship order deliv never use walmart disgrac rude custom use autom copi past messag care affect peopl date experi januari'\n",
            " 'civil right abusethey accus myaurist son steal water left buggi manang threaten us arrest tri tell associ last ring us walmart us monster gone crazi danger endang liberti freedom date experi novemb'\n",
            " 'went pick ink printer walmart vine st hay ks went pick ink printer super simpl right go electron checkout sinc checkout check ink back time prior issu dealt one gentleman two ladi three said ok use check rather trek way front stand wait regist girl back clearli seen refus come said check front told know easier checkout back stomp across floor get behind cash regist start pound comput slap keyboard throw key counter unlock secur box throw even tell total throw ink bag throw bag across counter said absolut noth left checkout stand around name tag conveni flip go report find anyon els around custom servic review medium length brown hair heavier set weari employe travel walmart hope walmart choos employe care futur respect custom like previou worker pleasur meet checkout self human meant custom use self checkout pleas worker said employe want job date experi june'\n",
            " 'drive late mani item missingdr late order miss walmart say sorri hire peopl read doubl check order date experi novemb'\n",
            " 'hate custom servic hate custom servic agent rude unhelp take forev respond hate tri chat say unfortun help chat pleas call w e say want chat want chat tire get damag open item pick ship order walmart employe need better fedex walmart need make sure thing damag b get custom return damag item ever store mail walmart better understand give refund replac wherev choos matter mani return someon account never block return better walmart chang polici custom satisfact actual date experi august'\n",
            " 'total cancell membership good total cancel membership good even reimburs said would due one order cancel recur charg illeg steal fund use onlin ever tell one thing phone call back person see notat squar one also incid daughter mh harass got threaten deliveri person came back drop wrong order daughter confirm awar order assist ladi threaten daughter arrest speech impair well work one corpor anyth alldat experi june'\n",
            " 'walmart changedi cancel order walmart fort worth texa normal would gotten money back immedi instead told take day money back account find anoth retail perhap kroger date experi march'\n",
            " 'grinch walmarti disabl drive last christma place order deliveri servic purchas item christma dinner stock stuffer small gift could ad deliveri order came paid bank card watch littl anim driver make deliveri pop watch drive address pass stop shadi apart known heavi drug gang activ driver stop hour start move drove away said order deliv except cours never gave refund custom servic person rude basic call liar told seen christma dinner stock stuffer like said disabl receiv govt assist shrug lost post facebook page delet comment block abl post date experi decemb'\n",
            " 'walmart closey order walmart tell stock next day turn week get amazon say stock bet stock walmart rare shop walmart said one day home good luck store much better stock item date experi juli'\n",
            " 'disabl call walmart seven disabl call walmart seven time ask help promot code make order phone kept give problem said forget report let know rude two senior disabl one never want come back walmart custom servic time sucksdat experi novemb'\n",
            " 'alway worst custom servic alway worst custom servic walmart never go date experi april'\n",
            " 'purchas ipod nano onlin purchas ipod nano onlin walmart com extend warranti came product ipod nano work six month charg devic warranti compani refus repair replac devic time purchas anyth walmart com wors date experi august'\n",
            " 'place onlin deliveri walmart place onlin deliveri walmart friday dec th paid deliveri quick servic item receiv chipolt season decemb still receiv belgian waffl makeri absolut never order walmart com againi mention experi everyon know known better last time order six bag sock open miss two pair bewar peopl walmart com right date experi decemb'\n",
            " 'never receiv hold back compani state put hold account prior push order problem use two form payment like ebt debit charg item debit card first say hold proceed charg card final amount hold lift contact custom servic proce say ten day lift fifteen hang realiz target lower class afford pay multipl time today issu custom servic help realiz hold never releas horribl compani pay employe enough push pa store rip us folk alreadi thrive cancel membership today smart would date experi februari'\n",
            " 'deliveri twice weeki place order dec th mostli groceri everyth fine item ship receiv text order way pm start watch track pm arriv time kept go unusu go coupl time howev today went minut minut minut back minut item track show driver place sit still long period time go opposit direct hit contact driver number took custom servic attempt blow tell would pm said accept custom servic offer driver number call driver said would get minut understand deliveri vehicl last week deliveri person cancel order without texti g call ringng bell order time month walmart spend item stock week week deliveri issu insult comp mishap done limit mobil would definit end order arriv pm date experi decemb'\n",
            " 'walmart gang turf walmart gang turf gang allow harass custom entranc donat basketbal camp f ck walmart la vega date experi june'\n",
            " 'walmart rent cop racistth rent cop racist call friend bunch n day rent cop around year old saw drink vodka breakdat experi juli'\n",
            " 'worst walmat experi everi year old girl write sad went walmert tone forgot scan sumthi g thought mom got went back rea scan felt belittl like matter power trip walmat prove shut reason get one stare would let give walmeat peopl jerk date experi septemb'\n",
            " 'order vacuum seal bag order vacuum seal bag promis deliveri saturday wait day get messag late saturday night order delay schedul deliveri sunday wait day bag organ hous weekend return work monday first time deliveri close specifi done shop onlin walmart late sunday night still receiv order say tuesday ask refund money cancel order conveni said allow bull date experi septemb'\n",
            " 'check regist mismanag one busiest day week saturday went pico revera store alway fill cart groceri need went pay self servic regist fix item less told wait line regist checker behind coupl custom way came wal mart get soon possibl know extrem stupid idea make self serv line item less one busiest day wonder peopl wait person occupi regist back work retail sale day keep line move limit manag broadway dept store maci left groceri waist time pretti disgust angri matter probabl go downey store incornveni date experi june'\n",
            " 'found need check found need check stand line behind peopl could use self checkout busi check date experi januari'\n",
            " 'order kayak februaryord kayak februari pick feb ultim arriv lanta ga march deliveri date march show pilot air freight salt lake citi utah say atlanta march march atlanta know noth walmart use worst rate carrier america date experi februari'\n",
            " 'bought packag glow stick bought packag glow stick suppos receiv glow stick rd parti vendor never respond complaint wal mart websit allow post neg review cite review fail verifi purchas check even link write review directli order page websit even let warn other rd parti scammer super piss even want shop person date experi april'\n",
            " 'work walmart yearsi work walmart year gave everi bit local store threaten relentlessli chang schedul take away disabl son began realiz new walmart way longer includ left local store behind relationship built honestli believ made store better go could longer welcom date experi januari'\n",
            " 'polic everi time leav walmartpol everi time leav walmart corpor manag hire enough employe provid adequ custom servic custom reli technolog job employe door check item receipt make feel like crimin job check regist make check say price increas everyth walmart high qualiti store low paid low incom averag american work get life say older chain like kmart etc busi rememb time check talk even took groceri car day llllooonnnggg gone polic everi time leav store bs plain simpl say highli unprofession compani standard god help youth today idea come way date experi june'\n",
            " 'disgust custom serviceworst compani ever place deliveri order entir day advanc time suppos arriv word commun noth reach told would escal would receiv order within hour lie attempt call store kept get rout pharmaci final hung wait two hour reach time told driver arriv still noth final contact home offic said problem third parti delveri app could pick order gave coupon code way door get alert order way wait noth tri contact driver multipl time answer final turn phone get notif order deliv noth porch pictur avail porch pictur contact walmart yet process refund take day get back final contact custom servic delet entir account gave push back told valu custom offer anoth let know interest took minut close account throughout day lie hung even chat rep disconnect chat type decid done walmart use kroger amazon date experi decemb'\n",
            " 'awesom would buy againawesom would buy againd experi decemb'\n",
            " 'aw experi store pickupord onlin store pickup email notifi order readi pick pm arriv store check app pm wait pm get order two trip insid inquiri bizarr thing app show option cancel order check femal custom next wait minut smartli drive away compar home depot low amazon store compani truli garbag make life miser shop laughabl still think custom privileg buy thing stay away dirti arrog place date experi decemb'\n",
            " 'driver left street outsid driver left street outsid daughter dorm assembl provid screw complet unaccept daughter fine unl undeliver packag refund merud joked experi decemb'\n",
            " 'wal mart woodwardth wal mart woodward oklahoma filthi one recent day april smell actual urin sever bag great valu granul sugar bottom shelf day ladi custom servic also reek scent think wal mart need morbidli obes employe complet fit work evalu employe assist live humbl opinion date experi april'\n",
            " 'proper helpsad everi box come damag call three time damag item return prevail hour phone multipl still return label walmart good anymor seem realli dont care money date experi februari'\n",
            " 'walmart block review verifi buyerstoler walmart closest store shop transport issu tri leav review inferior product basic fals advertis check week later never post verifi buyer reason post review walmart get star sell item fals advertis tri cover refus post review buyer bewar cant trust walmart review date experi decemb'\n",
            " 'happi onn tablet date experi juli'\n",
            " 'order tire onlin instal order tire onlin instal islandia ny automot locat day tri call auto depart would pick oper said would page overhead transfer still pick phone minut get kick back oper got belliger hung decid cancel order call custom relat spoke danish ahm absolut zero help rectifi situat kept fire gener email state walmart valu busi want rectifi situat provid multipl solut basicli job respond mind solut requir compani loos money noth ask free lost custom copi past numer review board shop target instead least answer phone date experi decemb'\n",
            " 'made onlin purchas yesterday due made onlin purchas yesterday due weather order delay complet understood well hour later notifi cancel order cancel order call custom support best could say order well alreadi hold fund previou order order wait day order date experi octob'\n",
            " 'purchas food fresh purchas food fresh good tasted experi septemb'\n",
            " 'walmart make good purchas make purchas walmart take fund day later claim system glitch price error cancel order fund still gone refus stand buy price product gave choic still hold fund told expect honor price product went system held day mention problem item show stock much higher price date experi octob'\n",
            " 'saw kid four saw child four bark wolf mask come back againd experi april'\n",
            " 'worst experienceworst experi host shadi chines vendor issu refund even product transit four month order amazon way better custom servic allow vendor rip date experi april'\n",
            " 'dingi smoke fill dingi smoke fill real crimin atmospher beer flat dead fli glass restroom disgust time got toilet clean enough sit crap pant disappoint date experi februari'\n",
            " 'scam alert robbedi order paid one printer walmart com list compani base boulder colorado receiv track number watch progress receiv plastic automobil decor valu return address ship label exist fake address order number trace back compani colorado track number merchandis address exist anywher walmart custom servic tell order receiv refund price printer return mistaken item provid ship label claim usp fedex usp want charg send worthless plastic compani suppos send printer contact colorado compani claim first incid deal walmart ask send baubl arrang refund walmart want baubl first place walmart refus either send printer refund money paid first walmart offer merchandis rd parti merchant know nd somebodi walmart steal order somehow pocket money purchas arrang trash sent custom rd walmart obvious awar fraud choos simpli take respons bottom line order walmart expect rob date experi novemb'\n",
            " 'gold ringnev buy onlin jewelri walmart packag got deliv open contact walmart day never got refund said packag deliv ye pictur deliveri fedex compani taken side wast open person stolen knew gold ring insid stolen never believ call exact day lost dollar custom servic suck never buy onlin stuff walmart ever date experi septemb'\n",
            " 'upset customergood afternoontoday around pm walmart rt norwalk ct embarrass fals accus front custom also children wal mart bag previous brought store purchas bag feb approach older african american ladi self check ask scan bag respond back let know bag alreadi purchas mix bag brought store anoth worker came apolog ladi action behavior walk away stop older ladi asum upset worker apolog went older man door also make scene stop left walk problem hand receipt look receipt ask pay bag let know alreadi brought bag state lie walk custom servic young ladi look receipt let know ye purchas bag apolog noth kept talk like noth ever happen unreal let friend famili date experi march'\n",
            " 'sorri barnwel walmart realli want put star husband came home stroke peopl stand around parti one help girl told husband one check barnwel walmart husband say never go make chang sick care worker date experi juli'\n",
            " 'insuffici number custom servicei receiv order walmart children cloth littl boy cloth way small size way small month look like newborn month horribl time tri get refund start number garbag stuck even talk two peopl abl get two peopl hardli understand say suppos send code email click never show horribl trashi mess custom deserv go return number trash need fix still money back terribl product dissatisfi intern compani like walmart could better onlin phone numberd experi novemb'\n",
            " 'deliveri servic horribledeliveri servic horribl current hour late latest time time window select tell might deliv custom servic real peopl machin tell get within hour cancel want cancel want autist son drive get groceri want refund bogu walmart yearli fee go differ deliveri compani good date experi decemb'\n",
            " 'walmart onlin suk tell walmart onlin suk tell stock take ur say stock day refund yet ur better go store somewher els give star date experi octob'\n",
            " 'onlin ordersonlin order case randomli deliv anywher usp want whomev deliv call custom servic cyou cannot understand pretti much give runaround say transfer hang overal custom servic horribl deliveri horribl expect take loss purchas receiv never use walmart com date experi may'\n",
            " 'horriblehorr horribl horribl nightmar date experi june'\n",
            " 'counterfeit neuriva supplement walmart comw recent found neuriva supplement bought walmart com counterfeit notic made first purchas sinc immedi sign differ second purchas notic label spell format error manufactur confirm counterfeit danger take counterfeit supplement sold walmart com date experi novemb'\n",
            " 'got ps one problem also got ps one problem also bought game game item recommend game date experi januari'\n",
            " 'terribl compani rip offso final get craftsman piec mechan tool set christma get less day ago open properli find broken case door piec place p even miss import piec poor servic walmart send return product miss piec top shelv top slider dishevel never person shop onlin miss sear kmart walmart suck dream christma gift ruin shipper warehous sent us defect product sue life short bunch screw up probabl drop return tool set shove everyth back tape sent anyway up stand useless parcel servic walmart qualiti year bought miss piec thank walmart set date experi decemb'\n",
            " 'terribl deliveri servicei schedul groceri deliveri pm pm still store close pm custom servic reach store say tomorrow wait hour want reschedul day tomorrow date experi decemb'\n",
            " 'buyer bewar place order shipment octob suppos contain item unfortun got miss sinc past coupl week tri fail countless time get help issu chat phone call order page email review face blatant lie contradict inform encourag break rule promis thing never follow ignor hung push onto someon els etc count incompet autom system incompet whole regard compani deliveri store pick store etc ship understand thing happen mad import problem handl handl ridicul walmart mess instead fix push respons sole onto custom fight bend backward hour day week even month get fix get point shop less walmart go place tight money afford constantli eat loss top ad unnecessari stress worri gonna problem order tri get help edit done walmart tri escal issu account deactiv claim violat term also fyi still never got back time yeah right count one hand mani time tri get help year shop like bother right get call silenc peopl tire deal constant issu happili take busi elsewher buyer bewar date experi novemb'\n",
            " 'start shop last year start shop last year feel store pretti nice never seen stock usual pick need definit go morn well mom self checkout problem employe help checkout issu u may date experi march'\n",
            " 'walmart plu account canceledmi walmart plu account cancel initi without explan contact walmart custom servic told cancel violat return polici sinc made recent recent return ask specif info told read term condit continu ask specif provid anyth truli believ walmart made mistak figur get fix long time loyal custom would like continu shop walmart date experi decemb'\n",
            " 'walmart supplier bad chines walmart supplier bad chines merch poor custom servic done date experi januari'\n",
            " 'thought walmart plu experi thought walmart plu experi ridicul walmart product shopper bother replac item buyer notifi fact today order three item onlin third item purchas meet free ship threshold avoid ship fee anywho black bean sit wait pickup seven mile away heavili congest metropolitan area onlin order get split ship pick without notif prior place order absolut asinin date experi novemb'\n",
            " 'upset still tri upset still tri cloth illeg covid restrict buy cloth chang date experi februari'\n",
            " 'theiv order packag contain gift son suppos christma driver never show home day receiv messag say deliv along partial red pictur mean someon took pictur flash thumb block camera len tri pretend pictur taken stupid kid love play phone camera entir camera roll nose eye thumb pictur contact custom care local manag store extrem nice said would investig sad part last year exact issu christma differ take pictur mark item deliv someon steal child holiday smh peopl pathet walmart need better get thiev steal good driver fromdat experi decemb'\n",
            " 'give choicei give choic done lot line shop live countri ms hous quarter mile hwi hill stick huge sign road say packag go hous breezeway fenc road gate wide open everi order left pile sometim even realiz call heard thing happen tri call senatobia walmart order come speak manag got delet line account find compani shop gm life total unaccept custom servic big compani made big could care less pay check come date experi novemb'\n",
            " 'never ever busi never ever busi walmart onlin anymor think ok order item receiv compani even want resolv mistak either send miss item refund balanc instead tri keep payment item give respons call disput bank ye week still resolut neither date experi novemb'\n",
            " 'wish could give zero stari wish could give zero star purchas sweatshirt yesterday hwi richmond locat exercis class today much much big wore someth els took sweatshirt back smaller size made purchas sam mc receipt proof purchas upon complet transact told refund would put walmart gift card ask return credit card told system determin return refund ask manag stori result walmart devis unscrupul way keep money store second time happen fool shame fool twice shame longer busi walmart store one day later receipt paid credit card refund gift card shame walmart definit tell famili friend horribl horribl practic devis keep abl spend moni store person take busi target anywher els walmart use credit card credit card receipt within quick time frame would expect return card found item place els cheaper shame walmart probabl worst retail practic far advertis exchang refund least post polici risk least know get shame wont go door date experi februari'\n",
            " 'pay employe live wagepay employe live wage stop use govern benefit subsid low wage practic equal one dollar spent recogn charg money date experi novemb'\n",
            " 'walmart com realli step walmart got slow start walmart com resourc highli competit amazon com begin anyway appear walmart com make lost time order qt mobil full synthet along mobil oil filter morn deliv front porch seven hour later charg deliveri price littl better amazon com absolut amaz date experi januari'\n",
            " 'deliv canc order two differ type christma light hanger one arriv late use still arriv two week christma light hung tri cancel order walmart state go vendor vendor said would get item shortli wait rd deliveri date way cancel order best hope item final deliv return date experi decemb'\n",
            " 'good pricesgood price big store date experi februari'\n",
            " 'warn buy warn buy fals advertis titl say zojirushi stainless steel mug chines knock sold walmart ca site walmart need step corret order ask refund product purchas seller said item number correct order titl item zojirushi click purchas random number show custom suppos know zojirushi item walmart pleas help corret provid refund get fraud websit ruin trust walmart brand never buy walmart know seller walmart pond problem disappoint walmart date experi april'\n",
            " 'dizcoust costumerservic farmingdal dizcoust costumerservic farmingdal walmart lingisland ny buy tree vek one aiva shoe shoe broke two week use saprat button go farmingdal wslmart countrtperson say use dont return bzck may say flover buy use abssoluetli defect snd fire go insid vack dide dont com sm scream need supervisor finsli one ladi come dont lusten say dot push criminsl say call polic com want return mani back supervisior ladi runung fire go store insid nobadi return costum witn walmart worker witn abdoluetli ewertyh proof video need mani back stupit froyd walmart show sosial madia mordan shoe mani gift card sent walmart tayp costum agsin sent email trydat experi juli'\n",
            " 'walmart onlin order deliveri walmart onlin order deliveri servic slowli slowli get better use independ contractor perform deliveri contractor hire mani pepol neither speak read english ever wonder illeg immigr work know yard sign instruct deliveri driver put packag screen porch safe rain snow porch priat often put packag ground right front lawn sign driver walk around back door put packag ground backyard snow think date experi septemb'\n",
            " 'onlin order wrong item sentonlin order wrong item sent week get refund realli ridicul compar amazon walmart websit app elementari mean rd grader could set better date experi august'\n",
            " 'review choic review choic avail walmart app walmart com tri order gallon contain bluebel ice cream given two choic know walmart two flavor bluebel ice cream list great valu choic great valu walmart brand tri order choic bluebel ice cream purchas histori show flavor ice cream ever order butter pecan total ef bullsh never buy butter pecan walmart epitom everyth wrong world goe without say sam walton disappoint father appli ice cream item walmart sell list websit date experi june'\n",
            " 'auto care center minot north auto care center minot north dakota pathet made differ appoint tire never put april save money made appoint tire spent hour wait find manag ricardo made nd appoint told tire might assur truck come day prior appoint mention could show upgrad next step tire mismatch first gal tri help mount cost etc clear manag ricardo refus everi time ricardo see stand wait car turn goe elsewher pm appoint time still dont car worst custom servic ever receiv check pm ricardo sudden rememb told straight wring tell chanc tire would stock proceed call lier employ walmart expel differ employe told never issu managerd experi june'\n",
            " 'well refund well made onlin purchas walmart broken antenna receiv made return wait till seller receiv wait time return call cs time said ole crap see seller receiv item wait refund wait refund wait refund told march th th get refund day month sinc made purchas onlin buyer bewar well call promis refund dept say money alreadi sent manag bank say fals believ walmart stop answer email phone call guess disabl veteran screw good job walmart march th updat forget mani time call least differ time still refund custom servic peopl swore go expati refund thru manual refund dept even exist well day count buyer bewar onlin store rd parti vendor march well day phone call peopl final got refund threat contact bbb colorado spring co file complaint seller busi also go contact ftc onlin fraud issu readi refund less minut account realli could done seller got return anyway got refund earn everi penni stress headach associ realli like local walmart store great peopl will help friendli importantli stall lie order purchas take care episod final conclud thank god date experi februari'\n",
            " 'went walmart busi saturdayw walmart recent busi saturday mani manag stand end check aisl custom ring groceri product upon ask manag help reduc long line immedi call pa assist prove sometim need ask help date experi februari'\n",
            " 'custom servic chat custom servic less usefuldont shop often walmart occas happi onlin servic recent tri reorder someth record account histori annoy tri week order patio dine set week go check say technic error chat help useless clear cach noth error download app abl error call helplin took sever attempt get oper understand issu ask order number date order etc told tri anoth day week alreadi promo code wont last forev said specul issu pleas patient hour earli escal timefram imo buy wayfair insteadd experi may'\n",
            " 'decept practicesdecept practic horribl ethic way product detail display get disgust everi time attempt use w websit walmart suck serious horribl websit compani size money go somewher els date experi novemb'\n",
            " 'go want wast go want wast time ga money exactli happen went walmart want buy chocol put buck machin crappi machin pay cours someth goe wrong ask employe manag dollar bill unabl dollar bill wait wait one show want leav thing left empti hand dollar money back five buck gone know get money cashier hold go want everyth go wasted experi novemb'\n",
            " 'neutralmi experi walmart neutral mani pro con bought stuff walmart year shop store vers onlin shop store okay realli favorit place shop offer best price stuff buy area live locat travel lot big clean store nice also realli like self checkout though depend store pain deal constantli get employe attent see steal main downsid experi employe either nice complet rude feel like option ask help honestli date experi februari'\n",
            " 'order vacuum never shippedord vacuum first delay never materi walmart point finger third parti seller idea go third parti seller point finger walmart fedex never acknowledg get packag walmart rep pledg back obvious entir order vaporwar walmart unabl unwil anyth fulfil order cancel await refund order amazon instead least compet time walmart noth short pathet never order date experi august'\n",
            " 'walmart suckswalmart suck bring back self check everyon steal wait ridicul long line stupid self check empti store suck staff extrem grumpi rude unhelp date experi octob'\n",
            " 'came leav bad review came leav bad review check review attempt place order see amazon wayfair overstock grow walmart declin pleas read review order walmart com price great probabl get item defectd experi august'\n",
            " 'think take walmart grantedwalmart part tapestri live america decad think sometim take grant actual amaz suppli good even decent cloth occasion everyday groceri fresh much cheaper supermarket drop car oil chang get shop done great return want put one grate walmart date experi novemb'\n",
            " 'order mobil scooter order mobil scooter walmart com suicid machin like child toy cost yr old grandma box horrifi mobil scooter tri return walmart would take back endless tri contact rd parti seller walmart end hospit paid walmart want money back walmart date experi juli'\n",
            " 'think carewhat check regist open peopl stand line self servic saturday afternoon madden date experi novemb'\n",
            " 'walmart bestveri organ websit easi shop date experi novemb'\n",
            " 'aw placei gave lower would let write check groceri unless also buy bag price sky high never walk walmart wallet stolen card use realli sucksdat experi januari'\n",
            " 'custom srvce rep lie made promis never came provid empti lip servic liarsi housebound time shop return store order item onlin let ship back despit fact prior actual order item made sure speak walmart custom servic repres assur would abl ship back free charg would provid return ship label complain promis send return label via email never happen call apolog profus promis email return label scenario repeat sever time time profus apolog promis send email return label noth sham lie time terribl experi walmart amazon date experi januari'\n",
            " 'receiv item receiv item deliveri order call store call number wait someon talk minut told call store one time recent got part someon els order walmart make difficult date experi septemb'\n",
            " 'condescend clerkhad prescript fill yelm wa pharmaci pharmaci automat fill day howev budget afford discount dump month told clerk want day suppli clerk seem associ age senil refus accept decis w repeat question sever time got day suppli transfer prescript anoth pharmaci town person handl financ farm appreci clerk whose smile melt butter heat wave date experi june'\n",
            " 'famili mobil c tracfon bought famili mobil c tracfon bought verizon sent sim card migrat phone never work ruthless untrain heartless evil peopl speak english care cancel move worst cell phone compani west st mn walmart shop understaf line across store sometim peopl deep self check regist peopl cough covid store back yuck manag incompet need new larger walmart need secur magnet crime violenc anoth eye sore dirti disast date experi februari'\n",
            " 'wast time wast time place order order cancel reasond experi octob'\n",
            " 'never order walmart third parti vendor never order anoth item walmart ship third parti vender materi come either damag poor qualiti case last order show correct ship address postal track show deliveri mile away live realli fair say order item ship walmart direct fine select shipper p still tri get respons lost item paid never receiv date experi novemb'\n",
            " 'mi deliv order mi deliv order find plu made make polic report say order got stolen fact never got deliv never go buy walmart line ever huge nightmared experi may'\n",
            " 'two orderstwo order onlin ship order never receiv custom care acknowledg lost ship give refund nope nearli week numer call song danc expedit even mean told wait day mess refund send check song danc bought black decker countertop dishwash work less week door lock disappear insid use bought worthless extend warranti told return round round go go use ship food deliveri bad least one item usual mark unavail least charg bs date experi may'\n",
            " 'corrupt corpcorrupt corp pay worker fair wage give health insur date experi februari'\n",
            " 'walmart chicago deliv walmart chicago store pay year walmart drop deliveri row item deliv broken order incomplet one order never show sit wait hour walmart com cust servic say bad store contact tri differ store sad date experi may'\n",
            " 'easi shop experi fast shop groceri membership mani great save free deliveri matter mani item purchasedd experi march'\n",
            " 'lock door entranc time earli pm till pm noth go enter exit shopsidney nebraska bad enough store lock block entranc door time normal earli pm peopl leav upset figur enter exit door june th pm entranc door block lock store close till pm becom normal frustratingd experi june'\n",
            " 'cheaper groceri bag fall apart cashier tri bagaft spend hr groceri shop wal mart bag ar checkout kept bust bottom groceri fall floor poor cashier tri put item bag bottom kept bust bend least time pick groceri floor cashier help call manag told happen noth final threw hand air walk told manag could bend pick rest ship mani time bag use today much thinner past walmart lost custom one yr date experi march'\n",
            " 'walmart com horriblei purchas dress walmart com return may today day later still yet receiv item item poor qualiti mi size place order horribled experi may'\n",
            " 'poor custom serviceth custom servic horribl good luck find someon speak understand english poor poor poor custom servic compani date experi januari'\n",
            " 'order backpack order backpack grandchildren suppos inch even inch allow review walmart websit wait week got ridicul make almost imposs contact custom servic fact lie sell stuff unreal allow sell stuff lie get someon buy garbag date experi septemb'\n",
            " 'order wrong size tire order wrong size tire accid cancel order use app minut later next morn call ensur cancel week later told tire way call today tri best yeah sure walmartd experi decemb'\n",
            " 'order groceri walmart order groceri walmart app ebt card charg tax extra charg debit card call walmart get straight gave new coupon still explan happen use app plenti time never happen until today someth seem wrong app keep could get su u charg tax food stamp date experi februari'\n",
            " 'want suffer fool walmart huckleberrypurchas pack celsiu drink two can blew transit everyth soak wet includ ship box request walmart replac two drink min custom support need box return get two can replac idioci photo avail work thru simpl issu review walmart refund inappropri amount want can two replac attempt take advantag also receiv pot soil order one bag arriv perfectli place clear plastic bag good condit second bag one open tape shut plastic bag chew gum candi trash custom servic brilliant promis refund without return elderli disabl order ship receiv email would need bag box item take ship guess put bag trash sent thank walmart cute date experi octob'\n",
            " 'aw custom servicemi order current week late respond inquiri within hour promis effort made rectifi situat still idea im go receiv item oh wait min talk someon onlin chat sent one sentenc boot met minut countdown time would take reach repres date experi decemb'\n",
            " 'understaffedit seem everi time visit walgreen anoth hassl long line untrain staff empti shelv pharmaci lunch break come back later today hold minut switch automat ring tome anoth minut one pick compani make enough could hire train help realli servic custom date experi januari'\n",
            " 'appar walmart hire ubereat appar walmart hire ubereat driver deliv item televis fuji instant digit camera two differ deliveri guy guy left item front door machin shop never attempt open door leav anyth receptionist left right front build busi street suffic say receiv either item time got outsid drove way walmart store initi deliveri almost hour away shop told happen pretti much assum zero respons issu told contact uber eat contact uber eat told issu walmart contact credit card compani disput charg said wait day whole situat absolut ridicul would use peopl deliveri servic date experi novemb'\n",
            " 'third parti purchas without consenti order product walmart com git sent wrong item went return store told could sold walmart com rather third parti issu purchas someth walmart com indic sold third parti oner return polici send order jump hoop get return bought wal mart expect return unsatisfactori product wal mart make hesit use wal mart com aw experi date experi februari'\n",
            " 'conveni super easi onlin conveni super easi onlin shop date experi januari'\n",
            " 'mayb time shop somewher els done almost shop food tool pet craft household suppli walmart store walmart com experi sacramento antelop locat may chang enjoy shop make list get need done tonight store minut minut spent wait someon unlock lock case craft pet depart could get white craft glue small bottl craft paint cent dog toy walmart littl respect time deserv money store employe wonder ridicul hinder lock product case key key work one avail even though nearbi employe key repeatedli call someon help employe star store star date experi april'\n",
            " 'discriminationi receiv email morn say account deactiv call spoke repres name kit correct four time kept call male call day issu order think start becom discriminatori shut account base sexual orient date experi decemb'\n",
            " 'use appdo use app mani friend mine get food stamp stolen app secur low walmart app horribled experi decemb'\n",
            " 'chang deliveri miss quantitywalmart member chang deliveri time method bag empti tape order bag pellet two next day local store deliveri next day afternoon rout around pm chang statu said attempt deliveri sent back sender one got cancel chang fedex deliveri box deliv realli light lb pellet open box less bag tape date experi decemb'\n",
            " 'stop store bultman stop store bultman drive sumter c parklot look trash truck blow ga station trash can empti trash pill cart outsid store wish way put pictur date experi decemb'\n",
            " 'seem walmart follow return policyit seem walmart follow return polici deni return birthday gift receipt much day return polici date experi januari'\n",
            " 'made store pick order put made store pick order put pre author debit card amount item bought week later still wait money back card transact settl day ago walmart still hold card ridicul date experi decemb'\n",
            " 'rude walmart associatethi morn call walmart branch inn road orlean confirm hour associ answer quit rude respond abruptli say remembr day suggest check news know open pm could finish explain hung someon new canada familiar remembr day affect store hour reach confirm found disappoint simpl question met disrespect respons especi answer phone good custom servic alway includ clear respect commun date experi novemb'\n",
            " 'love sex managerd experi januari'\n",
            " 'easi fraud walmart websitesomeon creat account email address made order probabl hack credit card without even need confirm email address shi websit could delet account caus found way contact besid phone number spend money intern call credit call rd world countri even walmart lol date experi septemb'\n",
            " 'ridicul track packagesridicul track packag take ownership problem combin poor custom servic skill everyon pass buck someon els call still refund date experi octob'\n",
            " 'slow websitei like fact websit slow brows forev tri finish purchas websit load tri call support avail date experi juli'\n",
            " 'peopl thiev regard onlin order ship incorrect item lengthi custom servic chat phone call state recours return incorrectli ship item store first store tri help printer broken second store took incorrect item provid refund two week later charg price item never sent sinc return item weight match weight order sent wrong thing lengthi chat call custom servic resolv issu spent hour two trip tri fix amount theft custom charg item never sent refus issu refund refus commun give minu infin could understand stay busi treat peopl spent thousand store badli date experi februari'\n",
            " 'exact walmart exact walmart knightdal nc complet scam purchas k gold chain gave damn zip lock bag mean realli bad peopl weigh much return walmart zebulon nc took guy call coach call complet racist half hour type execut meet guess kkk give back damn money walmart scam wast entir day away famili date experi novemb'\n",
            " 'walmart plu mess sinc first walmart plu mess sinc first minut sign made order time split card reason even though one design main card explain took day rectifi driver take photo get groceri post onlin huh driver get lost reason ai chat worthless phone peopl bare speak english talk paramount plu joke get commerci start begin get loop never abl watch complet show amazon youtubetv light year better crap good experi date experi march'\n",
            " 'delet walmart account delet walmart account get away dei program mean want ppl work want money date experi novemb'\n",
            " 'liesi bought bar stool ad pictur state come back octob new home built home done till octob call octob told get refund never got call back sever time last time call told advertis box get refund email pictur ad think send stool miss date experi decemb'\n",
            " 'walmart greatwalmart great everyth cheap long nice part town peopl friendli date experi novemb'\n",
            " 'worst buy experi lifewalmart com fraud dept complet garbag never mani problem tri spend money retail store one tv sound bar order vizio total fraud dept cancel order twice night automat one fraud dept talk fix wait night sweat whether item would sell sale price spoke walmart custom servic first cancel despit assur notat account purchas author second purchas item cancel disgust never ever shop walmart com date experi novemb'\n",
            " 'unexpect day offso unexpect day decid siez day get oil chang truck first contact would consid reput shop book go monkey jiffi bucki type place base past experi determin reach object went wallyworld hate done park truck went insid told pull bay one car insid next line moment later greet tech told like get oil chang said ask told two us go lunch hard time grasp idea devis compani one specif thing cannot specificlli fullfil specif one thing date experi decemb'\n",
            " 'walmart total screw check preintingwalmart total screw check oder goodi receiv month ago tri use told good cash never get refund walmart check scamdat experi octob'\n",
            " 'avoid order onlin walmartord onlin nov rd reason order deliv next day unawar delinqu deliveri servic use loomi express gaurante promis perform use amazon fulfil decid call day later inquir delay discov unprofession custom servic loomi express lead call walmart cancel order cc compani basic never order anyth walmart onlin brick mortar store brand leav onlin game amazon key success onlin abl fulfil order time take geniu figur need cut loomi rotat kill busi date experi novemb'\n",
            " 'hire peopl stop part hire peopl stop part corpor greed wait line minut checkout peopl line back either fix fire dei get togetherd experi decemb'\n",
            " 'thank walmart associatesmost time see everyth work compani like walmart effort associ make store neat organ everyday come mess want take moment thank everi singl walmart associ day day work hard store complet organ readi custom constant dedic job store compani day thank thank thank date experi june'\n",
            " 'peopl friendli helpfulpeopl friendli helpfulgreat servic date experi june'\n",
            " 'order microwav order microwav stock suppos deliv today order pretti earli morn wait till messag find estim deliveri time find item stock even though show stock reach walmart fulfil center could take busi day could get microwav order onlin cheaper howev best go pick know store custom servic hell go screenshot show order place prepar deliveri wpuld today sudden talk custom servic back order place stock even though onlin need updat onlin servic incorrect choic cancel order complet wait refund gonna take exact amount time would take get anoth microwav walmart suck stop order onlin similar experi someth els thought mayb improv appar care custom suggest find altern order onlin except walmart gonna get stuff unless go pick ye conveni cheaper onlin want need day best go store actual longer shop walmart enough inconsist lack care rude honest date experi februari'\n",
            " 'school suppli check everi year shop school suppli save time use websit instead go store websit ran smoothli bill end less normal back school howev find good deal take time especi plastic folder composit notebook date experi juli'\n",
            " 'onlin account hack onlin account access use someon els complet differ credit card name address kentucki mine serval digit game purchas deliv contact custom servic chat initi exchang told handl differ team coupl minut wait hour cs final answer rude flip apolog hold long seemingli complet unconcern issu state concern lack concern someon els access person info includ credit card cs said refer fraud like somehow know ask account close wait min supposedli close check account next day indic account close credit card info delet back account receiv singl email walmart acknowledg issu close account refer fraud noth word send big warn flag walmart hack own warn custom anyth updat post complaint walmart receiv email state forward manag team take action issu ok see anyth done date experi decemb'\n",
            " 'thiev opionthiev opion watch bill put charg bill tell dont see call bank also promis refund thing dont stay top guess hope forget mention almost time dont order say way cancel last minut aw happen awesom compani date experi novemb'\n",
            " 'equat dental floss walmart worth purchasei recent go super walmart lo bano california look buy dental floss reach mint dental floss unfortun decid purchas equat mint dental floss brand know walmart motto save money live better tell purchas equat dental floss find cheapest worst dental floss ever use fall apart use leav tini thread teeth go back dental floss remov thread previou use use much advic ever ever purchas equat dental floss better buy someth cost littl much effect date experi may'\n",
            " 'spark deliveri suckstheir spark deliveri suck even though vailid dl file crappi system make verifi dl almost everi week crappi take photo get right top fail deactiv account without tell file frack appeal wait day get back system frack first place hour day cannot work care everyth outsourc ldlot countryd experi juli'\n",
            " 'custom servic joke agent custom servic joke agent might well make pictur sand lucki stay line long enough chanc get answer answer phone clueless issu solut go togeth anoth galaxi reli useless bot never go shop anymor date experi august'\n",
            " 'tri make payment card tri make payment card custom servic staff either train properli hire laziest actual interest work understand may greatest pay job easi work retail done year go take job least pride leav slow girl work behind counter get aggrav watch worth blood pressur skyrocket dufferin mall locat matter gone would say everi time gone someon seem care custom servic date experi june']\n"
          ]
        }
      ]
    },
    {
      "cell_type": "markdown",
      "source": [
        "Convert the textual data into numerical data"
      ],
      "metadata": {
        "id": "9wkc15zjxnPZ"
      }
    },
    {
      "cell_type": "code",
      "source": [
        "vectorizer = TfidfVectorizer()\n",
        "\n",
        "X_train = vectorizer.fit_transform(X_train)\n",
        "X_test = vectorizer.transform(X_test)"
      ],
      "metadata": {
        "id": "ifjPk-zLspk_"
      },
      "execution_count": null,
      "outputs": []
    },
    {
      "cell_type": "code",
      "source": [
        "print(X_train)"
      ],
      "metadata": {
        "colab": {
          "base_uri": "https://localhost:8080/"
        },
        "id": "dd4HwuviwVHf",
        "outputId": "1ce0c4fb-63ec-4925-9ee7-cdbdf3e8e290"
      },
      "execution_count": null,
      "outputs": [
        {
          "output_type": "stream",
          "name": "stdout",
          "text": [
            "  (0, 7468)\t0.20423851100327187\n",
            "  (0, 1106)\t0.4341926462141787\n",
            "  (0, 1229)\t0.17949344090690467\n",
            "  (0, 6017)\t0.2614551433345408\n",
            "  (0, 5089)\t0.21206586463484575\n",
            "  (0, 5371)\t0.16429548517916054\n",
            "  (0, 7002)\t0.25044653602265027\n",
            "  (0, 4219)\t0.2021991087885986\n",
            "  (0, 6502)\t0.2317854780401269\n",
            "  (0, 6544)\t0.11808426158837206\n",
            "  (0, 6385)\t0.3047044855253129\n",
            "  (0, 112)\t0.33102453684315347\n",
            "  (0, 4358)\t0.4341926462141787\n",
            "  (0, 1799)\t0.07237854625609434\n",
            "  (0, 2566)\t0.060409811686410804\n",
            "  (0, 4935)\t0.16159233709723264\n",
            "  (1, 5371)\t0.1212007736310386\n",
            "  (1, 4219)\t0.14916227543295354\n",
            "  (1, 1799)\t0.05339365102432675\n",
            "  (1, 2566)\t0.04456431595374747\n",
            "  (1, 5492)\t0.36110195937364015\n",
            "  (1, 5061)\t0.20282946753470998\n",
            "  (1, 5113)\t0.1497793740003055\n",
            "  (1, 7488)\t0.1736558535453197\n",
            "  (1, 6702)\t0.14178622621756845\n",
            "  :\t:\n",
            "  (2647, 927)\t0.10183790161954742\n",
            "  (2647, 4505)\t0.1353534502649491\n",
            "  (2647, 8030)\t0.2530682474881016\n",
            "  (2647, 3215)\t0.13836130408004035\n",
            "  (2647, 4957)\t0.15188628751704691\n",
            "  (2647, 1294)\t0.29254582442712784\n",
            "  (2647, 3603)\t0.15979789565057048\n",
            "  (2647, 8514)\t0.15979789565057048\n",
            "  (2647, 4798)\t0.31959579130114096\n",
            "  (2647, 5678)\t0.15979789565057048\n",
            "  (2647, 6204)\t0.15979789565057048\n",
            "  (2647, 7371)\t0.15979789565057048\n",
            "  (2647, 5405)\t0.15979789565057048\n",
            "  (2648, 2566)\t0.046206337725191435\n",
            "  (2648, 5061)\t0.21030294478785683\n",
            "  (2648, 3840)\t0.19157538748219913\n",
            "  (2648, 1847)\t0.12395625570610562\n",
            "  (2648, 6393)\t0.3592664094514908\n",
            "  (2648, 6894)\t0.41351321502397115\n",
            "  (2648, 854)\t0.310861551372739\n",
            "  (2648, 5232)\t0.44191632563312316\n",
            "  (2648, 7846)\t0.31566326260008404\n",
            "  (2648, 3278)\t0.31566326260008404\n",
            "  (2648, 5234)\t0.3321058531503411\n",
            "  (2649, 4800)\t1.0\n"
          ]
        }
      ]
    },
    {
      "cell_type": "code",
      "source": [
        "print(X_test)"
      ],
      "metadata": {
        "colab": {
          "base_uri": "https://localhost:8080/"
        },
        "id": "pD5ljSr2wVXD",
        "outputId": "4f958669-5ef9-4afd-d3f0-1dbc06bdd775"
      },
      "execution_count": null,
      "outputs": [
        {
          "output_type": "stream",
          "name": "stdout",
          "text": [
            "  (0, 41)\t0.11492198704016607\n",
            "  (0, 74)\t0.06629711809596232\n",
            "  (0, 267)\t0.07724176979468818\n",
            "  (0, 408)\t0.052162258498987875\n",
            "  (0, 579)\t0.13781207668643314\n",
            "  (0, 1086)\t0.0539259402985761\n",
            "  (0, 1218)\t0.27804816259026843\n",
            "  (0, 1519)\t0.20177650637613812\n",
            "  (0, 1748)\t0.13978816432784694\n",
            "  (0, 1799)\t0.022541312718696013\n",
            "  (0, 1847)\t0.05047121169022956\n",
            "  (0, 2012)\t0.11708342079373023\n",
            "  (0, 2359)\t0.05845736174594992\n",
            "  (0, 2397)\t0.0673458329948308\n",
            "  (0, 2559)\t0.07311954431771446\n",
            "  (0, 2566)\t0.01881381330432932\n",
            "  (0, 2761)\t0.060118228971991025\n",
            "  (0, 2773)\t0.0596021960553564\n",
            "  (0, 3033)\t0.0673458329948308\n",
            "  (0, 3074)\t0.05374678798690279\n",
            "  (0, 3082)\t0.0980507116838192\n",
            "  (0, 3471)\t0.06629711809596232\n",
            "  (0, 3561)\t0.12377834283433613\n",
            "  (0, 3697)\t0.43523002603478006\n",
            "  (0, 4028)\t0.10737499983628747\n",
            "  :\t:\n",
            "  (659, 4701)\t0.24637318267761457\n",
            "  (659, 5233)\t0.24158294316706005\n",
            "  (659, 5456)\t0.15624997163637167\n",
            "  (659, 5751)\t0.16296299253784394\n",
            "  (659, 5803)\t0.18575710835381015\n",
            "  (659, 5998)\t0.08232037878717502\n",
            "  (659, 6224)\t0.11435743753695872\n",
            "  (659, 6499)\t0.3205342245630764\n",
            "  (659, 6653)\t0.30629177440373645\n",
            "  (659, 7928)\t0.19795506670625698\n",
            "  (659, 8176)\t0.13650207727594996\n",
            "  (660, 1799)\t0.08528864685916887\n",
            "  (660, 2355)\t0.31054097960687244\n",
            "  (660, 2566)\t0.14237011828121257\n",
            "  (660, 3103)\t0.32192165749807283\n",
            "  (660, 3315)\t0.6458782779486673\n",
            "  (660, 3470)\t0.41767246677076675\n",
            "  (660, 3879)\t0.20246702203658276\n",
            "  (660, 5061)\t0.1619953917491004\n",
            "  (660, 6675)\t0.1748162060317804\n",
            "  (660, 8176)\t0.18898111174673257\n",
            "  (660, 8272)\t0.21741282088006345\n",
            "  (661, 4800)\t1.0\n",
            "  (662, 2566)\t0.35017133641859427\n",
            "  (662, 4935)\t0.9366856650717014\n"
          ]
        }
      ]
    },
    {
      "cell_type": "markdown",
      "source": [
        "Training the Machine Learning Model"
      ],
      "metadata": {
        "id": "hEkanuA_15Op"
      }
    },
    {
      "cell_type": "markdown",
      "source": [
        "## **Logistic Regression**"
      ],
      "metadata": {
        "id": "c9_5H0XL2Euq"
      }
    },
    {
      "cell_type": "code",
      "source": [
        "model = LogisticRegression(max_iter=1000)"
      ],
      "metadata": {
        "id": "L4HlN7HEwVhm"
      },
      "execution_count": null,
      "outputs": []
    },
    {
      "cell_type": "code",
      "source": [
        "model.fit(X_train, Y_train)"
      ],
      "metadata": {
        "colab": {
          "base_uri": "https://localhost:8080/",
          "height": 80
        },
        "id": "1knq9UzV14BV",
        "outputId": "ea05628f-d2be-4bb5-c02f-64b1734fe969"
      },
      "execution_count": null,
      "outputs": [
        {
          "output_type": "execute_result",
          "data": {
            "text/plain": [
              "LogisticRegression(max_iter=1000)"
            ],
            "text/html": [
              "<style>#sk-container-id-1 {\n",
              "  /* Definition of color scheme common for light and dark mode */\n",
              "  --sklearn-color-text: #000;\n",
              "  --sklearn-color-text-muted: #666;\n",
              "  --sklearn-color-line: gray;\n",
              "  /* Definition of color scheme for unfitted estimators */\n",
              "  --sklearn-color-unfitted-level-0: #fff5e6;\n",
              "  --sklearn-color-unfitted-level-1: #f6e4d2;\n",
              "  --sklearn-color-unfitted-level-2: #ffe0b3;\n",
              "  --sklearn-color-unfitted-level-3: chocolate;\n",
              "  /* Definition of color scheme for fitted estimators */\n",
              "  --sklearn-color-fitted-level-0: #f0f8ff;\n",
              "  --sklearn-color-fitted-level-1: #d4ebff;\n",
              "  --sklearn-color-fitted-level-2: #b3dbfd;\n",
              "  --sklearn-color-fitted-level-3: cornflowerblue;\n",
              "\n",
              "  /* Specific color for light theme */\n",
              "  --sklearn-color-text-on-default-background: var(--sg-text-color, var(--theme-code-foreground, var(--jp-content-font-color1, black)));\n",
              "  --sklearn-color-background: var(--sg-background-color, var(--theme-background, var(--jp-layout-color0, white)));\n",
              "  --sklearn-color-border-box: var(--sg-text-color, var(--theme-code-foreground, var(--jp-content-font-color1, black)));\n",
              "  --sklearn-color-icon: #696969;\n",
              "\n",
              "  @media (prefers-color-scheme: dark) {\n",
              "    /* Redefinition of color scheme for dark theme */\n",
              "    --sklearn-color-text-on-default-background: var(--sg-text-color, var(--theme-code-foreground, var(--jp-content-font-color1, white)));\n",
              "    --sklearn-color-background: var(--sg-background-color, var(--theme-background, var(--jp-layout-color0, #111)));\n",
              "    --sklearn-color-border-box: var(--sg-text-color, var(--theme-code-foreground, var(--jp-content-font-color1, white)));\n",
              "    --sklearn-color-icon: #878787;\n",
              "  }\n",
              "}\n",
              "\n",
              "#sk-container-id-1 {\n",
              "  color: var(--sklearn-color-text);\n",
              "}\n",
              "\n",
              "#sk-container-id-1 pre {\n",
              "  padding: 0;\n",
              "}\n",
              "\n",
              "#sk-container-id-1 input.sk-hidden--visually {\n",
              "  border: 0;\n",
              "  clip: rect(1px 1px 1px 1px);\n",
              "  clip: rect(1px, 1px, 1px, 1px);\n",
              "  height: 1px;\n",
              "  margin: -1px;\n",
              "  overflow: hidden;\n",
              "  padding: 0;\n",
              "  position: absolute;\n",
              "  width: 1px;\n",
              "}\n",
              "\n",
              "#sk-container-id-1 div.sk-dashed-wrapped {\n",
              "  border: 1px dashed var(--sklearn-color-line);\n",
              "  margin: 0 0.4em 0.5em 0.4em;\n",
              "  box-sizing: border-box;\n",
              "  padding-bottom: 0.4em;\n",
              "  background-color: var(--sklearn-color-background);\n",
              "}\n",
              "\n",
              "#sk-container-id-1 div.sk-container {\n",
              "  /* jupyter's `normalize.less` sets `[hidden] { display: none; }`\n",
              "     but bootstrap.min.css set `[hidden] { display: none !important; }`\n",
              "     so we also need the `!important` here to be able to override the\n",
              "     default hidden behavior on the sphinx rendered scikit-learn.org.\n",
              "     See: https://github.com/scikit-learn/scikit-learn/issues/21755 */\n",
              "  display: inline-block !important;\n",
              "  position: relative;\n",
              "}\n",
              "\n",
              "#sk-container-id-1 div.sk-text-repr-fallback {\n",
              "  display: none;\n",
              "}\n",
              "\n",
              "div.sk-parallel-item,\n",
              "div.sk-serial,\n",
              "div.sk-item {\n",
              "  /* draw centered vertical line to link estimators */\n",
              "  background-image: linear-gradient(var(--sklearn-color-text-on-default-background), var(--sklearn-color-text-on-default-background));\n",
              "  background-size: 2px 100%;\n",
              "  background-repeat: no-repeat;\n",
              "  background-position: center center;\n",
              "}\n",
              "\n",
              "/* Parallel-specific style estimator block */\n",
              "\n",
              "#sk-container-id-1 div.sk-parallel-item::after {\n",
              "  content: \"\";\n",
              "  width: 100%;\n",
              "  border-bottom: 2px solid var(--sklearn-color-text-on-default-background);\n",
              "  flex-grow: 1;\n",
              "}\n",
              "\n",
              "#sk-container-id-1 div.sk-parallel {\n",
              "  display: flex;\n",
              "  align-items: stretch;\n",
              "  justify-content: center;\n",
              "  background-color: var(--sklearn-color-background);\n",
              "  position: relative;\n",
              "}\n",
              "\n",
              "#sk-container-id-1 div.sk-parallel-item {\n",
              "  display: flex;\n",
              "  flex-direction: column;\n",
              "}\n",
              "\n",
              "#sk-container-id-1 div.sk-parallel-item:first-child::after {\n",
              "  align-self: flex-end;\n",
              "  width: 50%;\n",
              "}\n",
              "\n",
              "#sk-container-id-1 div.sk-parallel-item:last-child::after {\n",
              "  align-self: flex-start;\n",
              "  width: 50%;\n",
              "}\n",
              "\n",
              "#sk-container-id-1 div.sk-parallel-item:only-child::after {\n",
              "  width: 0;\n",
              "}\n",
              "\n",
              "/* Serial-specific style estimator block */\n",
              "\n",
              "#sk-container-id-1 div.sk-serial {\n",
              "  display: flex;\n",
              "  flex-direction: column;\n",
              "  align-items: center;\n",
              "  background-color: var(--sklearn-color-background);\n",
              "  padding-right: 1em;\n",
              "  padding-left: 1em;\n",
              "}\n",
              "\n",
              "\n",
              "/* Toggleable style: style used for estimator/Pipeline/ColumnTransformer box that is\n",
              "clickable and can be expanded/collapsed.\n",
              "- Pipeline and ColumnTransformer use this feature and define the default style\n",
              "- Estimators will overwrite some part of the style using the `sk-estimator` class\n",
              "*/\n",
              "\n",
              "/* Pipeline and ColumnTransformer style (default) */\n",
              "\n",
              "#sk-container-id-1 div.sk-toggleable {\n",
              "  /* Default theme specific background. It is overwritten whether we have a\n",
              "  specific estimator or a Pipeline/ColumnTransformer */\n",
              "  background-color: var(--sklearn-color-background);\n",
              "}\n",
              "\n",
              "/* Toggleable label */\n",
              "#sk-container-id-1 label.sk-toggleable__label {\n",
              "  cursor: pointer;\n",
              "  display: flex;\n",
              "  width: 100%;\n",
              "  margin-bottom: 0;\n",
              "  padding: 0.5em;\n",
              "  box-sizing: border-box;\n",
              "  text-align: center;\n",
              "  align-items: start;\n",
              "  justify-content: space-between;\n",
              "  gap: 0.5em;\n",
              "}\n",
              "\n",
              "#sk-container-id-1 label.sk-toggleable__label .caption {\n",
              "  font-size: 0.6rem;\n",
              "  font-weight: lighter;\n",
              "  color: var(--sklearn-color-text-muted);\n",
              "}\n",
              "\n",
              "#sk-container-id-1 label.sk-toggleable__label-arrow:before {\n",
              "  /* Arrow on the left of the label */\n",
              "  content: \"▸\";\n",
              "  float: left;\n",
              "  margin-right: 0.25em;\n",
              "  color: var(--sklearn-color-icon);\n",
              "}\n",
              "\n",
              "#sk-container-id-1 label.sk-toggleable__label-arrow:hover:before {\n",
              "  color: var(--sklearn-color-text);\n",
              "}\n",
              "\n",
              "/* Toggleable content - dropdown */\n",
              "\n",
              "#sk-container-id-1 div.sk-toggleable__content {\n",
              "  max-height: 0;\n",
              "  max-width: 0;\n",
              "  overflow: hidden;\n",
              "  text-align: left;\n",
              "  /* unfitted */\n",
              "  background-color: var(--sklearn-color-unfitted-level-0);\n",
              "}\n",
              "\n",
              "#sk-container-id-1 div.sk-toggleable__content.fitted {\n",
              "  /* fitted */\n",
              "  background-color: var(--sklearn-color-fitted-level-0);\n",
              "}\n",
              "\n",
              "#sk-container-id-1 div.sk-toggleable__content pre {\n",
              "  margin: 0.2em;\n",
              "  border-radius: 0.25em;\n",
              "  color: var(--sklearn-color-text);\n",
              "  /* unfitted */\n",
              "  background-color: var(--sklearn-color-unfitted-level-0);\n",
              "}\n",
              "\n",
              "#sk-container-id-1 div.sk-toggleable__content.fitted pre {\n",
              "  /* unfitted */\n",
              "  background-color: var(--sklearn-color-fitted-level-0);\n",
              "}\n",
              "\n",
              "#sk-container-id-1 input.sk-toggleable__control:checked~div.sk-toggleable__content {\n",
              "  /* Expand drop-down */\n",
              "  max-height: 200px;\n",
              "  max-width: 100%;\n",
              "  overflow: auto;\n",
              "}\n",
              "\n",
              "#sk-container-id-1 input.sk-toggleable__control:checked~label.sk-toggleable__label-arrow:before {\n",
              "  content: \"▾\";\n",
              "}\n",
              "\n",
              "/* Pipeline/ColumnTransformer-specific style */\n",
              "\n",
              "#sk-container-id-1 div.sk-label input.sk-toggleable__control:checked~label.sk-toggleable__label {\n",
              "  color: var(--sklearn-color-text);\n",
              "  background-color: var(--sklearn-color-unfitted-level-2);\n",
              "}\n",
              "\n",
              "#sk-container-id-1 div.sk-label.fitted input.sk-toggleable__control:checked~label.sk-toggleable__label {\n",
              "  background-color: var(--sklearn-color-fitted-level-2);\n",
              "}\n",
              "\n",
              "/* Estimator-specific style */\n",
              "\n",
              "/* Colorize estimator box */\n",
              "#sk-container-id-1 div.sk-estimator input.sk-toggleable__control:checked~label.sk-toggleable__label {\n",
              "  /* unfitted */\n",
              "  background-color: var(--sklearn-color-unfitted-level-2);\n",
              "}\n",
              "\n",
              "#sk-container-id-1 div.sk-estimator.fitted input.sk-toggleable__control:checked~label.sk-toggleable__label {\n",
              "  /* fitted */\n",
              "  background-color: var(--sklearn-color-fitted-level-2);\n",
              "}\n",
              "\n",
              "#sk-container-id-1 div.sk-label label.sk-toggleable__label,\n",
              "#sk-container-id-1 div.sk-label label {\n",
              "  /* The background is the default theme color */\n",
              "  color: var(--sklearn-color-text-on-default-background);\n",
              "}\n",
              "\n",
              "/* On hover, darken the color of the background */\n",
              "#sk-container-id-1 div.sk-label:hover label.sk-toggleable__label {\n",
              "  color: var(--sklearn-color-text);\n",
              "  background-color: var(--sklearn-color-unfitted-level-2);\n",
              "}\n",
              "\n",
              "/* Label box, darken color on hover, fitted */\n",
              "#sk-container-id-1 div.sk-label.fitted:hover label.sk-toggleable__label.fitted {\n",
              "  color: var(--sklearn-color-text);\n",
              "  background-color: var(--sklearn-color-fitted-level-2);\n",
              "}\n",
              "\n",
              "/* Estimator label */\n",
              "\n",
              "#sk-container-id-1 div.sk-label label {\n",
              "  font-family: monospace;\n",
              "  font-weight: bold;\n",
              "  display: inline-block;\n",
              "  line-height: 1.2em;\n",
              "}\n",
              "\n",
              "#sk-container-id-1 div.sk-label-container {\n",
              "  text-align: center;\n",
              "}\n",
              "\n",
              "/* Estimator-specific */\n",
              "#sk-container-id-1 div.sk-estimator {\n",
              "  font-family: monospace;\n",
              "  border: 1px dotted var(--sklearn-color-border-box);\n",
              "  border-radius: 0.25em;\n",
              "  box-sizing: border-box;\n",
              "  margin-bottom: 0.5em;\n",
              "  /* unfitted */\n",
              "  background-color: var(--sklearn-color-unfitted-level-0);\n",
              "}\n",
              "\n",
              "#sk-container-id-1 div.sk-estimator.fitted {\n",
              "  /* fitted */\n",
              "  background-color: var(--sklearn-color-fitted-level-0);\n",
              "}\n",
              "\n",
              "/* on hover */\n",
              "#sk-container-id-1 div.sk-estimator:hover {\n",
              "  /* unfitted */\n",
              "  background-color: var(--sklearn-color-unfitted-level-2);\n",
              "}\n",
              "\n",
              "#sk-container-id-1 div.sk-estimator.fitted:hover {\n",
              "  /* fitted */\n",
              "  background-color: var(--sklearn-color-fitted-level-2);\n",
              "}\n",
              "\n",
              "/* Specification for estimator info (e.g. \"i\" and \"?\") */\n",
              "\n",
              "/* Common style for \"i\" and \"?\" */\n",
              "\n",
              ".sk-estimator-doc-link,\n",
              "a:link.sk-estimator-doc-link,\n",
              "a:visited.sk-estimator-doc-link {\n",
              "  float: right;\n",
              "  font-size: smaller;\n",
              "  line-height: 1em;\n",
              "  font-family: monospace;\n",
              "  background-color: var(--sklearn-color-background);\n",
              "  border-radius: 1em;\n",
              "  height: 1em;\n",
              "  width: 1em;\n",
              "  text-decoration: none !important;\n",
              "  margin-left: 0.5em;\n",
              "  text-align: center;\n",
              "  /* unfitted */\n",
              "  border: var(--sklearn-color-unfitted-level-1) 1pt solid;\n",
              "  color: var(--sklearn-color-unfitted-level-1);\n",
              "}\n",
              "\n",
              ".sk-estimator-doc-link.fitted,\n",
              "a:link.sk-estimator-doc-link.fitted,\n",
              "a:visited.sk-estimator-doc-link.fitted {\n",
              "  /* fitted */\n",
              "  border: var(--sklearn-color-fitted-level-1) 1pt solid;\n",
              "  color: var(--sklearn-color-fitted-level-1);\n",
              "}\n",
              "\n",
              "/* On hover */\n",
              "div.sk-estimator:hover .sk-estimator-doc-link:hover,\n",
              ".sk-estimator-doc-link:hover,\n",
              "div.sk-label-container:hover .sk-estimator-doc-link:hover,\n",
              ".sk-estimator-doc-link:hover {\n",
              "  /* unfitted */\n",
              "  background-color: var(--sklearn-color-unfitted-level-3);\n",
              "  color: var(--sklearn-color-background);\n",
              "  text-decoration: none;\n",
              "}\n",
              "\n",
              "div.sk-estimator.fitted:hover .sk-estimator-doc-link.fitted:hover,\n",
              ".sk-estimator-doc-link.fitted:hover,\n",
              "div.sk-label-container:hover .sk-estimator-doc-link.fitted:hover,\n",
              ".sk-estimator-doc-link.fitted:hover {\n",
              "  /* fitted */\n",
              "  background-color: var(--sklearn-color-fitted-level-3);\n",
              "  color: var(--sklearn-color-background);\n",
              "  text-decoration: none;\n",
              "}\n",
              "\n",
              "/* Span, style for the box shown on hovering the info icon */\n",
              ".sk-estimator-doc-link span {\n",
              "  display: none;\n",
              "  z-index: 9999;\n",
              "  position: relative;\n",
              "  font-weight: normal;\n",
              "  right: .2ex;\n",
              "  padding: .5ex;\n",
              "  margin: .5ex;\n",
              "  width: min-content;\n",
              "  min-width: 20ex;\n",
              "  max-width: 50ex;\n",
              "  color: var(--sklearn-color-text);\n",
              "  box-shadow: 2pt 2pt 4pt #999;\n",
              "  /* unfitted */\n",
              "  background: var(--sklearn-color-unfitted-level-0);\n",
              "  border: .5pt solid var(--sklearn-color-unfitted-level-3);\n",
              "}\n",
              "\n",
              ".sk-estimator-doc-link.fitted span {\n",
              "  /* fitted */\n",
              "  background: var(--sklearn-color-fitted-level-0);\n",
              "  border: var(--sklearn-color-fitted-level-3);\n",
              "}\n",
              "\n",
              ".sk-estimator-doc-link:hover span {\n",
              "  display: block;\n",
              "}\n",
              "\n",
              "/* \"?\"-specific style due to the `<a>` HTML tag */\n",
              "\n",
              "#sk-container-id-1 a.estimator_doc_link {\n",
              "  float: right;\n",
              "  font-size: 1rem;\n",
              "  line-height: 1em;\n",
              "  font-family: monospace;\n",
              "  background-color: var(--sklearn-color-background);\n",
              "  border-radius: 1rem;\n",
              "  height: 1rem;\n",
              "  width: 1rem;\n",
              "  text-decoration: none;\n",
              "  /* unfitted */\n",
              "  color: var(--sklearn-color-unfitted-level-1);\n",
              "  border: var(--sklearn-color-unfitted-level-1) 1pt solid;\n",
              "}\n",
              "\n",
              "#sk-container-id-1 a.estimator_doc_link.fitted {\n",
              "  /* fitted */\n",
              "  border: var(--sklearn-color-fitted-level-1) 1pt solid;\n",
              "  color: var(--sklearn-color-fitted-level-1);\n",
              "}\n",
              "\n",
              "/* On hover */\n",
              "#sk-container-id-1 a.estimator_doc_link:hover {\n",
              "  /* unfitted */\n",
              "  background-color: var(--sklearn-color-unfitted-level-3);\n",
              "  color: var(--sklearn-color-background);\n",
              "  text-decoration: none;\n",
              "}\n",
              "\n",
              "#sk-container-id-1 a.estimator_doc_link.fitted:hover {\n",
              "  /* fitted */\n",
              "  background-color: var(--sklearn-color-fitted-level-3);\n",
              "}\n",
              "</style><div id=\"sk-container-id-1\" class=\"sk-top-container\"><div class=\"sk-text-repr-fallback\"><pre>LogisticRegression(max_iter=1000)</pre><b>In a Jupyter environment, please rerun this cell to show the HTML representation or trust the notebook. <br />On GitHub, the HTML representation is unable to render, please try loading this page with nbviewer.org.</b></div><div class=\"sk-container\" hidden><div class=\"sk-item\"><div class=\"sk-estimator fitted sk-toggleable\"><input class=\"sk-toggleable__control sk-hidden--visually\" id=\"sk-estimator-id-1\" type=\"checkbox\" checked><label for=\"sk-estimator-id-1\" class=\"sk-toggleable__label fitted sk-toggleable__label-arrow\"><div><div>LogisticRegression</div></div><div><a class=\"sk-estimator-doc-link fitted\" rel=\"noreferrer\" target=\"_blank\" href=\"https://scikit-learn.org/1.6/modules/generated/sklearn.linear_model.LogisticRegression.html\">?<span>Documentation for LogisticRegression</span></a><span class=\"sk-estimator-doc-link fitted\">i<span>Fitted</span></span></div></label><div class=\"sk-toggleable__content fitted\"><pre>LogisticRegression(max_iter=1000)</pre></div> </div></div></div></div>"
            ]
          },
          "metadata": {},
          "execution_count": 85
        }
      ]
    },
    {
      "cell_type": "markdown",
      "source": [
        "Evaluation for the Logistic Regression Model (Accuracy Score & the Other Performance Metrics)"
      ],
      "metadata": {
        "id": "AG9QWD5i4pva"
      }
    },
    {
      "cell_type": "code",
      "source": [
        "# Accuracy score on the training data\n",
        "\n",
        "X_train_prediction = model.predict(X_train)\n",
        "training_data_accuracy = accuracy_score( Y_train, X_train_prediction)"
      ],
      "metadata": {
        "id": "WND5J1tM14Eh"
      },
      "execution_count": null,
      "outputs": []
    },
    {
      "cell_type": "code",
      "source": [
        "print('Accuracy Score on the training data:', training_data_accuracy)"
      ],
      "metadata": {
        "colab": {
          "base_uri": "https://localhost:8080/"
        },
        "id": "xp4njxIV14Hx",
        "outputId": "86145b17-7bc7-489d-88ba-18e0ac0333ef"
      },
      "execution_count": null,
      "outputs": [
        {
          "output_type": "stream",
          "name": "stdout",
          "text": [
            "Accuracy Score on the training data: 0.88\n"
          ]
        }
      ]
    },
    {
      "cell_type": "code",
      "source": [
        "# Accuracy score on the test data\n",
        "\n",
        "X_test_prediction = model.predict(X_test)\n",
        "test_data_accuracy = accuracy_score( Y_test, X_test_prediction)"
      ],
      "metadata": {
        "id": "u8Z1mhKB14LU"
      },
      "execution_count": null,
      "outputs": []
    },
    {
      "cell_type": "code",
      "source": [
        "print('Accuracy Score on the test data:', test_data_accuracy)"
      ],
      "metadata": {
        "colab": {
          "base_uri": "https://localhost:8080/"
        },
        "id": "TtYzDjI714Ww",
        "outputId": "31df03e2-43d2-423e-c400-93448583024c"
      },
      "execution_count": null,
      "outputs": [
        {
          "output_type": "stream",
          "name": "stdout",
          "text": [
            "Accuracy Score on the test data: 0.8431372549019608\n"
          ]
        }
      ]
    },
    {
      "cell_type": "markdown",
      "source": [
        "**Model accuracy = 84.3%**"
      ],
      "metadata": {
        "id": "kSegNn0t64Nm"
      }
    },
    {
      "cell_type": "code",
      "source": [
        "from sklearn.metrics import confusion_matrix, classification_report"
      ],
      "metadata": {
        "id": "lUwm6xyC_WtM"
      },
      "execution_count": null,
      "outputs": []
    },
    {
      "cell_type": "code",
      "source": [
        "# Confusion Matrix\n",
        "\n",
        "cm = confusion_matrix(Y_test, Y_pred)\n",
        "\n",
        "plt.figure(figsize=(5,4))\n",
        "sns.heatmap(cm, annot=True, fmt=\"d\", cmap=\"Blues\", xticklabels=[\"Joy\", \"Happy\", \"Neutral\",\"Anger\", \"Sad\"], yticklabels=[\"Joy\", \"Happy\", \"Neutral\",\"Anger\", \"Sad\"])\n",
        "plt.xlabel(\"Predicted\")\n",
        "plt.ylabel(\"Actual\")\n",
        "plt.title(\"Confusion Matrix\")\n",
        "plt.show()"
      ],
      "metadata": {
        "colab": {
          "base_uri": "https://localhost:8080/",
          "height": 410
        },
        "id": "snbsBbPaAhQp",
        "outputId": "f71c4c32-5640-4ec6-b1a6-7d4916673e76"
      },
      "execution_count": null,
      "outputs": [
        {
          "output_type": "display_data",
          "data": {
            "text/plain": [
              "<Figure size 500x400 with 2 Axes>"
            ],
            "image/png": "[encoded data removed]"
          },
          "metadata": {}
        }
      ]
    },
    {
      "cell_type": "code",
      "source": [
        "# Classification Report (Precision, Recall, F1-score)\n",
        "\n",
        "print(\"\\n Classification Report:\\n\")\n",
        "print(classification_report(Y_test, Y_pred, target_names=[\"Joy\", \"Happy\", \"Neutral\",\"Anger\", \"Sad\"]))"
      ],
      "metadata": {
        "colab": {
          "base_uri": "https://localhost:8080/"
        },
        "id": "48-WdKdvAhT1",
        "outputId": "1b0219f0-1630-4ade-f60a-988169228aed"
      },
      "execution_count": null,
      "outputs": [
        {
          "output_type": "stream",
          "name": "stdout",
          "text": [
            "\n",
            " Classification Report:\n",
            "\n",
            "              precision    recall  f1-score   support\n",
            "\n",
            "         Joy       0.83      1.00      0.90       454\n",
            "       Happy       0.67      0.04      0.08        45\n",
            "     Neutral       0.68      0.35      0.47        48\n",
            "       Anger       1.00      1.00      1.00        88\n",
            "         Sad       0.00      0.00      0.00        28\n",
            "\n",
            "    accuracy                           0.84       663\n",
            "   macro avg       0.63      0.48      0.49       663\n",
            "weighted avg       0.79      0.84      0.79       663\n",
            "\n"
          ]
        },
        {
          "output_type": "stream",
          "name": "stderr",
          "text": [
            "/usr/local/lib/python3.11/dist-packages/sklearn/metrics/_classification.py:1565: UndefinedMetricWarning: Precision is ill-defined and being set to 0.0 in labels with no predicted samples. Use `zero_division` parameter to control this behavior.\n",
            "  _warn_prf(average, modifier, f\"{metric.capitalize()} is\", len(result))\n",
            "/usr/local/lib/python3.11/dist-packages/sklearn/metrics/_classification.py:1565: UndefinedMetricWarning: Precision is ill-defined and being set to 0.0 in labels with no predicted samples. Use `zero_division` parameter to control this behavior.\n",
            "  _warn_prf(average, modifier, f\"{metric.capitalize()} is\", len(result))\n",
            "/usr/local/lib/python3.11/dist-packages/sklearn/metrics/_classification.py:1565: UndefinedMetricWarning: Precision is ill-defined and being set to 0.0 in labels with no predicted samples. Use `zero_division` parameter to control this behavior.\n",
            "  _warn_prf(average, modifier, f\"{metric.capitalize()} is\", len(result))\n"
          ]
        }
      ]
    },
    {
      "cell_type": "markdown",
      "source": [
        "**Save the trained modle**"
      ],
      "metadata": {
        "id": "vwllAQqP7HIk"
      }
    },
    {
      "cell_type": "code",
      "source": [
        "import pickle"
      ],
      "metadata": {
        "id": "aWAD0yvXspob"
      },
      "execution_count": null,
      "outputs": []
    },
    {
      "cell_type": "code",
      "source": [
        "filename = 'trained_model.sav'\n",
        "pickle.dump(model, open(filename, 'wb'))"
      ],
      "metadata": {
        "id": "2aQIE8qK6pne"
      },
      "execution_count": null,
      "outputs": []
    },
    {
      "cell_type": "markdown",
      "source": [
        "**Using the saved model for future predictions**"
      ],
      "metadata": {
        "id": "H2Yjdsya86Pm"
      }
    },
    {
      "cell_type": "code",
      "source": [
        "# Loading the saved model\n",
        "\n",
        "loaded_model = pickle.load(open('trained_model.sav', 'rb'))"
      ],
      "metadata": {
        "id": "YnsE__SG6px-"
      },
      "execution_count": null,
      "outputs": []
    },
    {
      "cell_type": "code",
      "source": [
        "X_new = X_test[333]\n",
        "print(Y_test[333])\n",
        "\n",
        "prediction = model.predict(X_new)\n",
        "print(prediction)"
      ],
      "metadata": {
        "colab": {
          "base_uri": "https://localhost:8080/"
        },
        "id": "wJIJE8_Z6pui",
        "outputId": "b51e4a8c-43a2-4ef7-bd21-d9df4dc60a14"
      },
      "execution_count": null,
      "outputs": [
        {
          "output_type": "stream",
          "name": "stdout",
          "text": [
            "anger\n",
            "['anger']\n"
          ]
        }
      ]
    },
    {
      "cell_type": "code",
      "source": [
        "X_new = X_test[143]\n",
        "print(Y_test[143])\n",
        "\n",
        "prediction = model.predict(X_new)\n",
        "print(prediction)"
      ],
      "metadata": {
        "colab": {
          "base_uri": "https://localhost:8080/"
        },
        "id": "ZJyY1gQx6prX",
        "outputId": "3cf091ff-981f-4351-f6b2-3a52d2d0802e"
      },
      "execution_count": null,
      "outputs": [
        {
          "output_type": "stream",
          "name": "stdout",
          "text": [
            "anger\n",
            "['anger']\n"
          ]
        }
      ]
    },
    {
      "cell_type": "code",
      "source": [
        "X_new = X_test[666]\n",
        "print(Y_test[666])\n",
        "\n",
        "prediction = model.predict(X_new)\n",
        "print(prediction)"
      ],
      "metadata": {
        "colab": {
          "base_uri": "https://localhost:8080/",
          "height": 373
        },
        "id": "ZRBKHsIH6p1i",
        "outputId": "e0d8d306-9eaa-4ab2-fb3d-b62838ff28b0"
      },
      "execution_count": null,
      "outputs": [
        {
          "output_type": "error",
          "ename": "IndexError",
          "evalue": "row index (666) out of range",
          "traceback": [
            "\u001b[0;31m---------------------------------------------------------------------------\u001b[0m",
            "\u001b[0;31mIndexError\u001b[0m                                Traceback (most recent call last)",
            "\u001b[0;32m<ipython-input-102-fc55a1cce173>\u001b[0m in \u001b[0;36m<cell line: 0>\u001b[0;34m()\u001b[0m\n\u001b[0;32m----> 1\u001b[0;31m \u001b[0mX_new\u001b[0m \u001b[0;34m=\u001b[0m \u001b[0mX_test\u001b[0m\u001b[0;34m[\u001b[0m\u001b[0;36m666\u001b[0m\u001b[0;34m]\u001b[0m\u001b[0;34m\u001b[0m\u001b[0;34m\u001b[0m\u001b[0m\n\u001b[0m\u001b[1;32m      2\u001b[0m \u001b[0mprint\u001b[0m\u001b[0;34m(\u001b[0m\u001b[0mY_test\u001b[0m\u001b[0;34m[\u001b[0m\u001b[0;36m666\u001b[0m\u001b[0;34m]\u001b[0m\u001b[0;34m)\u001b[0m\u001b[0;34m\u001b[0m\u001b[0;34m\u001b[0m\u001b[0m\n\u001b[1;32m      3\u001b[0m \u001b[0;34m\u001b[0m\u001b[0m\n\u001b[1;32m      4\u001b[0m \u001b[0mprediction\u001b[0m \u001b[0;34m=\u001b[0m \u001b[0mmodel\u001b[0m\u001b[0;34m.\u001b[0m\u001b[0mpredict\u001b[0m\u001b[0;34m(\u001b[0m\u001b[0mX_new\u001b[0m\u001b[0;34m)\u001b[0m\u001b[0;34m\u001b[0m\u001b[0;34m\u001b[0m\u001b[0m\n\u001b[1;32m      5\u001b[0m \u001b[0mprint\u001b[0m\u001b[0;34m(\u001b[0m\u001b[0mprediction\u001b[0m\u001b[0;34m)\u001b[0m\u001b[0;34m\u001b[0m\u001b[0;34m\u001b[0m\u001b[0m\n",
            "\u001b[0;32m/usr/local/lib/python3.11/dist-packages/scipy/sparse/_index.py\u001b[0m in \u001b[0;36m__getitem__\u001b[0;34m(self, key)\u001b[0m\n\u001b[1;32m     50\u001b[0m \u001b[0;34m\u001b[0m\u001b[0m\n\u001b[1;32m     51\u001b[0m     \u001b[0;32mdef\u001b[0m \u001b[0m__getitem__\u001b[0m\u001b[0;34m(\u001b[0m\u001b[0mself\u001b[0m\u001b[0;34m,\u001b[0m \u001b[0mkey\u001b[0m\u001b[0;34m)\u001b[0m\u001b[0;34m:\u001b[0m\u001b[0;34m\u001b[0m\u001b[0;34m\u001b[0m\u001b[0m\n\u001b[0;32m---> 52\u001b[0;31m         \u001b[0mrow\u001b[0m\u001b[0;34m,\u001b[0m \u001b[0mcol\u001b[0m \u001b[0;34m=\u001b[0m \u001b[0mself\u001b[0m\u001b[0;34m.\u001b[0m\u001b[0m_validate_indices\u001b[0m\u001b[0;34m(\u001b[0m\u001b[0mkey\u001b[0m\u001b[0;34m)\u001b[0m\u001b[0;34m\u001b[0m\u001b[0;34m\u001b[0m\u001b[0m\n\u001b[0m\u001b[1;32m     53\u001b[0m \u001b[0;34m\u001b[0m\u001b[0m\n\u001b[1;32m     54\u001b[0m         \u001b[0;31m# Dispatch to specialized methods.\u001b[0m\u001b[0;34m\u001b[0m\u001b[0;34m\u001b[0m\u001b[0m\n",
            "\u001b[0;32m/usr/local/lib/python3.11/dist-packages/scipy/sparse/_index.py\u001b[0m in \u001b[0;36m_validate_indices\u001b[0;34m(self, key)\u001b[0m\n\u001b[1;32m    178\u001b[0m             \u001b[0mrow\u001b[0m \u001b[0;34m=\u001b[0m \u001b[0mint\u001b[0m\u001b[0;34m(\u001b[0m\u001b[0mrow\u001b[0m\u001b[0;34m)\u001b[0m\u001b[0;34m\u001b[0m\u001b[0;34m\u001b[0m\u001b[0m\n\u001b[1;32m    179\u001b[0m             \u001b[0;32mif\u001b[0m \u001b[0mrow\u001b[0m \u001b[0;34m<\u001b[0m \u001b[0;34m-\u001b[0m\u001b[0mM\u001b[0m \u001b[0;32mor\u001b[0m \u001b[0mrow\u001b[0m \u001b[0;34m>=\u001b[0m \u001b[0mM\u001b[0m\u001b[0;34m:\u001b[0m\u001b[0;34m\u001b[0m\u001b[0;34m\u001b[0m\u001b[0m\n\u001b[0;32m--> 180\u001b[0;31m                 \u001b[0;32mraise\u001b[0m \u001b[0mIndexError\u001b[0m\u001b[0;34m(\u001b[0m\u001b[0;34m'row index (%d) out of range'\u001b[0m \u001b[0;34m%\u001b[0m \u001b[0mrow\u001b[0m\u001b[0;34m)\u001b[0m\u001b[0;34m\u001b[0m\u001b[0;34m\u001b[0m\u001b[0m\n\u001b[0m\u001b[1;32m    181\u001b[0m             \u001b[0;32mif\u001b[0m \u001b[0mrow\u001b[0m \u001b[0;34m<\u001b[0m \u001b[0;36m0\u001b[0m\u001b[0;34m:\u001b[0m\u001b[0;34m\u001b[0m\u001b[0;34m\u001b[0m\u001b[0m\n\u001b[1;32m    182\u001b[0m                 \u001b[0mrow\u001b[0m \u001b[0;34m+=\u001b[0m \u001b[0mM\u001b[0m\u001b[0;34m\u001b[0m\u001b[0;34m\u001b[0m\u001b[0m\n",
            "\u001b[0;31mIndexError\u001b[0m: row index (666) out of range"
          ]
        }
      ]
    },
    {
      "cell_type": "code",
      "source": [
        "X_new = X_test[662]\n",
        "print(Y_test[662])\n",
        "\n",
        "prediction = model.predict(X_new)\n",
        "print(prediction)"
      ],
      "metadata": {
        "colab": {
          "base_uri": "https://localhost:8080/"
        },
        "id": "aqOg0QB--Gbr",
        "outputId": "28cb2d9d-6a39-41e5-e892-5f2f9b2f8223"
      },
      "execution_count": null,
      "outputs": [
        {
          "output_type": "stream",
          "name": "stdout",
          "text": [
            "anger\n",
            "['anger']\n"
          ]
        }
      ]
    },
    {
      "cell_type": "markdown",
      "source": [
        "## LSTM Model"
      ],
      "metadata": {
        "id": "oJDD0c_pgPol"
      }
    },
    {
      "cell_type": "code",
      "source": [
        "import numpy as np\n",
        "import pandas as pd\n",
        "from tensorflow.keras.preprocessing.text import Tokenizer\n",
        "from tensorflow.keras.preprocessing.sequence import pad_sequences\n",
        "from tensorflow.keras.utils import to_categorical\n",
        "from tensorflow.keras.models import Sequential\n",
        "from tensorflow.keras.layers import Embedding, LSTM, Dense, Dropout\n",
        "from tensorflow.keras.callbacks import EarlyStopping\n",
        "from sklearn.model_selection import train_test_split"
      ],
      "metadata": {
        "id": "H2U7r-bcgSGX"
      },
      "execution_count": 28,
      "outputs": []
    },
    {
      "cell_type": "code",
      "source": [
        "import numpy as np\n",
        "import pandas as pd\n",
        "from tensorflow.keras.utils import to_categorical\n",
        "\n",
        "# Sample DataFrame (assuming 'feeling' contains text labels)\n",
        "data = pd.DataFrame({'feeling': ['joy', 'happy', 'sad', 'anger', 'fear', np.nan, 'joy']})\n",
        "\n",
        "# Define label mapping\n",
        "label_mapping = {\n",
        "    'joy': 0,\n",
        "    'happy': 1,\n",
        "    'sad': 2,\n",
        "    'anger': 3,\n",
        "    'fear': 4\n",
        "}\n",
        "\n",
        "# Replace text labels with corresponding integers\n",
        "data['feeling'] = data['feeling'].map(label_mapping)\n",
        "\n",
        "# Handle NaN values by assigning them to a default class (e.g., 'sad' -> 2)\n",
        "data['feeling'] = data['feeling'].fillna(2).astype(int)  # Default to 'sad' (2)\n",
        "\n",
        "# Verify the unique values to ensure correctness\n",
        "print(\"Unique values in 'feeling':\", data['feeling'].unique())\n",
        "\n",
        "# One-hot encode the labels\n",
        "num_classes = 5\n",
        "Y = to_categorical(data['feeling'], num_classes=num_classes)\n",
        "\n",
        "# Verify the output\n",
        "print(\"One-hot encoded labels:\\n\", Y[:5])"
      ],
      "metadata": {
        "colab": {
          "base_uri": "https://localhost:8080/"
        },
        "id": "uynhw9QoqmYj",
        "outputId": "ca767077-ea71-461b-ba05-cf7e64a7dc52"
      },
      "execution_count": 42,
      "outputs": [
        {
          "output_type": "stream",
          "name": "stdout",
          "text": [
            "Unique values in 'feeling': [0 1 2 3 4]\n",
            "One-hot encoded labels:\n",
            " [[1. 0. 0. 0. 0.]\n",
            " [0. 1. 0. 0. 0.]\n",
            " [0. 0. 1. 0. 0.]\n",
            " [0. 0. 0. 1. 0.]\n",
            " [0. 0. 0. 0. 1.]]\n"
          ]
        }
      ]
    },
    {
      "cell_type": "code",
      "source": [
        "num_classes = 5\n",
        "Y = to_categorical(data['feeling'], num_classes=num_classes)"
      ],
      "metadata": {
        "id": "Kg6mJht6gSRS"
      },
      "execution_count": 43,
      "outputs": []
    },
    {
      "cell_type": "code",
      "source": [
        "print(data.columns)"
      ],
      "metadata": {
        "colab": {
          "base_uri": "https://localhost:8080/"
        },
        "id": "M2YoBU5jtd7A",
        "outputId": "1031ffd2-da6a-408f-e3c7-279b236ae8e8"
      },
      "execution_count": 45,
      "outputs": [
        {
          "output_type": "stream",
          "name": "stdout",
          "text": [
            "Index(['feeling'], dtype='object')\n"
          ]
        }
      ]
    },
    {
      "cell_type": "code",
      "source": [
        "print(data.head())\n",
        "print(data.shape)"
      ],
      "metadata": {
        "colab": {
          "base_uri": "https://localhost:8080/"
        },
        "id": "lmN99w8vtqvG",
        "outputId": "8977fe2a-6c05-48c5-f2a3-a884b3e5bf30"
      },
      "execution_count": 47,
      "outputs": [
        {
          "output_type": "stream",
          "name": "stdout",
          "text": [
            "   feeling\n",
            "0        0\n",
            "1        1\n",
            "2        2\n",
            "3        3\n",
            "4        4\n",
            "(7, 1)\n"
          ]
        }
      ]
    },
    {
      "cell_type": "code",
      "source": [
        "import pandas as pd\n",
        "\n",
        "data = pd.read_csv(\"/content/reviews1.csv\")\n",
        "print(data.columns)"
      ],
      "metadata": {
        "colab": {
          "base_uri": "https://localhost:8080/"
        },
        "id": "pu9mX7Iit5py",
        "outputId": "25cd881b-7f83-4ff5-8be7-9a0b875a491c"
      },
      "execution_count": 48,
      "outputs": [
        {
          "output_type": "stream",
          "name": "stdout",
          "text": [
            "Index(['Username', 'Total reviews', 'Location', 'Date', 'Review', 'Rating',\n",
            "       'feeling'],\n",
            "      dtype='object')\n"
          ]
        }
      ]
    },
    {
      "cell_type": "code",
      "source": [
        "tokenizer = Tokenizer(oov_token='<OOV>')\n",
        "tokenizer.fit_on_texts(data['Review'])\n",
        "sequences = tokenizer.texts_to_sequences(data['Review'])\n",
        "padded_sequences = pad_sequences(sequences, maxlen=100, padding='post', truncating='post')"
      ],
      "metadata": {
        "id": "adIpWm3_uESx"
      },
      "execution_count": 50,
      "outputs": []
    },
    {
      "cell_type": "code",
      "source": [
        "X_train, X_test, Y_train, Y_test = train_test_split(padded_sequences, Y, test_size=0.2, random_state=42)"
      ],
      "metadata": {
        "id": "DMqlGYpOgSY_",
        "colab": {
          "base_uri": "https://localhost:8080/",
          "height": 287
        },
        "outputId": "5ef9833e-c047-4725-83bf-00a8015868d6"
      },
      "execution_count": 51,
      "outputs": [
        {
          "output_type": "error",
          "ename": "ValueError",
          "evalue": "Found input variables with inconsistent numbers of samples: [2880, 7]",
          "traceback": [
            "\u001b[0;31m---------------------------------------------------------------------------\u001b[0m",
            "\u001b[0;31mValueError\u001b[0m                                Traceback (most recent call last)",
            "\u001b[0;32m<ipython-input-51-6aab75f5a7f7>\u001b[0m in \u001b[0;36m<cell line: 0>\u001b[0;34m()\u001b[0m\n\u001b[0;32m----> 1\u001b[0;31m \u001b[0mX_train\u001b[0m\u001b[0;34m,\u001b[0m \u001b[0mX_test\u001b[0m\u001b[0;34m,\u001b[0m \u001b[0mY_train\u001b[0m\u001b[0;34m,\u001b[0m \u001b[0mY_test\u001b[0m \u001b[0;34m=\u001b[0m \u001b[0mtrain_test_split\u001b[0m\u001b[0;34m(\u001b[0m\u001b[0mpadded_sequences\u001b[0m\u001b[0;34m,\u001b[0m \u001b[0mY\u001b[0m\u001b[0;34m,\u001b[0m \u001b[0mtest_size\u001b[0m\u001b[0;34m=\u001b[0m\u001b[0;36m0.2\u001b[0m\u001b[0;34m,\u001b[0m \u001b[0mrandom_state\u001b[0m\u001b[0;34m=\u001b[0m\u001b[0;36m42\u001b[0m\u001b[0;34m)\u001b[0m\u001b[0;34m\u001b[0m\u001b[0;34m\u001b[0m\u001b[0m\n\u001b[0m",
            "\u001b[0;32m/usr/local/lib/python3.11/dist-packages/sklearn/utils/_param_validation.py\u001b[0m in \u001b[0;36mwrapper\u001b[0;34m(*args, **kwargs)\u001b[0m\n\u001b[1;32m    214\u001b[0m                     )\n\u001b[1;32m    215\u001b[0m                 ):\n\u001b[0;32m--> 216\u001b[0;31m                     \u001b[0;32mreturn\u001b[0m \u001b[0mfunc\u001b[0m\u001b[0;34m(\u001b[0m\u001b[0;34m*\u001b[0m\u001b[0margs\u001b[0m\u001b[0;34m,\u001b[0m \u001b[0;34m**\u001b[0m\u001b[0mkwargs\u001b[0m\u001b[0;34m)\u001b[0m\u001b[0;34m\u001b[0m\u001b[0;34m\u001b[0m\u001b[0m\n\u001b[0m\u001b[1;32m    217\u001b[0m             \u001b[0;32mexcept\u001b[0m \u001b[0mInvalidParameterError\u001b[0m \u001b[0;32mas\u001b[0m \u001b[0me\u001b[0m\u001b[0;34m:\u001b[0m\u001b[0;34m\u001b[0m\u001b[0;34m\u001b[0m\u001b[0m\n\u001b[1;32m    218\u001b[0m                 \u001b[0;31m# When the function is just a wrapper around an estimator, we allow\u001b[0m\u001b[0;34m\u001b[0m\u001b[0;34m\u001b[0m\u001b[0m\n",
            "\u001b[0;32m/usr/local/lib/python3.11/dist-packages/sklearn/model_selection/_split.py\u001b[0m in \u001b[0;36mtrain_test_split\u001b[0;34m(test_size, train_size, random_state, shuffle, stratify, *arrays)\u001b[0m\n\u001b[1;32m   2846\u001b[0m         \u001b[0;32mraise\u001b[0m \u001b[0mValueError\u001b[0m\u001b[0;34m(\u001b[0m\u001b[0;34m\"At least one array required as input\"\u001b[0m\u001b[0;34m)\u001b[0m\u001b[0;34m\u001b[0m\u001b[0;34m\u001b[0m\u001b[0m\n\u001b[1;32m   2847\u001b[0m \u001b[0;34m\u001b[0m\u001b[0m\n\u001b[0;32m-> 2848\u001b[0;31m     \u001b[0marrays\u001b[0m \u001b[0;34m=\u001b[0m \u001b[0mindexable\u001b[0m\u001b[0;34m(\u001b[0m\u001b[0;34m*\u001b[0m\u001b[0marrays\u001b[0m\u001b[0;34m)\u001b[0m\u001b[0;34m\u001b[0m\u001b[0;34m\u001b[0m\u001b[0m\n\u001b[0m\u001b[1;32m   2849\u001b[0m \u001b[0;34m\u001b[0m\u001b[0m\n\u001b[1;32m   2850\u001b[0m     \u001b[0mn_samples\u001b[0m \u001b[0;34m=\u001b[0m \u001b[0m_num_samples\u001b[0m\u001b[0;34m(\u001b[0m\u001b[0marrays\u001b[0m\u001b[0;34m[\u001b[0m\u001b[0;36m0\u001b[0m\u001b[0;34m]\u001b[0m\u001b[0;34m)\u001b[0m\u001b[0;34m\u001b[0m\u001b[0;34m\u001b[0m\u001b[0m\n",
            "\u001b[0;32m/usr/local/lib/python3.11/dist-packages/sklearn/utils/validation.py\u001b[0m in \u001b[0;36mindexable\u001b[0;34m(*iterables)\u001b[0m\n\u001b[1;32m    530\u001b[0m \u001b[0;34m\u001b[0m\u001b[0m\n\u001b[1;32m    531\u001b[0m     \u001b[0mresult\u001b[0m \u001b[0;34m=\u001b[0m \u001b[0;34m[\u001b[0m\u001b[0m_make_indexable\u001b[0m\u001b[0;34m(\u001b[0m\u001b[0mX\u001b[0m\u001b[0;34m)\u001b[0m \u001b[0;32mfor\u001b[0m \u001b[0mX\u001b[0m \u001b[0;32min\u001b[0m \u001b[0miterables\u001b[0m\u001b[0;34m]\u001b[0m\u001b[0;34m\u001b[0m\u001b[0;34m\u001b[0m\u001b[0m\n\u001b[0;32m--> 532\u001b[0;31m     \u001b[0mcheck_consistent_length\u001b[0m\u001b[0;34m(\u001b[0m\u001b[0;34m*\u001b[0m\u001b[0mresult\u001b[0m\u001b[0;34m)\u001b[0m\u001b[0;34m\u001b[0m\u001b[0;34m\u001b[0m\u001b[0m\n\u001b[0m\u001b[1;32m    533\u001b[0m     \u001b[0;32mreturn\u001b[0m \u001b[0mresult\u001b[0m\u001b[0;34m\u001b[0m\u001b[0;34m\u001b[0m\u001b[0m\n\u001b[1;32m    534\u001b[0m \u001b[0;34m\u001b[0m\u001b[0m\n",
            "\u001b[0;32m/usr/local/lib/python3.11/dist-packages/sklearn/utils/validation.py\u001b[0m in \u001b[0;36mcheck_consistent_length\u001b[0;34m(*arrays)\u001b[0m\n\u001b[1;32m    473\u001b[0m     \u001b[0muniques\u001b[0m \u001b[0;34m=\u001b[0m \u001b[0mnp\u001b[0m\u001b[0;34m.\u001b[0m\u001b[0munique\u001b[0m\u001b[0;34m(\u001b[0m\u001b[0mlengths\u001b[0m\u001b[0;34m)\u001b[0m\u001b[0;34m\u001b[0m\u001b[0;34m\u001b[0m\u001b[0m\n\u001b[1;32m    474\u001b[0m     \u001b[0;32mif\u001b[0m \u001b[0mlen\u001b[0m\u001b[0;34m(\u001b[0m\u001b[0muniques\u001b[0m\u001b[0;34m)\u001b[0m \u001b[0;34m>\u001b[0m \u001b[0;36m1\u001b[0m\u001b[0;34m:\u001b[0m\u001b[0;34m\u001b[0m\u001b[0;34m\u001b[0m\u001b[0m\n\u001b[0;32m--> 475\u001b[0;31m         raise ValueError(\n\u001b[0m\u001b[1;32m    476\u001b[0m             \u001b[0;34m\"Found input variables with inconsistent numbers of samples: %r\"\u001b[0m\u001b[0;34m\u001b[0m\u001b[0;34m\u001b[0m\u001b[0m\n\u001b[1;32m    477\u001b[0m             \u001b[0;34m%\u001b[0m \u001b[0;34m[\u001b[0m\u001b[0mint\u001b[0m\u001b[0;34m(\u001b[0m\u001b[0ml\u001b[0m\u001b[0;34m)\u001b[0m \u001b[0;32mfor\u001b[0m \u001b[0ml\u001b[0m \u001b[0;32min\u001b[0m \u001b[0mlengths\u001b[0m\u001b[0;34m]\u001b[0m\u001b[0;34m\u001b[0m\u001b[0;34m\u001b[0m\u001b[0m\n",
            "\u001b[0;31mValueError\u001b[0m: Found input variables with inconsistent numbers of samples: [2880, 7]"
          ]
        }
      ]
    },
    {
      "cell_type": "code",
      "source": [
        "print(\"Padded sequences shape:\", padded_sequences.shape)  # Should be (num_samples, maxlen)\n",
        "print(\"Labels (Y) shape:\", Y.shape)  # Should be (num_samples, num_classes)\n",
        "print(\"Dataset shape:\", data.shape)  # Should match the number of rows"
      ],
      "metadata": {
        "colab": {
          "base_uri": "https://localhost:8080/"
        },
        "id": "_tprr0GZuocd",
        "outputId": "f214d045-ed19-4ead-9ce7-604c70f606da"
      },
      "execution_count": 52,
      "outputs": [
        {
          "output_type": "stream",
          "name": "stdout",
          "text": [
            "Padded sequences shape: (2880, 100)\n",
            "Labels (Y) shape: (7, 5)\n",
            "Dataset shape: (2880, 7)\n"
          ]
        }
      ]
    },
    {
      "cell_type": "code",
      "source": [
        "print(\"Feeling column shape:\", data['feeling'].shape)\n",
        "print(data['feeling'].head())  # Check first few values"
      ],
      "metadata": {
        "colab": {
          "base_uri": "https://localhost:8080/"
        },
        "id": "3GZji_3cu168",
        "outputId": "f552ab5a-e4e6-45bb-9596-4bab8e4b2a75"
      },
      "execution_count": 53,
      "outputs": [
        {
          "output_type": "stream",
          "name": "stdout",
          "text": [
            "Feeling column shape: (2880,)\n",
            "0    anger\n",
            "1    anger\n",
            "2    anger\n",
            "3    anger\n",
            "4    anger\n",
            "Name: feeling, dtype: object\n"
          ]
        }
      ]
    },
    {
      "cell_type": "code",
      "source": [
        "feeling_to_label = {'anger': 0, 'sad': 1, 'joy': 2, 'happy': 3, 'surprise': 4}\n",
        "data['feeling'] = data['feeling'].map(feeling_to_label)\n",
        "\n",
        "print(data['feeling'].head())"
      ],
      "metadata": {
        "colab": {
          "base_uri": "https://localhost:8080/"
        },
        "id": "754UFxTrvGYj",
        "outputId": "def0311c-99a1-491b-8b0a-afb0be45cfd6"
      },
      "execution_count": 54,
      "outputs": [
        {
          "output_type": "stream",
          "name": "stdout",
          "text": [
            "0    0\n",
            "1    0\n",
            "2    0\n",
            "3    0\n",
            "4    0\n",
            "Name: feeling, dtype: int64\n"
          ]
        }
      ]
    },
    {
      "cell_type": "code",
      "source": [
        "Y = to_categorical(data['feeling'], num_classes=num_classes)\n",
        "\n",
        "print(\"Updated Labels (Y) shape:\", Y.shape)"
      ],
      "metadata": {
        "colab": {
          "base_uri": "https://localhost:8080/"
        },
        "id": "coOLY3yTvJgD",
        "outputId": "ab6d79a1-1929-4c26-fc86-2bd767babb95"
      },
      "execution_count": 55,
      "outputs": [
        {
          "output_type": "stream",
          "name": "stdout",
          "text": [
            "Updated Labels (Y) shape: (2880, 5)\n"
          ]
        }
      ]
    },
    {
      "cell_type": "code",
      "source": [
        "X_train, X_test, Y_train, Y_test = train_test_split(padded_sequences, Y, test_size=0.2, random_state=42)"
      ],
      "metadata": {
        "id": "YN-7bq_3vQhC"
      },
      "execution_count": 57,
      "outputs": []
    },
    {
      "cell_type": "code",
      "source": [
        "model = Sequential([\n",
        "    Embedding(input_dim=len(tokenizer.word_index) + 1, output_dim=16, input_length=100),\n",
        "    LSTM(64, return_sequences=True),\n",
        "    Dropout(0.2),\n",
        "    LSTM(32),\n",
        "    Dense(16, activation='relu'),\n",
        "    Dense(num_classes, activation='softmax')  # Multi-class classification\n",
        "])"
      ],
      "metadata": {
        "id": "Bb3bZSxdiIMh",
        "colab": {
          "base_uri": "https://localhost:8080/"
        },
        "outputId": "c65ce2b0-0266-4fd0-b2a8-3849029bac07"
      },
      "execution_count": 58,
      "outputs": [
        {
          "output_type": "stream",
          "name": "stderr",
          "text": [
            "/usr/local/lib/python3.11/dist-packages/keras/src/layers/core/embedding.py:90: UserWarning: Argument `input_length` is deprecated. Just remove it.\n",
            "  warnings.warn(\n"
          ]
        }
      ]
    },
    {
      "cell_type": "code",
      "source": [
        "model.compile(optimizer='adam', loss='categorical_crossentropy', metrics=['accuracy'])"
      ],
      "metadata": {
        "id": "GsqapceoiIVL"
      },
      "execution_count": 59,
      "outputs": []
    },
    {
      "cell_type": "code",
      "source": [
        "early_stopping = EarlyStopping(monitor='val_loss', patience=3, restore_best_weights=True)"
      ],
      "metadata": {
        "id": "HNuJkHZwiIX_"
      },
      "execution_count": 60,
      "outputs": []
    },
    {
      "cell_type": "code",
      "source": [
        "history = model.fit(X_train, Y_train, epochs=20, validation_data=(X_test, Y_test), callbacks=[early_stopping])"
      ],
      "metadata": {
        "id": "5-6vukNaiIaF",
        "colab": {
          "base_uri": "https://localhost:8080/"
        },
        "outputId": "8dd57953-8230-4c13-bc6a-36d19bbfe065"
      },
      "execution_count": 62,
      "outputs": [
        {
          "output_type": "stream",
          "name": "stdout",
          "text": [
            "Epoch 1/20\n",
            "\u001b[1m72/72\u001b[0m \u001b[32m━━━━━━━━━━━━━━━━━━━━\u001b[0m\u001b[37m\u001b[0m \u001b[1m14s\u001b[0m 119ms/step - accuracy: 0.7608 - loss: 1.1229 - val_accuracy: 0.7951 - val_loss: 0.7386\n",
            "Epoch 2/20\n",
            "\u001b[1m72/72\u001b[0m \u001b[32m━━━━━━━━━━━━━━━━━━━━\u001b[0m\u001b[37m\u001b[0m \u001b[1m10s\u001b[0m 117ms/step - accuracy: 0.8061 - loss: 0.7087 - val_accuracy: 0.7951 - val_loss: 0.7304\n",
            "Epoch 3/20\n",
            "\u001b[1m72/72\u001b[0m \u001b[32m━━━━━━━━━━━━━━━━━━━━\u001b[0m\u001b[37m\u001b[0m \u001b[1m9s\u001b[0m 95ms/step - accuracy: 0.8023 - loss: 0.7075 - val_accuracy: 0.7951 - val_loss: 0.6991\n",
            "Epoch 4/20\n",
            "\u001b[1m72/72\u001b[0m \u001b[32m━━━━━━━━━━━━━━━━━━━━\u001b[0m\u001b[37m\u001b[0m \u001b[1m10s\u001b[0m 90ms/step - accuracy: 0.7986 - loss: 0.7039 - val_accuracy: 0.7951 - val_loss: 0.6843\n",
            "Epoch 5/20\n",
            "\u001b[1m72/72\u001b[0m \u001b[32m━━━━━━━━━━━━━━━━━━━━\u001b[0m\u001b[37m\u001b[0m \u001b[1m11s\u001b[0m 95ms/step - accuracy: 0.8126 - loss: 0.6485 - val_accuracy: 0.7951 - val_loss: 0.6852\n",
            "Epoch 6/20\n",
            "\u001b[1m72/72\u001b[0m \u001b[32m━━━━━━━━━━━━━━━━━━━━\u001b[0m\u001b[37m\u001b[0m \u001b[1m11s\u001b[0m 108ms/step - accuracy: 0.8134 - loss: 0.6412 - val_accuracy: 0.7951 - val_loss: 0.6884\n",
            "Epoch 7/20\n",
            "\u001b[1m72/72\u001b[0m \u001b[32m━━━━━━━━━━━━━━━━━━━━\u001b[0m\u001b[37m\u001b[0m \u001b[1m10s\u001b[0m 109ms/step - accuracy: 0.8004 - loss: 0.6747 - val_accuracy: 0.7951 - val_loss: 0.6978\n"
          ]
        }
      ]
    },
    {
      "cell_type": "code",
      "source": [
        "model.summary()"
      ],
      "metadata": {
        "id": "lPopk_05iOod",
        "colab": {
          "base_uri": "https://localhost:8080/",
          "height": 337
        },
        "outputId": "4c3b35bb-c7ef-40ae-81ce-bc338d157edf"
      },
      "execution_count": 63,
      "outputs": [
        {
          "output_type": "display_data",
          "data": {
            "text/plain": [
              "\u001b[1mModel: \"sequential\"\u001b[0m\n"
            ],
            "text/html": [
              "<pre style=\"white-space:pre;overflow-x:auto;line-height:normal;font-family:Menlo,'DejaVu Sans Mono',consolas,'Courier New',monospace\"><span style=\"font-weight: bold\">Model: \"sequential\"</span>\n",
              "</pre>\n"
            ]
          },
          "metadata": {}
        },
        {
          "output_type": "display_data",
          "data": {
            "text/plain": [
              "┏━━━━━━━━━━━━━━━━━━━━━━━━━━━━━━━━━━━━━━┳━━━━━━━━━━━━━━━━━━━━━━━━━━━━━┳━━━━━━━━━━━━━━━━━┓\n",
              "┃\u001b[1m \u001b[0m\u001b[1mLayer (type)                        \u001b[0m\u001b[1m \u001b[0m┃\u001b[1m \u001b[0m\u001b[1mOutput Shape               \u001b[0m\u001b[1m \u001b[0m┃\u001b[1m \u001b[0m\u001b[1m        Param #\u001b[0m\u001b[1m \u001b[0m┃\n",
              "┡━━━━━━━━━━━━━━━━━━━━━━━━━━━━━━━━━━━━━━╇━━━━━━━━━━━━━━━━━━━━━━━━━━━━━╇━━━━━━━━━━━━━━━━━┩\n",
              "│ embedding (\u001b[38;5;33mEmbedding\u001b[0m)                │ (\u001b[38;5;34m32\u001b[0m, \u001b[38;5;34m100\u001b[0m, \u001b[38;5;34m16\u001b[0m)               │         \u001b[38;5;34m255,600\u001b[0m │\n",
              "├──────────────────────────────────────┼─────────────────────────────┼─────────────────┤\n",
              "│ lstm (\u001b[38;5;33mLSTM\u001b[0m)                          │ (\u001b[38;5;34m32\u001b[0m, \u001b[38;5;34m100\u001b[0m, \u001b[38;5;34m64\u001b[0m)               │          \u001b[38;5;34m20,736\u001b[0m │\n",
              "├──────────────────────────────────────┼─────────────────────────────┼─────────────────┤\n",
              "│ dropout (\u001b[38;5;33mDropout\u001b[0m)                    │ (\u001b[38;5;34m32\u001b[0m, \u001b[38;5;34m100\u001b[0m, \u001b[38;5;34m64\u001b[0m)               │               \u001b[38;5;34m0\u001b[0m │\n",
              "├──────────────────────────────────────┼─────────────────────────────┼─────────────────┤\n",
              "│ lstm_1 (\u001b[38;5;33mLSTM\u001b[0m)                        │ (\u001b[38;5;34m32\u001b[0m, \u001b[38;5;34m32\u001b[0m)                    │          \u001b[38;5;34m12,416\u001b[0m │\n",
              "├──────────────────────────────────────┼─────────────────────────────┼─────────────────┤\n",
              "│ dense (\u001b[38;5;33mDense\u001b[0m)                        │ (\u001b[38;5;34m32\u001b[0m, \u001b[38;5;34m16\u001b[0m)                    │             \u001b[38;5;34m528\u001b[0m │\n",
              "├──────────────────────────────────────┼─────────────────────────────┼─────────────────┤\n",
              "│ dense_1 (\u001b[38;5;33mDense\u001b[0m)                      │ (\u001b[38;5;34m32\u001b[0m, \u001b[38;5;34m5\u001b[0m)                     │              \u001b[38;5;34m85\u001b[0m │\n",
              "└──────────────────────────────────────┴─────────────────────────────┴─────────────────┘\n"
            ],
            "text/html": [
              "<pre style=\"white-space:pre;overflow-x:auto;line-height:normal;font-family:Menlo,'DejaVu Sans Mono',consolas,'Courier New',monospace\">┏━━━━━━━━━━━━━━━━━━━━━━━━━━━━━━━━━━━━━━┳━━━━━━━━━━━━━━━━━━━━━━━━━━━━━┳━━━━━━━━━━━━━━━━━┓\n",
              "┃<span style=\"font-weight: bold\"> Layer (type)                         </span>┃<span style=\"font-weight: bold\"> Output Shape                </span>┃<span style=\"font-weight: bold\">         Param # </span>┃\n",
              "┡━━━━━━━━━━━━━━━━━━━━━━━━━━━━━━━━━━━━━━╇━━━━━━━━━━━━━━━━━━━━━━━━━━━━━╇━━━━━━━━━━━━━━━━━┩\n",
              "│ embedding (<span style=\"color: #0087ff; text-decoration-color: #0087ff\">Embedding</span>)                │ (<span style=\"color: #00af00; text-decoration-color: #00af00\">32</span>, <span style=\"color: #00af00; text-decoration-color: #00af00\">100</span>, <span style=\"color: #00af00; text-decoration-color: #00af00\">16</span>)               │         <span style=\"color: #00af00; text-decoration-color: #00af00\">255,600</span> │\n",
              "├──────────────────────────────────────┼─────────────────────────────┼─────────────────┤\n",
              "│ lstm (<span style=\"color: #0087ff; text-decoration-color: #0087ff\">LSTM</span>)                          │ (<span style=\"color: #00af00; text-decoration-color: #00af00\">32</span>, <span style=\"color: #00af00; text-decoration-color: #00af00\">100</span>, <span style=\"color: #00af00; text-decoration-color: #00af00\">64</span>)               │          <span style=\"color: #00af00; text-decoration-color: #00af00\">20,736</span> │\n",
              "├──────────────────────────────────────┼─────────────────────────────┼─────────────────┤\n",
              "│ dropout (<span style=\"color: #0087ff; text-decoration-color: #0087ff\">Dropout</span>)                    │ (<span style=\"color: #00af00; text-decoration-color: #00af00\">32</span>, <span style=\"color: #00af00; text-decoration-color: #00af00\">100</span>, <span style=\"color: #00af00; text-decoration-color: #00af00\">64</span>)               │               <span style=\"color: #00af00; text-decoration-color: #00af00\">0</span> │\n",
              "├──────────────────────────────────────┼─────────────────────────────┼─────────────────┤\n",
              "│ lstm_1 (<span style=\"color: #0087ff; text-decoration-color: #0087ff\">LSTM</span>)                        │ (<span style=\"color: #00af00; text-decoration-color: #00af00\">32</span>, <span style=\"color: #00af00; text-decoration-color: #00af00\">32</span>)                    │          <span style=\"color: #00af00; text-decoration-color: #00af00\">12,416</span> │\n",
              "├──────────────────────────────────────┼─────────────────────────────┼─────────────────┤\n",
              "│ dense (<span style=\"color: #0087ff; text-decoration-color: #0087ff\">Dense</span>)                        │ (<span style=\"color: #00af00; text-decoration-color: #00af00\">32</span>, <span style=\"color: #00af00; text-decoration-color: #00af00\">16</span>)                    │             <span style=\"color: #00af00; text-decoration-color: #00af00\">528</span> │\n",
              "├──────────────────────────────────────┼─────────────────────────────┼─────────────────┤\n",
              "│ dense_1 (<span style=\"color: #0087ff; text-decoration-color: #0087ff\">Dense</span>)                      │ (<span style=\"color: #00af00; text-decoration-color: #00af00\">32</span>, <span style=\"color: #00af00; text-decoration-color: #00af00\">5</span>)                     │              <span style=\"color: #00af00; text-decoration-color: #00af00\">85</span> │\n",
              "└──────────────────────────────────────┴─────────────────────────────┴─────────────────┘\n",
              "</pre>\n"
            ]
          },
          "metadata": {}
        },
        {
          "output_type": "display_data",
          "data": {
            "text/plain": [
              "\u001b[1m Total params: \u001b[0m\u001b[38;5;34m868,097\u001b[0m (3.31 MB)\n"
            ],
            "text/html": [
              "<pre style=\"white-space:pre;overflow-x:auto;line-height:normal;font-family:Menlo,'DejaVu Sans Mono',consolas,'Courier New',monospace\"><span style=\"font-weight: bold\"> Total params: </span><span style=\"color: #00af00; text-decoration-color: #00af00\">868,097</span> (3.31 MB)\n",
              "</pre>\n"
            ]
          },
          "metadata": {}
        },
        {
          "output_type": "display_data",
          "data": {
            "text/plain": [
              "\u001b[1m Trainable params: \u001b[0m\u001b[38;5;34m289,365\u001b[0m (1.10 MB)\n"
            ],
            "text/html": [
              "<pre style=\"white-space:pre;overflow-x:auto;line-height:normal;font-family:Menlo,'DejaVu Sans Mono',consolas,'Courier New',monospace\"><span style=\"font-weight: bold\"> Trainable params: </span><span style=\"color: #00af00; text-decoration-color: #00af00\">289,365</span> (1.10 MB)\n",
              "</pre>\n"
            ]
          },
          "metadata": {}
        },
        {
          "output_type": "display_data",
          "data": {
            "text/plain": [
              "\u001b[1m Non-trainable params: \u001b[0m\u001b[38;5;34m0\u001b[0m (0.00 B)\n"
            ],
            "text/html": [
              "<pre style=\"white-space:pre;overflow-x:auto;line-height:normal;font-family:Menlo,'DejaVu Sans Mono',consolas,'Courier New',monospace\"><span style=\"font-weight: bold\"> Non-trainable params: </span><span style=\"color: #00af00; text-decoration-color: #00af00\">0</span> (0.00 B)\n",
              "</pre>\n"
            ]
          },
          "metadata": {}
        },
        {
          "output_type": "display_data",
          "data": {
            "text/plain": [
              "\u001b[1m Optimizer params: \u001b[0m\u001b[38;5;34m578,732\u001b[0m (2.21 MB)\n"
            ],
            "text/html": [
              "<pre style=\"white-space:pre;overflow-x:auto;line-height:normal;font-family:Menlo,'DejaVu Sans Mono',consolas,'Courier New',monospace\"><span style=\"font-weight: bold\"> Optimizer params: </span><span style=\"color: #00af00; text-decoration-color: #00af00\">578,732</span> (2.21 MB)\n",
              "</pre>\n"
            ]
          },
          "metadata": {}
        }
      ]
    },
    {
      "cell_type": "markdown",
      "source": [
        "**Performance Metrics**"
      ],
      "metadata": {
        "id": "epxR04hn1jNK"
      }
    },
    {
      "cell_type": "code",
      "source": [
        "import matplotlib.pyplot as plt\n",
        "\n",
        "# Accuracy\n",
        "\n",
        "plt.plot(history.history['accuracy'], label='Train Accuracy')\n",
        "plt.plot(history.history['val_accuracy'], label='Validation Accuracy')\n",
        "plt.xlabel('Epochs')\n",
        "plt.ylabel('Accuracy')\n",
        "plt.legend()\n",
        "plt.title('Training and Validation Accuracy')\n",
        "plt.show()"
      ],
      "metadata": {
        "colab": {
          "base_uri": "https://localhost:8080/",
          "height": 472
        },
        "id": "2rk6OxNQwmW0",
        "outputId": "ea10ef03-a1eb-40db-db83-989e5aaa8e48"
      },
      "execution_count": 66,
      "outputs": [
        {
          "output_type": "display_data",
          "data": {
            "text/plain": [
              "<Figure size 640x480 with 1 Axes>"
            ],
            "image/png": "[encoded data removed]"
          },
          "metadata": {}
        }
      ]
    },
    {
      "cell_type": "code",
      "source": [
        "test_loss, test_accuracy = model.evaluate(X_test, Y_test)\n",
        "print(f\"Test Loss: {test_loss:.4f}\")\n",
        "print(f\"Test Accuracy: {test_accuracy:.4f}\")"
      ],
      "metadata": {
        "colab": {
          "base_uri": "https://localhost:8080/"
        },
        "id": "7qENizKTwmZr",
        "outputId": "ffbbdac4-024a-4f22-9022-3797d4a8dd6e"
      },
      "execution_count": 68,
      "outputs": [
        {
          "output_type": "stream",
          "name": "stdout",
          "text": [
            "\u001b[1m18/18\u001b[0m \u001b[32m━━━━━━━━━━━━━━━━━━━━\u001b[0m\u001b[37m\u001b[0m \u001b[1m1s\u001b[0m 31ms/step - accuracy: 0.8128 - loss: 0.6470\n",
            "Test Loss: 0.6843\n",
            "Test Accuracy: 0.7951\n"
          ]
        }
      ]
    },
    {
      "cell_type": "code",
      "source": [
        "from sklearn.metrics import confusion_matrix, classification_report\n",
        "import numpy as np\n",
        "\n",
        "predictions = model.predict(X_test)\n",
        "\n",
        "predicted_classes = np.argmax(predictions, axis=1)\n",
        "\n",
        "true_classes = np.argmax(Y_test, axis=1)"
      ],
      "metadata": {
        "colab": {
          "base_uri": "https://localhost:8080/"
        },
        "id": "dmP0HpT61er0",
        "outputId": "0e4701e6-6cc7-4b3e-ee20-77c0ca6ab5aa"
      },
      "execution_count": 70,
      "outputs": [
        {
          "output_type": "stream",
          "name": "stdout",
          "text": [
            "\u001b[1m18/18\u001b[0m \u001b[32m━━━━━━━━━━━━━━━━━━━━\u001b[0m\u001b[37m\u001b[0m \u001b[1m1s\u001b[0m 29ms/step\n"
          ]
        }
      ]
    },
    {
      "cell_type": "code",
      "source": [
        "# Confusion matrix\n",
        "\n",
        "cm = confusion_matrix(true_classes, predicted_classes)\n",
        "\n",
        "print(\"Confusion Matrix:\")\n",
        "print(cm)"
      ],
      "metadata": {
        "colab": {
          "base_uri": "https://localhost:8080/"
        },
        "id": "GfuU5roOwmcM",
        "outputId": "a8c3b798-128d-405e-bb6d-14c2e426f76a"
      },
      "execution_count": 71,
      "outputs": [
        {
          "output_type": "stream",
          "name": "stdout",
          "text": [
            "Confusion Matrix:\n",
            "[[458   0   0   0]\n",
            " [ 30   0   0   0]\n",
            " [ 50   0   0   0]\n",
            " [ 38   0   0   0]]\n"
          ]
        }
      ]
    },
    {
      "cell_type": "code",
      "source": [
        "import matplotlib.pyplot as plt\n",
        "import seaborn as sns\n",
        "\n",
        "plt.figure(figsize=(8, 6))\n",
        "sns.heatmap(cm, annot=True, fmt=\"d\", cmap=\"Blues\", xticklabels=[str(i) for i in range(num_classes)], yticklabels=[str(i) for i in range(num_classes)])\n",
        "plt.title('Confusion Matrix')\n",
        "plt.xlabel('Predicted Label')\n",
        "plt.ylabel('True Label')\n",
        "plt.show()"
      ],
      "metadata": {
        "colab": {
          "base_uri": "https://localhost:8080/",
          "height": 564
        },
        "id": "DTsPFpiJwmfw",
        "outputId": "4dae042b-b130-4903-dd1d-fbb52dcb7c88"
      },
      "execution_count": 72,
      "outputs": [
        {
          "output_type": "display_data",
          "data": {
            "text/plain": [
              "<Figure size 800x600 with 2 Axes>"
            ],
            "image/png": "[encoded data removed]"
          },
          "metadata": {}
        }
      ]
    },
    {
      "cell_type": "code",
      "source": [
        "print(\"Unique classes in true labels:\", np.unique(true_classes))\n",
        "print(\"Unique classes in predicted labels:\", np.unique(predicted_classes))\n",
        "\n",
        "num_classes = len(np.unique(true_classes))"
      ],
      "metadata": {
        "colab": {
          "base_uri": "https://localhost:8080/"
        },
        "id": "l-nCrn9E1_uC",
        "outputId": "66a2c365-faba-406e-d686-28d53ae965a8"
      },
      "execution_count": 77,
      "outputs": [
        {
          "output_type": "stream",
          "name": "stdout",
          "text": [
            "Unique classes in true labels: [0 1 2 3]\n",
            "Unique classes in predicted labels: [0]\n"
          ]
        }
      ]
    },
    {
      "cell_type": "code",
      "source": [
        "target_names = [str(i) for i in range(num_classes)]\n",
        "\n",
        "report = classification_report(true_classes, predicted_classes, target_names=target_names)\n",
        "print(\"Classification Report:\")\n",
        "print(report)"
      ],
      "metadata": {
        "colab": {
          "base_uri": "https://localhost:8080/"
        },
        "id": "VRc1x_TN1ur5",
        "outputId": "66d823c0-37b3-41c1-d601-2afa4d0fed22"
      },
      "execution_count": 78,
      "outputs": [
        {
          "output_type": "stream",
          "name": "stdout",
          "text": [
            "Classification Report:\n",
            "              precision    recall  f1-score   support\n",
            "\n",
            "           0       0.80      1.00      0.89       458\n",
            "           1       0.00      0.00      0.00        30\n",
            "           2       0.00      0.00      0.00        50\n",
            "           3       0.00      0.00      0.00        38\n",
            "\n",
            "    accuracy                           0.80       576\n",
            "   macro avg       0.20      0.25      0.22       576\n",
            "weighted avg       0.63      0.80      0.70       576\n",
            "\n"
          ]
        },
        {
          "output_type": "stream",
          "name": "stderr",
          "text": [
            "/usr/local/lib/python3.11/dist-packages/sklearn/metrics/_classification.py:1565: UndefinedMetricWarning: Precision is ill-defined and being set to 0.0 in labels with no predicted samples. Use `zero_division` parameter to control this behavior.\n",
            "  _warn_prf(average, modifier, f\"{metric.capitalize()} is\", len(result))\n",
            "/usr/local/lib/python3.11/dist-packages/sklearn/metrics/_classification.py:1565: UndefinedMetricWarning: Precision is ill-defined and being set to 0.0 in labels with no predicted samples. Use `zero_division` parameter to control this behavior.\n",
            "  _warn_prf(average, modifier, f\"{metric.capitalize()} is\", len(result))\n",
            "/usr/local/lib/python3.11/dist-packages/sklearn/metrics/_classification.py:1565: UndefinedMetricWarning: Precision is ill-defined and being set to 0.0 in labels with no predicted samples. Use `zero_division` parameter to control this behavior.\n",
            "  _warn_prf(average, modifier, f\"{metric.capitalize()} is\", len(result))\n"
          ]
        }
      ]
    },
    {
      "cell_type": "markdown",
      "source": [
        "Here,\n",
        "'anger': 0\n",
        "'sad': 1\n",
        "'joy': 2\n",
        "'happy': 3"
      ],
      "metadata": {
        "id": "Gm6xC8FQ2bk8"
      }
    },
    {
      "cell_type": "markdown",
      "source": [
        "Save the trained Model"
      ],
      "metadata": {
        "id": "TyXJo38w5g8Z"
      }
    },
    {
      "cell_type": "code",
      "source": [
        "model.save('trained_model.keras')"
      ],
      "metadata": {
        "id": "egK6VB4M5mKH"
      },
      "execution_count": 84,
      "outputs": []
    }
  ]
}